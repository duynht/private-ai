{
  "nbformat": 4,
  "nbformat_minor": 0,
  "metadata": {
    "kernelspec": {
      "display_name": "Python 3",
      "language": "python",
      "name": "python3"
    },
    "language_info": {
      "codemirror_mode": {
        "name": "ipython",
        "version": 3
      },
      "file_extension": ".py",
      "mimetype": "text/x-python",
      "name": "python",
      "nbconvert_exporter": "python",
      "pygments_lexer": "ipython3",
      "version": "3.7.5"
    },
    "colab": {
      "name": "Section 1 - Differential Privacy.ipynb",
      "provenance": [],
      "include_colab_link": true
    },
    "accelerator": "GPU"
  },
  "cells": [
    {
      "cell_type": "markdown",
      "metadata": {
        "id": "view-in-github",
        "colab_type": "text"
      },
      "source": [
        "<a href=\"https://colab.research.google.com/github/duynht/private-ai/blob/master/Section%201%20-%20Differential%20Privacy.ipynb\" target=\"_parent\"><img src=\"https://colab.research.google.com/assets/colab-badge.svg\" alt=\"Open In Colab\"/></a>"
      ]
    },
    {
      "cell_type": "markdown",
      "metadata": {
        "id": "IvErIl_6yKVM"
      },
      "source": [
        "## Lesson: Toy Differential Privacy - Simple Database Queries"
      ]
    },
    {
      "cell_type": "markdown",
      "metadata": {
        "id": "5S5Vc23YyKVO"
      },
      "source": [
        "In this section we're going to play around with Differential Privacy in the context of a database query. The database is going to be a VERY simple database with only one boolean column. Each row corresponds to a person. Each value corresponds to whether or not that person has a certain private attribute (such as whether they have a certain disease, or whether they are above/below a certain age). We are then going to learn how to know whether a database query over such a small database is differentially private or not - and more importantly - what techniques are at our disposal to ensure various levels of privacy\n",
        "\n",
        "\n",
        "### First We Create a Simple Database\n",
        "\n",
        "Step one is to create our database - we're going to do this by initializing a random list of 1s and 0s (which are the entries in our database). Note - the number of entries directly corresponds to the number of people in our database."
      ]
    },
    {
      "cell_type": "code",
      "metadata": {
        "id": "yJNHOyagyKVP",
        "outputId": "a8fe74b1-22fb-47bc-efe5-15268144e24d"
      },
      "source": [
        "import torch\n",
        "\n",
        "# the number of entries in our database\n",
        "num_entries = 5000\n",
        "\n",
        "db = torch.rand(num_entries) > 0.5\n",
        "db"
      ],
      "execution_count": null,
      "outputs": [
        {
          "output_type": "execute_result",
          "data": {
            "text/plain": [
              "tensor([ True,  True,  True,  ..., False, False, False])"
            ]
          },
          "metadata": {
            "tags": []
          },
          "execution_count": 2
        }
      ]
    },
    {
      "cell_type": "markdown",
      "metadata": {
        "id": "MLlIGJizyKVW"
      },
      "source": [
        "## Project: Generate Parallel Databases\n",
        "\n",
        "Key to the definition of differenital privacy is the ability to ask the question \"When querying a database, if I removed someone from the database, would the output of the query be any different?\". Thus, in order to check this, we must construct what we term \"parallel databases\" which are simply databases with one entry removed. \n",
        "\n",
        "In this first project, I want you to create a list of every parallel database to the one currently contained in the \"db\" variable. Then, I want you to create a function which both:\n",
        "\n",
        "- creates the initial database (db)\n",
        "- creates all parallel databases"
      ]
    },
    {
      "cell_type": "code",
      "metadata": {
        "id": "fV9fgOJuyKVX",
        "outputId": "418b40eb-391f-42d9-c4b0-23d794487c6f"
      },
      "source": [
        "db = torch.rand(num_entries) > 0.5\n",
        "db"
      ],
      "execution_count": null,
      "outputs": [
        {
          "output_type": "execute_result",
          "data": {
            "text/plain": [
              "tensor([ True, False, False,  ..., False,  True, False])"
            ]
          },
          "metadata": {
            "tags": []
          },
          "execution_count": 3
        }
      ]
    },
    {
      "cell_type": "code",
      "metadata": {
        "id": "lqChknrtyKVb",
        "outputId": "4e9fe3c3-2041-4889-87a4-4c6d02f1eba3"
      },
      "source": [
        "db[0:5]"
      ],
      "execution_count": null,
      "outputs": [
        {
          "output_type": "execute_result",
          "data": {
            "text/plain": [
              "tensor([ True, False, False,  True,  True])"
            ]
          },
          "metadata": {
            "tags": []
          },
          "execution_count": 4
        }
      ]
    },
    {
      "cell_type": "code",
      "metadata": {
        "id": "hUPmKlSwyKVe"
      },
      "source": [
        "remove_index = 2"
      ],
      "execution_count": null,
      "outputs": []
    },
    {
      "cell_type": "code",
      "metadata": {
        "id": "g7vX5WfVyKVh"
      },
      "source": [
        "def get_parallel_db(db, remove_index):\n",
        "    \n",
        "    return torch.cat((db[0:remove_index],db[remove_index + 1:]))"
      ],
      "execution_count": null,
      "outputs": []
    },
    {
      "cell_type": "code",
      "metadata": {
        "id": "P4mhRPS3yKVk",
        "outputId": "50bc1aa0-1dce-40b6-cac6-fc061870b473"
      },
      "source": [
        "get_parallel_db(db, remove_index).shape"
      ],
      "execution_count": null,
      "outputs": [
        {
          "output_type": "execute_result",
          "data": {
            "text/plain": [
              "torch.Size([4999])"
            ]
          },
          "metadata": {
            "tags": []
          },
          "execution_count": 7
        }
      ]
    },
    {
      "cell_type": "code",
      "metadata": {
        "id": "ArGmifHGyKVo"
      },
      "source": [
        "def get_parallel_dbs(db):\n",
        "    \n",
        "    parallel_dbs = list()\n",
        "    \n",
        "    for i in range(len(db)):\n",
        "        pdb = get_parallel_db(db, i)\n",
        "        parallel_dbs.append(pdb)\n",
        "        \n",
        "    return parallel_dbs"
      ],
      "execution_count": null,
      "outputs": []
    },
    {
      "cell_type": "code",
      "metadata": {
        "id": "H6Op86gcyKVt"
      },
      "source": [
        "pdbs = get_parallel_dbs(db)"
      ],
      "execution_count": null,
      "outputs": []
    },
    {
      "cell_type": "code",
      "metadata": {
        "id": "AfN3b4mjyKVy"
      },
      "source": [
        "def create_db_and_parallels(num_entries):\n",
        "    \n",
        "    db = torch.rand(num_entries) > 0.5\n",
        "    pdbs = get_parallel_dbs(db)\n",
        "    \n",
        "    return db, pdbs"
      ],
      "execution_count": null,
      "outputs": []
    },
    {
      "cell_type": "code",
      "metadata": {
        "id": "BtXgxnR4yKV3"
      },
      "source": [
        "db, pdbs = create_db_and_parallels(20)"
      ],
      "execution_count": null,
      "outputs": []
    },
    {
      "cell_type": "code",
      "metadata": {
        "id": "w4tU70leyKV6",
        "outputId": "c1ea0638-698f-488a-d94d-9661747d8d43"
      },
      "source": [
        "db"
      ],
      "execution_count": null,
      "outputs": [
        {
          "output_type": "execute_result",
          "data": {
            "text/plain": [
              "tensor([ True,  True,  True, False, False, False,  True, False,  True,  True,\n",
              "         True,  True, False,  True, False,  True, False, False, False, False])"
            ]
          },
          "metadata": {
            "tags": []
          },
          "execution_count": 12
        }
      ]
    },
    {
      "cell_type": "code",
      "metadata": {
        "id": "zZCNu13yyKV-",
        "outputId": "c14bfa90-64b5-48d9-9709-885ce02ff17c"
      },
      "source": [
        "pdbs"
      ],
      "execution_count": null,
      "outputs": [
        {
          "output_type": "execute_result",
          "data": {
            "text/plain": [
              "[tensor([ True,  True, False, False, False,  True, False,  True,  True,  True,\n",
              "          True, False,  True, False,  True, False, False, False, False]),\n",
              " tensor([ True,  True, False, False, False,  True, False,  True,  True,  True,\n",
              "          True, False,  True, False,  True, False, False, False, False]),\n",
              " tensor([ True,  True, False, False, False,  True, False,  True,  True,  True,\n",
              "          True, False,  True, False,  True, False, False, False, False]),\n",
              " tensor([ True,  True,  True, False, False,  True, False,  True,  True,  True,\n",
              "          True, False,  True, False,  True, False, False, False, False]),\n",
              " tensor([ True,  True,  True, False, False,  True, False,  True,  True,  True,\n",
              "          True, False,  True, False,  True, False, False, False, False]),\n",
              " tensor([ True,  True,  True, False, False,  True, False,  True,  True,  True,\n",
              "          True, False,  True, False,  True, False, False, False, False]),\n",
              " tensor([ True,  True,  True, False, False, False, False,  True,  True,  True,\n",
              "          True, False,  True, False,  True, False, False, False, False]),\n",
              " tensor([ True,  True,  True, False, False, False,  True,  True,  True,  True,\n",
              "          True, False,  True, False,  True, False, False, False, False]),\n",
              " tensor([ True,  True,  True, False, False, False,  True, False,  True,  True,\n",
              "          True, False,  True, False,  True, False, False, False, False]),\n",
              " tensor([ True,  True,  True, False, False, False,  True, False,  True,  True,\n",
              "          True, False,  True, False,  True, False, False, False, False]),\n",
              " tensor([ True,  True,  True, False, False, False,  True, False,  True,  True,\n",
              "          True, False,  True, False,  True, False, False, False, False]),\n",
              " tensor([ True,  True,  True, False, False, False,  True, False,  True,  True,\n",
              "          True, False,  True, False,  True, False, False, False, False]),\n",
              " tensor([ True,  True,  True, False, False, False,  True, False,  True,  True,\n",
              "          True,  True,  True, False,  True, False, False, False, False]),\n",
              " tensor([ True,  True,  True, False, False, False,  True, False,  True,  True,\n",
              "          True,  True, False, False,  True, False, False, False, False]),\n",
              " tensor([ True,  True,  True, False, False, False,  True, False,  True,  True,\n",
              "          True,  True, False,  True,  True, False, False, False, False]),\n",
              " tensor([ True,  True,  True, False, False, False,  True, False,  True,  True,\n",
              "          True,  True, False,  True, False, False, False, False, False]),\n",
              " tensor([ True,  True,  True, False, False, False,  True, False,  True,  True,\n",
              "          True,  True, False,  True, False,  True, False, False, False]),\n",
              " tensor([ True,  True,  True, False, False, False,  True, False,  True,  True,\n",
              "          True,  True, False,  True, False,  True, False, False, False]),\n",
              " tensor([ True,  True,  True, False, False, False,  True, False,  True,  True,\n",
              "          True,  True, False,  True, False,  True, False, False, False]),\n",
              " tensor([ True,  True,  True, False, False, False,  True, False,  True,  True,\n",
              "          True,  True, False,  True, False,  True, False, False, False])]"
            ]
          },
          "metadata": {
            "tags": []
          },
          "execution_count": 13
        }
      ]
    },
    {
      "cell_type": "code",
      "metadata": {
        "id": "zT-Osud2yKWB",
        "outputId": "18e23220-9eb8-4855-da08-1fda970174e7"
      },
      "source": [
        "db.shape"
      ],
      "execution_count": null,
      "outputs": [
        {
          "output_type": "execute_result",
          "data": {
            "text/plain": [
              "torch.Size([20])"
            ]
          },
          "metadata": {
            "tags": []
          },
          "execution_count": 14
        }
      ]
    },
    {
      "cell_type": "markdown",
      "metadata": {
        "id": "Y-R0WyLoyKWE"
      },
      "source": [
        "# Lesson: Towards Evaluating The Differential Privacy of a Function\n",
        "\n",
        "Intuitively, we want to be able to query our database and evaluate whether or not the result of the query is leaking \"private\" information. As mentioned previously, this is about evaluating **whether the output of a query changes when we remove someone from the database**. Specifically, we want to evaluate the *maximum* amount the query changes when someone is removed (maximum over all possible people who could be removed). So, in order to evaluate how much privacy is leaked, we're going to iterate over each person in the database and measure the difference in the output of the query relative to when we query the entire database. \n",
        "\n",
        "Just for the sake of argument, let's make our first \"database query\" a simple sum. Aka, we're going to count the number of 1s in the database."
      ]
    },
    {
      "cell_type": "code",
      "metadata": {
        "id": "fGlKy6ROyKWF"
      },
      "source": [
        "db, pdbs = create_db_and_parallels(5000)"
      ],
      "execution_count": null,
      "outputs": []
    },
    {
      "cell_type": "code",
      "metadata": {
        "id": "yFKZZTkKyKWJ"
      },
      "source": [
        "def query(db):\n",
        "    return db.sum()"
      ],
      "execution_count": null,
      "outputs": []
    },
    {
      "cell_type": "code",
      "metadata": {
        "id": "mM71EvFSyKWO"
      },
      "source": [
        "full_db_result = query(db)"
      ],
      "execution_count": null,
      "outputs": []
    },
    {
      "cell_type": "code",
      "metadata": {
        "id": "hjRYQ123yKWT"
      },
      "source": [
        "sensitivity = 0\n",
        "for pdb in pdbs:\n",
        "    pdb_result = query(pdb)\n",
        "    \n",
        "    db_distance = torch.abs(pdb_result - full_db_result)\n",
        "    \n",
        "    if(db_distance > sensitivity):\n",
        "        sensitivity = db_distance"
      ],
      "execution_count": null,
      "outputs": []
    },
    {
      "cell_type": "code",
      "metadata": {
        "id": "uUe0vqcvyKWX",
        "outputId": "d9a37058-3c50-43dd-d18c-34b149c41752"
      },
      "source": [
        "sensitivity"
      ],
      "execution_count": null,
      "outputs": [
        {
          "output_type": "execute_result",
          "data": {
            "text/plain": [
              "tensor(1)"
            ]
          },
          "metadata": {
            "tags": []
          },
          "execution_count": 19
        }
      ]
    },
    {
      "cell_type": "markdown",
      "metadata": {
        "id": "2lHVrmH5yKWa"
      },
      "source": [
        "# Project - Evaluating the Privacy of a Function\n",
        "\n",
        "In the last section, we measured the difference between each parallel db's query result and the query result for the entire database and then calculated the max value (which was 1). **This value is called \"sensitivity\"**, and it corresponds to the function we chose for the query. Namely, the \"sum\" query will always have a sensitivity of exactly 1. However, we can also calculate sensitivity for other functions as well.\n",
        "\n",
        "Let's try to calculate sensitivity for the \"mean\" function."
      ]
    },
    {
      "cell_type": "code",
      "metadata": {
        "id": "Cf8FNDKoyKWa"
      },
      "source": [
        "def sensitivity(query, n_entries=1000):\n",
        "    \n",
        "    db, pdbs = create_db_and_parallels(n_entries)\n",
        "    \n",
        "    full_db_result = query(db)\n",
        "    \n",
        "    sensitivity = 0\n",
        "    for pdb in pdbs:\n",
        "        pdb_result = query(pdb)\n",
        "\n",
        "        db_distance = torch.abs(pdb_result - full_db_result)\n",
        "\n",
        "        if(db_distance > sensitivity):\n",
        "            sensitivity = db_distance\n",
        "    \n",
        "    return sensitivity"
      ],
      "execution_count": null,
      "outputs": []
    },
    {
      "cell_type": "code",
      "metadata": {
        "id": "wabfm3pryKWd"
      },
      "source": [
        "def query(db):\n",
        "    return db.float().mean()"
      ],
      "execution_count": null,
      "outputs": []
    },
    {
      "cell_type": "code",
      "metadata": {
        "id": "1SaU8pNLyKWf",
        "outputId": "c4914fe0-9679-4eea-8e8b-10fd67060dcd"
      },
      "source": [
        "sensitivity(query)"
      ],
      "execution_count": null,
      "outputs": [
        {
          "output_type": "execute_result",
          "data": {
            "text/plain": [
              "tensor(0.0005)"
            ]
          },
          "metadata": {
            "tags": []
          },
          "execution_count": 22
        }
      ]
    },
    {
      "cell_type": "code",
      "metadata": {
        "id": "mEAfQVncyKWh"
      },
      "source": [
        "db, pdbs = create_db_and_parallels(20)"
      ],
      "execution_count": null,
      "outputs": []
    },
    {
      "cell_type": "code",
      "metadata": {
        "id": "TaQudEahyKWj",
        "outputId": "69f4e8c8-05a2-4222-bea5-c668172c35c5"
      },
      "source": [
        "db"
      ],
      "execution_count": null,
      "outputs": [
        {
          "output_type": "execute_result",
          "data": {
            "text/plain": [
              "tensor([False,  True,  True, False,  True, False, False,  True,  True,  True,\n",
              "        False, False,  True, False,  True,  True, False, False, False, False])"
            ]
          },
          "metadata": {
            "tags": []
          },
          "execution_count": 24
        }
      ]
    },
    {
      "cell_type": "markdown",
      "metadata": {
        "id": "F3wK1McQyKWm"
      },
      "source": [
        "*Notes:* The notion of sensitivity is used to evaluate if the result of a query is truly the aggregation of information rather than **using** actual information of individuals"
      ]
    },
    {
      "cell_type": "markdown",
      "metadata": {
        "id": "f0-JJcV8yKWm"
      },
      "source": [
        "Wow! That sensitivity is WAY lower. Note the intuition here. \"Sensitivity\" is measuring how sensitive the output of the query is to a person being removed from the database. For a simple sum, this is always 1, but for the mean, removing a person is going to change the result of the query by rougly 1 divided by the size of the database (which is much smaller). Thus, \"mean\" is a VASTLY less \"sensitive\" function (query) than SUM."
      ]
    },
    {
      "cell_type": "markdown",
      "metadata": {
        "id": "XkFtymkbyKWn"
      },
      "source": [
        "# Project: Calculate L1 Sensitivity For Threshold\n",
        "\n",
        "In this first project, I want you to calculate the sensitivty for the \"threshold\" function. \n",
        "\n",
        "- First compute the sum over the database (i.e. sum(db)) and return whether that sum is greater than a certain threshold.\n",
        "- Then, I want you to create databases of size 10 and threshold of 5 and calculate the sensitivity of the function. \n",
        "- Finally, re-initialize the database 10 times and calculate the sensitivity each time."
      ]
    },
    {
      "cell_type": "code",
      "metadata": {
        "id": "Nksw6QSXyKWn"
      },
      "source": [
        "def query(db, threshold=5):    \n",
        "    return (db.sum() > threshold).float()"
      ],
      "execution_count": null,
      "outputs": []
    },
    {
      "cell_type": "code",
      "metadata": {
        "id": "fDJ1u92syKWr",
        "outputId": "dda3aa19-f392-45c6-b404-bf1627bc5e46"
      },
      "source": [
        "for i in range(10):    \n",
        "    sens_f = sensitivity(query, n_entries=10)\n",
        "    print(sens_f)"
      ],
      "execution_count": null,
      "outputs": [
        {
          "output_type": "stream",
          "text": [
            "tensor(1.)\n",
            "0\n",
            "0\n",
            "0\n",
            "tensor(1.)\n",
            "0\n",
            "0\n",
            "tensor(1.)\n",
            "0\n",
            "tensor(1.)\n"
          ],
          "name": "stdout"
        }
      ]
    },
    {
      "cell_type": "markdown",
      "metadata": {
        "id": "4jOVwil8yKWv"
      },
      "source": [
        "# Lesson: A Basic Differencing Attack\n",
        "\n",
        "Sadly none of the functions we've looked at so far are differentially private (despite them having varying levels of sensitivity). The most basic type of attack can be done as follows.\n",
        "\n",
        "Let's say we wanted to figure out a specific person's value in the database. All we would have to do is query for the sum of the entire database and then the sum of the entire database without that person!\n",
        "\n",
        "# Project: Perform a Differencing Attack on Row 10\n",
        "\n",
        "In this project, I want you to construct a database and then demonstrate how you can use two different sum queries to explose the value of the person represented by row 10 in the database (note, you'll need to use a database with at least 10 rows)"
      ]
    },
    {
      "cell_type": "code",
      "metadata": {
        "id": "W9l_q6C-yKWw"
      },
      "source": [
        "db, _ = create_db_and_parallels(100)"
      ],
      "execution_count": null,
      "outputs": []
    },
    {
      "cell_type": "code",
      "metadata": {
        "id": "te9sDJiDyKWy",
        "outputId": "42cc79a5-c219-4adf-8d61-778bef3341fa"
      },
      "source": [
        "db"
      ],
      "execution_count": null,
      "outputs": [
        {
          "output_type": "execute_result",
          "data": {
            "text/plain": [
              "tensor([False,  True, False, False,  True,  True, False,  True,  True,  True,\n",
              "        False,  True,  True, False,  True, False,  True,  True,  True, False,\n",
              "         True,  True,  True, False, False, False, False,  True, False,  True,\n",
              "        False, False, False, False, False,  True,  True,  True,  True,  True,\n",
              "         True, False, False,  True, False, False,  True,  True,  True,  True,\n",
              "         True, False,  True,  True,  True, False, False,  True,  True,  True,\n",
              "        False,  True, False,  True, False,  True, False, False,  True,  True,\n",
              "        False, False, False,  True, False,  True,  True,  True,  True,  True,\n",
              "         True,  True,  True, False,  True,  True,  True,  True,  True,  True,\n",
              "         True, False, False,  True, False, False, False, False, False,  True])"
            ]
          },
          "metadata": {
            "tags": []
          },
          "execution_count": 28
        }
      ]
    },
    {
      "cell_type": "code",
      "metadata": {
        "id": "rkIifyKUyKW0"
      },
      "source": [
        "pdb = get_parallel_db(db, remove_index=10)"
      ],
      "execution_count": null,
      "outputs": []
    },
    {
      "cell_type": "code",
      "metadata": {
        "id": "cKP-YS3tyKW3",
        "outputId": "05aefab5-f4a8-48f1-b980-3697283a6aba"
      },
      "source": [
        "db[10]"
      ],
      "execution_count": null,
      "outputs": [
        {
          "output_type": "execute_result",
          "data": {
            "text/plain": [
              "tensor(False)"
            ]
          },
          "metadata": {
            "tags": []
          },
          "execution_count": 30
        }
      ]
    },
    {
      "cell_type": "code",
      "metadata": {
        "id": "0IJ0rv-xyKW7",
        "outputId": "d1980553-7577-4b1f-c1f7-715704d94a60"
      },
      "source": [
        "# differecing attack using sum query\n",
        "sum(db) - sum(pdb)"
      ],
      "execution_count": null,
      "outputs": [
        {
          "output_type": "execute_result",
          "data": {
            "text/plain": [
              "tensor(0)"
            ]
          },
          "metadata": {
            "tags": []
          },
          "execution_count": 31
        }
      ]
    },
    {
      "cell_type": "code",
      "metadata": {
        "id": "dtzEdlagyKW9",
        "outputId": "2549f21f-adb5-4b24-b9cd-137a1a64f69b"
      },
      "source": [
        "# differecing attack using mean query\n",
        "(sum(db).float() / len(db)) - (sum(pdb).float() / len(pdb))"
      ],
      "execution_count": null,
      "outputs": [
        {
          "output_type": "execute_result",
          "data": {
            "text/plain": [
              "tensor(-0.0059)"
            ]
          },
          "metadata": {
            "tags": []
          },
          "execution_count": 32
        }
      ]
    },
    {
      "cell_type": "code",
      "metadata": {
        "id": "GvtJdKUSyKXA",
        "outputId": "a5ced33c-9179-460a-8011-cd643d5becdd"
      },
      "source": [
        "# differecing attack using threshold\n",
        "(sum(db) > 49).float() - (sum(pdb) > 49).float()"
      ],
      "execution_count": null,
      "outputs": [
        {
          "output_type": "execute_result",
          "data": {
            "text/plain": [
              "tensor(0.)"
            ]
          },
          "metadata": {
            "tags": []
          },
          "execution_count": 33
        }
      ]
    },
    {
      "cell_type": "markdown",
      "metadata": {
        "id": "9_TXJlK5yKXC"
      },
      "source": [
        "# Project: Local Differential Privacy\n",
        "\n",
        "As you can see, the basic sum query is not differentially private at all! In truth, differential privacy always requires a form of randomness added to the query. Let me show you what I mean.\n",
        "\n",
        "### Randomized Response (Local Differential Privacy)\n",
        "\n",
        "Let's say I have a group of people I wish to survey about a very taboo behavior which I think they will lie about (say, I want to know if they have ever committed a certain kind of crime). I'm not a policeman, I'm just trying to collect statistics to understand the higher level trend in society. So, how do we do this? One technique is to add randomness to each person's response by giving each person the following instructions (assuming I'm asking a simple yes/no question):\n",
        "\n",
        "- Flip a coin 2 times.\n",
        "- If the first coin flip is heads, answer honestly\n",
        "- If the first coin flip is tails, answer according to the second coin flip (heads for yes, tails for no)!\n",
        "\n",
        "Thus, each person is now protected with \"plausible deniability\". If they answer \"Yes\" to the question \"have you committed X crime?\", then it might becasue they actually did, or it might be becasue they are answering according to a random coin flip. Each person has a high degree of protection. Furthermore, we can recover the underlying statistics with some accuracy, as the \"true statistics\" are simply averaged with a 50% probability. Thus, if we collect a bunch of samples and it turns out that 60% of people answer yes, then we know that the TRUE distribution is actually centered around 70%, because 70% averaged wtih 50% (a coin flip) is 60% which is the result we obtained. \n",
        "\n",
        "However, it should be noted that, especially when we only have a few samples, this comes at the cost of accuracy. This tradeoff exists across all of Differential Privacy. The greater the privacy protection (plausible deniability) the less accurate the results. \n",
        "\n",
        "Let's implement this local DP for our database before!"
      ]
    },
    {
      "cell_type": "code",
      "metadata": {
        "id": "hgLjhWQvyKXC"
      },
      "source": [
        "db, pdbs = create_db_and_parallels(100)"
      ],
      "execution_count": null,
      "outputs": []
    },
    {
      "cell_type": "code",
      "metadata": {
        "id": "9XGhoN9yyKXF",
        "outputId": "62148e7f-63f4-436f-dd3f-31e8ed7c4cb0"
      },
      "source": [
        "# actual values from people\n",
        "db"
      ],
      "execution_count": null,
      "outputs": [
        {
          "output_type": "execute_result",
          "data": {
            "text/plain": [
              "tensor([ True, False, False, False,  True,  True,  True, False, False,  True,\n",
              "        False,  True,  True,  True,  True,  True, False, False, False,  True,\n",
              "        False, False, False, False,  True, False,  True,  True, False, False,\n",
              "         True, False,  True,  True, False,  True, False, False,  True, False,\n",
              "        False, False, False,  True, False, False,  True, False,  True, False,\n",
              "        False, False,  True,  True, False,  True, False,  True,  True,  True,\n",
              "        False,  True, False, False,  True, False,  True,  True, False,  True,\n",
              "         True, False,  True,  True, False,  True, False,  True, False, False,\n",
              "        False,  True, False,  True, False,  True,  True, False, False, False,\n",
              "        False, False,  True, False, False, False,  True, False, False,  True])"
            ]
          },
          "metadata": {
            "tags": []
          },
          "execution_count": 35
        }
      ]
    },
    {
      "cell_type": "code",
      "metadata": {
        "id": "GpqExzZ9yKXH"
      },
      "source": [
        "def query(db):\n",
        "    \n",
        "    true_result = torch.mean(db.float())\n",
        "    \n",
        "    first_coin_flip = (torch.rand(len(db)) > 0.5).float()\n",
        "    second_coin_flip = (torch.rand(len(db)) > 0.5).float()\n",
        "    \n",
        "    augmented_database = db.float() * first_coin_flip + (1 - first_coin_flip) * second_coin_flip\n",
        "    \n",
        "    db_result = torch.mean(augmented_database.float()) * 2 - 0.5\n",
        "    \n",
        "    return db_result, true_result"
      ],
      "execution_count": null,
      "outputs": []
    },
    {
      "cell_type": "code",
      "metadata": {
        "id": "-ABkrBlFyKXN",
        "outputId": "aeca19a6-af86-452c-d441-a4bcb89d47b9"
      },
      "source": [
        "db, pdbs = create_db_and_parallels(10)\n",
        "private_result, true_result = query(db)\n",
        "print(\"With noise:\" + str(private_result))\n",
        "print(\"Without noise:\" + str(true_result))"
      ],
      "execution_count": null,
      "outputs": [
        {
          "output_type": "stream",
          "text": [
            "With noise:tensor(0.7000)\n",
            "Without noise:tensor(0.6000)\n"
          ],
          "name": "stdout"
        }
      ]
    },
    {
      "cell_type": "code",
      "metadata": {
        "id": "GawF37I6yKXU",
        "outputId": "4c7499d9-a737-4a46-a9f2-b95bbde7dcdf"
      },
      "source": [
        "db, pdbs = create_db_and_parallels(100)\n",
        "private_result, true_result = query(db)\n",
        "print(\"With noise:\" + str(private_result))\n",
        "print(\"Without noise:\" + str(true_result))"
      ],
      "execution_count": null,
      "outputs": [
        {
          "output_type": "stream",
          "text": [
            "With noise:tensor(0.5200)\n",
            "Without noise:tensor(0.4900)\n"
          ],
          "name": "stdout"
        }
      ]
    },
    {
      "cell_type": "code",
      "metadata": {
        "id": "0s-nh3_qyKXY",
        "outputId": "c142af25-6747-4b31-fde5-c74b0261ad17"
      },
      "source": [
        "db, pdbs = create_db_and_parallels(1000)\n",
        "private_result, true_result = query(db)\n",
        "print(\"With noise:\" + str(private_result))\n",
        "print(\"Without noise:\" + str(true_result))"
      ],
      "execution_count": null,
      "outputs": [
        {
          "output_type": "stream",
          "text": [
            "With noise:tensor(0.5060)\n",
            "Without noise:tensor(0.4890)\n"
          ],
          "name": "stdout"
        }
      ]
    },
    {
      "cell_type": "code",
      "metadata": {
        "id": "uETCEBDKyKXb",
        "outputId": "bb453534-f3bd-45fc-e184-fd37d86d2352"
      },
      "source": [
        "db, pdbs = create_db_and_parallels(10000)\n",
        "private_result, true_result = query(db)\n",
        "print(\"With noise:\" + str(private_result))\n",
        "print(\"Without noise:\" + str(true_result))"
      ],
      "execution_count": null,
      "outputs": [
        {
          "output_type": "stream",
          "text": [
            "With noise:tensor(0.5060)\n",
            "Without noise:tensor(0.5001)\n"
          ],
          "name": "stdout"
        }
      ]
    },
    {
      "cell_type": "markdown",
      "metadata": {
        "id": "lCNO2y-zyKXh"
      },
      "source": [
        "# Project: Varying Amounts of Noise\n",
        "\n",
        "In this project, I want you to augment the randomized response query (the one we just wrote) to allow for varying amounts of randomness to be added. Specifically, I want you to bias the coin flip to be higher or lower and then run the same experiment. \n",
        "\n",
        "Note - this one is a bit tricker than you might expect. You need to both adjust the likelihood of the first coin flip AND the de-skewing at the end (where we create the \"augmented_result\" variable)."
      ]
    },
    {
      "cell_type": "code",
      "metadata": {
        "id": "INESGcDgyKXi"
      },
      "source": [
        "def query(db, noise=0.2):\n",
        "\n",
        "    true_result = torch.mean(db.float())\n",
        "\n",
        "    first_coin_flip = (torch.rand(len(db)) > noise).float()\n",
        "    second_coin_flip = (torch.rand(len(db)) > 0.5).float()\n",
        "\n",
        "    augmented_database = db.float() * first_coin_flip + (1 - first_coin_flip) * second_coin_flip\n",
        "    \n",
        "#     true_dist_mean = 0.7 # 70% of people said YES\n",
        "#     noise_dist_mean = 0.5 # 50/50 coin flip\n",
        "#     augmented_database_mean = (true_dist_mean * noise) + (noise_dist_mean * (1 - noise))\n",
        "\n",
        "    sk_result = augmented_database.float().mean()\n",
        "\n",
        "    private_result = ((sk_result / noise) - 0.5) * noise / (1 - noise)\n",
        "\n",
        "    return private_result, true_result"
      ],
      "execution_count": null,
      "outputs": []
    },
    {
      "cell_type": "code",
      "metadata": {
        "id": "j0yDxiYCyKXm",
        "outputId": "f0990b08-9c74-4ccd-c536-dc3ee496e78f"
      },
      "source": [
        "db, pdbs = create_db_and_parallels(100)\n",
        "private_result, true_result = query(db, noise=0.1)\n",
        "print(\"With noise:\" + str(private_result))\n",
        "print(\"Without noise:\" + str(true_result))"
      ],
      "execution_count": null,
      "outputs": [
        {
          "output_type": "stream",
          "text": [
            "With noise:tensor(0.5444)\n",
            "Without noise:tensor(0.5100)\n"
          ],
          "name": "stdout"
        }
      ]
    },
    {
      "cell_type": "code",
      "metadata": {
        "id": "PUIKHTShyKXp",
        "outputId": "6486b726-2158-4305-d1f5-c01a4fd8dbdb"
      },
      "source": [
        "db, pdbs = create_db_and_parallels(100)\n",
        "private_result, true_result = query(db, noise=0.2)\n",
        "print(\"With noise:\" + str(private_result))\n",
        "print(\"Without noise:\" + str(true_result))"
      ],
      "execution_count": null,
      "outputs": [
        {
          "output_type": "stream",
          "text": [
            "With noise:tensor(0.5375)\n",
            "Without noise:tensor(0.5200)\n"
          ],
          "name": "stdout"
        }
      ]
    },
    {
      "cell_type": "code",
      "metadata": {
        "id": "R2hwxIQSyKXu",
        "outputId": "17b861b5-a25c-4ab3-cc9f-2685aeac8b3c"
      },
      "source": [
        "db, pdbs = create_db_and_parallels(100)\n",
        "private_result, true_result = query(db, noise=0.4)\n",
        "print(\"With noise:\" + str(private_result))\n",
        "print(\"Without noise:\" + str(true_result))"
      ],
      "execution_count": null,
      "outputs": [
        {
          "output_type": "stream",
          "text": [
            "With noise:tensor(0.4667)\n",
            "Without noise:tensor(0.5400)\n"
          ],
          "name": "stdout"
        }
      ]
    },
    {
      "cell_type": "code",
      "metadata": {
        "id": "EZkPDigOyKXy",
        "outputId": "b361594a-50ca-499c-ab67-b4b0f9b0b8e3"
      },
      "source": [
        "db, pdbs = create_db_and_parallels(1000)\n",
        "private_result, true_result = query(db, noise=0.4)\n",
        "print(\"With noise:\" + str(private_result))\n",
        "print(\"Without noise:\" + str(true_result))"
      ],
      "execution_count": null,
      "outputs": [
        {
          "output_type": "stream",
          "text": [
            "With noise:tensor(0.5017)\n",
            "Without noise:tensor(0.5280)\n"
          ],
          "name": "stdout"
        }
      ]
    },
    {
      "cell_type": "code",
      "metadata": {
        "id": "qSQ4JJtuyKX3",
        "outputId": "761ce2d2-244e-4420-d5ba-e8405fa7565f"
      },
      "source": [
        "db, pdbs = create_db_and_parallels(1000)\n",
        "private_result, true_result = query(db, noise=0.8)\n",
        "print(\"With noise:\" + str(private_result))\n",
        "print(\"Without noise:\" + str(true_result))"
      ],
      "execution_count": null,
      "outputs": [
        {
          "output_type": "stream",
          "text": [
            "With noise:tensor(0.4750)\n",
            "Without noise:tensor(0.4930)\n"
          ],
          "name": "stdout"
        }
      ]
    },
    {
      "cell_type": "code",
      "metadata": {
        "id": "OjlgMJhQyKX6",
        "outputId": "721b3d67-7758-4b0b-969d-0f99e5d71904"
      },
      "source": [
        "db, pdbs = create_db_and_parallels(10000)\n",
        "private_result, true_result = query(db, noise=0.2)\n",
        "print(\"With noise:\" + str(private_result))\n",
        "print(\"Without noise:\" + str(true_result))"
      ],
      "execution_count": null,
      "outputs": [
        {
          "output_type": "stream",
          "text": [
            "With noise:tensor(0.4976)\n",
            "Without noise:tensor(0.4966)\n"
          ],
          "name": "stdout"
        }
      ]
    },
    {
      "cell_type": "code",
      "metadata": {
        "id": "ACi6oHKqyKX8",
        "outputId": "6351a25f-56ca-4f9f-c2a8-93b7ec0227b8"
      },
      "source": [
        "db, pdbs = create_db_and_parallels(10000)\n",
        "private_result, true_result = query(db, noise=0.4)\n",
        "print(\"With noise:\" + str(private_result))\n",
        "print(\"Without noise:\" + str(true_result))"
      ],
      "execution_count": null,
      "outputs": [
        {
          "output_type": "stream",
          "text": [
            "With noise:tensor(0.5045)\n",
            "Without noise:tensor(0.5005)\n"
          ],
          "name": "stdout"
        }
      ]
    },
    {
      "cell_type": "code",
      "metadata": {
        "id": "ikVTD-FAyKX-",
        "outputId": "c18430f6-3d30-4f58-8a6f-a4fa851abd87"
      },
      "source": [
        "db, pdbs = create_db_and_parallels(10000)\n",
        "private_result, true_result = query(db, noise=0.8)\n",
        "print(\"With noise:\" + str(private_result))\n",
        "print(\"Without noise:\" + str(true_result))"
      ],
      "execution_count": null,
      "outputs": [
        {
          "output_type": "stream",
          "text": [
            "With noise:tensor(0.4945)\n",
            "Without noise:tensor(0.4994)\n"
          ],
          "name": "stdout"
        }
      ]
    },
    {
      "cell_type": "markdown",
      "metadata": {
        "id": "zlJz1pa0yKX_"
      },
      "source": [
        "*Notes:* The more *private* data you have access to, the easier it is to preserve the privacy"
      ]
    },
    {
      "cell_type": "markdown",
      "metadata": {
        "id": "dxBt7ub7yKYA"
      },
      "source": [
        "*Notes:* Differential Privacy is a complex filter that looks for information consistent across different data points, hence it is impossible to leak **unique** information."
      ]
    },
    {
      "cell_type": "markdown",
      "metadata": {
        "id": "eMMb8090yKYA"
      },
      "source": [
        "# Lesson: The Formal Definition of Differential Privacy\n",
        "\n",
        "The previous method of adding noise was called \"Local Differentail Privacy\" because we added noise to each datapoint individually. This is necessary for some situations wherein the data is SO sensitive that individuals do not trust noise to be added later. However, it comes at a very high cost in terms of accuracy. \n",
        "\n",
        "However, alternatively we can add noise AFTER data has been aggregated by a function. This kind of noise can allow for similar levels of protection with a lower affect on accuracy. However, participants must be able to trust that no-one looked at their datapoints _before_ the aggregation took place. In some situations this works out well, in others (such as an individual hand-surveying a group of people), this is less realistic.\n",
        "\n",
        "Nevertheless, global differential privacy is incredibly important because it allows us to perform differential privacy on smaller groups of individuals with lower amounts of noise. Let's revisit our sum functions."
      ]
    },
    {
      "cell_type": "code",
      "metadata": {
        "id": "WyB5WJ44yKYA",
        "outputId": "7b447732-738a-4684-e9bd-c8c02de7b0ed"
      },
      "source": [
        "db, pdbs = create_db_and_parallels(100)\n",
        "\n",
        "def query(db):\n",
        "    return torch.sum(db.float())\n",
        "\n",
        "def M(db):\n",
        "    query(db) + noise\n",
        "\n",
        "query(db)"
      ],
      "execution_count": null,
      "outputs": [
        {
          "output_type": "execute_result",
          "data": {
            "text/plain": [
              "tensor(40.)"
            ]
          },
          "metadata": {
            "tags": []
          },
          "execution_count": 40
        }
      ]
    },
    {
      "cell_type": "markdown",
      "metadata": {
        "id": "lmJENSgOyKYD"
      },
      "source": [
        "So the idea here is that we want to add noise to the output of our function. We actually have two different kinds of noise we can add - Laplacian Noise or Gaussian Noise. However, before we do so at this point we need to dive into the formal definition of Differential Privacy.\n",
        "\n",
        "![alt text](dp_formula.png \"Title\")"
      ]
    },
    {
      "cell_type": "markdown",
      "metadata": {
        "id": "whcY3zUsyKYD"
      },
      "source": [
        "_Image From: \"The Algorithmic Foundations of Differential Privacy\" - Cynthia Dwork and Aaron Roth - https://www.cis.upenn.edu/~aaroth/Papers/privacybook.pdf_"
      ]
    },
    {
      "cell_type": "markdown",
      "metadata": {
        "id": "BbyW9PsDyKYF"
      },
      "source": [
        "This definition does not _create_ differential privacy, instead it is a measure of how much privacy is afforded by a query M. Specifically, it's a comparison between running the query M on a database (x) and a parallel database (y). As you remember, parallel databases are defined to be the same as a full database (x) with one entry/person removed.\n",
        "\n",
        "Thus, this definition says that FOR ALL parallel databases, the maximum distance between a query on database (x) and the same query on database (y) will be e^epsilon, but that occasionally this constraint won't hold with probability delta. Thus, this theorem is called \"epsilon delta\" differential privacy.\n",
        "\n",
        "# Epsilon\n",
        "\n",
        "Let's unpack the intuition of this for a moment. \n",
        "\n",
        "Epsilon Zero: If a query satisfied this inequality where epsilon was set to 0, then that would mean that the query for all parallel databases outputed the exact same value as the full database. As you may remember, when we calculated the \"threshold\" function, often the Sensitivity was 0. In that case, the epsilon also happened to be zero.\n",
        "\n",
        "Epsilon One: If a query satisfied this inequality with epsilon 1, then the maximum distance between all queries would be 1 - or more precisely - the maximum distance between the two random distributions M(x) and M(y) is 1 (because all these queries have some amount of randomness in them, just like we observed in the last section).\n",
        "\n",
        "# Delta\n",
        "\n",
        "Delta is basically the probability that epsilon breaks. Namely, sometimes the epsilon is different for some queries than it is for others. For example, you may remember when we were calculating the sensitivity of threshold, most of the time sensitivity was 0 but sometimes it was 1. Thus, we could calculate this as \"epsilon zero but non-zero delta\" which would say that epsilon is perfect except for some probability of the time when it's arbitrarily higher. Note that this expression doesn't represent the full tradeoff between epsilon and delta."
      ]
    },
    {
      "cell_type": "markdown",
      "metadata": {
        "id": "l0uuuLY6yKYG"
      },
      "source": [
        "# Lesson: How To Add Noise for Global Differential Privacy\n",
        "\n",
        "In this lesson, we're going to learn about how to take a query and add varying amounts of noise so that it satisfies a certain degree of differential privacy. In particular, we're going to leave behind the Local Differential privacy previously discussed and instead opt to focus on Global differential privacy. \n",
        "\n",
        "So, to sum up, this lesson is about adding noise to the output of our query so that it satisfies a certain epsilon-delta differential privacy threshold.\n",
        "\n",
        "There are two kinds of noise we can add - Gaussian Noise or Laplacian Noise. Generally speaking Laplacian is better, but both are still valid. Now to the hard question...\n",
        "\n",
        "### How much noise should we add?\n",
        "\n",
        "The amount of noise necessary to add to the output of a query is a function of four things:\n",
        "\n",
        "- the type of noise (Gaussian/Laplacian)\n",
        "- the sensitivity of the query/function\n",
        "- the desired epsilon (ε)\n",
        "- the desired delta (δ)\n",
        "\n",
        "Thus, for each type of noise we're adding, we have different way of calculating how much to add as a function of sensitivity, epsilon, and delta. We're going to focus on Laplacian noise. Laplacian noise is increased/decreased according to a \"scale\" parameter b. We choose \"b\" based on the following formula.\n",
        "\n",
        "b = sensitivity(query) / epsilon\n",
        "\n",
        "In other words, if we set b to be this value, then we know that we will have a privacy leakage of <= epsilon. Furthermore, the nice thing about Laplace is that it guarantees this with delta == 0. There are some tunings where we can have very low epsilon where delta is non-zero, but we'll ignore them for now.\n",
        "\n",
        "### Querying Repeatedly\n",
        "\n",
        "- if we query the database multiple times - we can simply add the epsilons (Even if we change the amount of noise and their epsilons are not the same)."
      ]
    },
    {
      "cell_type": "markdown",
      "metadata": {
        "id": "IZtoYg_ByKYH"
      },
      "source": [
        "# Project: Create a Differentially Private Query\n",
        "\n",
        "In this project, I want you to take what you learned in the previous lesson and create a query function which sums over the database and adds just the right amount of noise such that it satisfies an epsilon constraint. Write a query for both \"sum\" and for \"mean\". Ensure that you use the correct sensitivity measures for both."
      ]
    },
    {
      "cell_type": "code",
      "metadata": {
        "id": "YmJ66815yKYH"
      },
      "source": [
        "epsilon = 0.0001"
      ],
      "execution_count": null,
      "outputs": []
    },
    {
      "cell_type": "code",
      "metadata": {
        "id": "LCtDWiwdyKYN"
      },
      "source": [
        "import numpy as np"
      ],
      "execution_count": null,
      "outputs": []
    },
    {
      "cell_type": "code",
      "metadata": {
        "id": "nsiv67ReyKYS"
      },
      "source": [
        "db, pdbs = create_db_and_parallels(100)"
      ],
      "execution_count": null,
      "outputs": []
    },
    {
      "cell_type": "code",
      "metadata": {
        "id": "2BSvOReyyKYW"
      },
      "source": [
        "def sum_query(db):\n",
        "    return db.sum()"
      ],
      "execution_count": null,
      "outputs": []
    },
    {
      "cell_type": "code",
      "metadata": {
        "id": "-15EFwYRyKYe"
      },
      "source": [
        "def mean_query(db):\n",
        "    return db.float().mean()"
      ],
      "execution_count": null,
      "outputs": []
    },
    {
      "cell_type": "code",
      "metadata": {
        "id": "5-BHG5kByKYi"
      },
      "source": [
        "def laplacian_mechanism(db, query, sensitivity):\n",
        "    \n",
        "    beta = sensitivity / epsilon\n",
        "    noise = torch.tensor(np.random.laplace(0, beta, 1))\n",
        "    \n",
        "    return query(db) + noise"
      ],
      "execution_count": null,
      "outputs": []
    },
    {
      "cell_type": "code",
      "metadata": {
        "id": "v98uapnUyKYl",
        "outputId": "0f350371-0346-4108-d4ad-950b84f67afa"
      },
      "source": [
        "laplacian_mechanism(db, sum_query, 1)"
      ],
      "execution_count": null,
      "outputs": [
        {
          "output_type": "execute_result",
          "data": {
            "text/plain": [
              "tensor([-25929.1468], dtype=torch.float64)"
            ]
          },
          "metadata": {
            "tags": []
          },
          "execution_count": 173
        }
      ]
    },
    {
      "cell_type": "code",
      "metadata": {
        "id": "3_9ZTWuUyKYp",
        "outputId": "1fa6ae85-d718-4d04-efa3-a95058f0d358"
      },
      "source": [
        "laplacian_mechanism(db, mean_query, 1/100)"
      ],
      "execution_count": null,
      "outputs": [
        {
          "output_type": "execute_result",
          "data": {
            "text/plain": [
              "tensor([129.9379], dtype=torch.float64)"
            ]
          },
          "metadata": {
            "tags": []
          },
          "execution_count": 175
        }
      ]
    },
    {
      "cell_type": "markdown",
      "metadata": {
        "id": "ikcZ3IqEyKYt"
      },
      "source": [
        "# Lesson: Differential Privacy for Deep Learning\n",
        "\n",
        "So in the last lessons you may have been wondering - what does all of this have to do with Deep Learning? Well, these same techniques we were just studying form the core primitives for how Differential Privacy provides guarantees in the context of Deep Learning. \n",
        "\n",
        "Previously, we defined perfect privacy as \"a query to a database returns the same value even if we remove any person from the database\", and used this intuition in the description of epsilon/delta. In the context of deep learning we have a similar standard.\n",
        "\n",
        "Training a model on a dataset should return the same model even if we remove any person from the dataset.\n",
        "\n",
        "Thus, we've replaced \"querying a database\" with \"training a model on a dataset\". In essence, the training process is a kind of query. However, one should note that this adds two points of complexity which database queries did not have:\n",
        "\n",
        "    1. do we always know where \"people\" are referenced in the dataset?\n",
        "    2. neural models rarely never train to the same output model, even on identical data\n",
        "\n",
        "The answer to (1) is to treat each training example as a single, separate person. Strictly speaking, this is often overly zealous as some training examples have no relevance to people and others may have multiple/partial (consider an image with multiple people contained within it). Thus, localizing exactly where \"people\" are referenced, and thus how much your model would change if people were removed, is challenging.\n",
        "\n",
        "The answer to (2) is also an open problem - but several interesitng proposals have been made. We're going to focus on one of the most popular proposals, PATE.\n",
        "\n",
        "## An Example Scenario: A Health Neural Network\n",
        "\n",
        "First we're going to consider a scenario - you work for a hospital and you have a large collection of images about your patients. However, you don't know what's in them. You would like to use these images to develop a neural network which can automatically classify them, however since your images aren't labeled, they aren't sufficient to train a classifier. \n",
        "\n",
        "However, being a cunning strategist, you realize that you can reach out to 10 partner hospitals which DO have annotated data. It is your hope to train your new classifier on their datasets so that you can automatically label your own. While these hospitals are interested in helping, they have privacy concerns regarding information about their patients. Thus, you will use the following technique to train a classifier which protects the privacy of patients in the other hospitals.\n",
        "\n",
        "- 1) You'll ask each of the 10 hospitals to train a model on their own datasets (All of which have the same kinds of labels)\n",
        "- 2) You'll then use each of the 10 partner models to predict on your local dataset, generating 10 labels for each of your datapoints\n",
        "- 3) Then, for each local data point (now with 10 labels), you will perform a DP query to generate the final true label. This query is a \"max\" function, where \"max\" is the most frequent label across the 10 labels. We will need to add laplacian noise to make this Differentially Private to a certain epsilon/delta constraint.\n",
        "- 4) Finally, we will retrain a new model on our local dataset which now has labels. This will be our final \"DP\" model.\n",
        "\n",
        "So, let's walk through these steps. I will assume you're already familiar with how to train/predict a deep neural network, so we'll skip steps 1 and 2 and work with example data. We'll focus instead on step 3, namely how to perform the DP query for each example using toy data.\n",
        "\n",
        "So, let's say we have 10,000 training examples, and we've got 10 labels for each example (from our 10 \"teacher models\" which were trained directly on private data). Each label is chosen from a set of 10 possible labels (categories) for each image."
      ]
    },
    {
      "cell_type": "code",
      "metadata": {
        "id": "qv9AkqpUyKYt"
      },
      "source": [
        "import numpy as np"
      ],
      "execution_count": null,
      "outputs": []
    },
    {
      "cell_type": "code",
      "metadata": {
        "id": "a_x5p_iiyKYy"
      },
      "source": [
        "num_teachers = 10 # we're working with 10 partner hospitals\n",
        "num_examples = 10000 # the size of OUR dataset\n",
        "num_labels = 10 # number of lablels for our classifier"
      ],
      "execution_count": null,
      "outputs": []
    },
    {
      "cell_type": "code",
      "metadata": {
        "id": "vXdPwycTyKY1"
      },
      "source": [
        "preds = (np.random.rand(num_teachers, num_examples) * num_labels).astype(int).transpose(1,0) # fake predictions"
      ],
      "execution_count": null,
      "outputs": []
    },
    {
      "cell_type": "code",
      "metadata": {
        "id": "ZsVs8aXVyKY3",
        "outputId": "14e659b4-7306-4ce6-ea22-396926164524",
        "colab": {
          "base_uri": "https://localhost:8080/",
          "height": 34
        }
      },
      "source": [
        "preds[:,0]"
      ],
      "execution_count": null,
      "outputs": [
        {
          "output_type": "execute_result",
          "data": {
            "text/plain": [
              "array([4, 6, 5, ..., 4, 5, 2])"
            ]
          },
          "metadata": {
            "tags": []
          },
          "execution_count": 4
        }
      ]
    },
    {
      "cell_type": "code",
      "metadata": {
        "id": "JfKsdB88yKY5"
      },
      "source": [
        "new_labels = list()\n",
        "for an_image in preds:\n",
        "\n",
        "    label_counts = np.bincount(an_image, minlength=num_labels)\n",
        "\n",
        "    epsilon = 0.1\n",
        "    beta = 1 / epsilon\n",
        "\n",
        "    for i in range(len(label_counts)):\n",
        "        label_counts[i] += np.random.laplace(0, beta, 1)\n",
        "\n",
        "    new_label = np.argmax(label_counts)\n",
        "    \n",
        "    new_labels.append(new_label)"
      ],
      "execution_count": null,
      "outputs": []
    },
    {
      "cell_type": "code",
      "metadata": {
        "id": "29uJRYHTyKY7",
        "outputId": "34f82a94-a821-42f9-9439-695c4adc6888",
        "colab": {
          "base_uri": "https://localhost:8080/",
          "height": 34
        }
      },
      "source": [
        "len(new_labels)"
      ],
      "execution_count": null,
      "outputs": [
        {
          "output_type": "execute_result",
          "data": {
            "text/plain": [
              "10000"
            ]
          },
          "metadata": {
            "tags": []
          },
          "execution_count": 6
        }
      ]
    },
    {
      "cell_type": "markdown",
      "metadata": {
        "id": "DLtFkombyKY9"
      },
      "source": [
        "# PATE Analysis"
      ]
    },
    {
      "cell_type": "code",
      "metadata": {
        "id": "zJj7iSmCyKY9",
        "outputId": "6de636d1-cc19-45de-a786-9f9dc582328a",
        "colab": {
          "base_uri": "https://localhost:8080/",
          "height": 34
        }
      },
      "source": [
        "labels = np.array([9, 9, 3, 6, 9, 9, 9, 9, 8, 2])\n",
        "counts = np.bincount(labels, minlength=10)\n",
        "query_result = np.argmax(counts)\n",
        "query_result"
      ],
      "execution_count": null,
      "outputs": [
        {
          "output_type": "execute_result",
          "data": {
            "text/plain": [
              "9"
            ]
          },
          "metadata": {
            "tags": []
          },
          "execution_count": 7
        }
      ]
    },
    {
      "cell_type": "code",
      "metadata": {
        "id": "39jLa7WPyKY_"
      },
      "source": [
        "from syft.frameworks.torch.dp import pate"
      ],
      "execution_count": null,
      "outputs": []
    },
    {
      "cell_type": "code",
      "metadata": {
        "id": "5Qp4ef8dyKZC"
      },
      "source": [
        "num_teachers, num_examples, num_labels = (100, 100, 10)\n",
        "preds = (np.random.rand(num_teachers, num_examples) * num_labels).astype(int) #fake preds\n",
        "indices = (np.random.rand(num_examples) * num_labels).astype(int) # true answers"
      ],
      "execution_count": null,
      "outputs": []
    },
    {
      "cell_type": "code",
      "metadata": {
        "id": "0q2Y1JbT5uHz",
        "outputId": "3d86d616-9afe-41b2-b86f-937388b3c476",
        "colab": {
          "base_uri": "https://localhost:8080/",
          "height": 52
        }
      },
      "source": [
        "data_dep_eps, data_ind_eps = pate.perform_analysis(teacher_preds=preds, indices=indices, noise_eps=0.1, delta=1e-5)\n",
        "print(\"Data Independent Epsilon:\", data_ind_eps)\n",
        "print(\"Data Dependent Epsilon:\", data_dep_eps)"
      ],
      "execution_count": null,
      "outputs": [
        {
          "output_type": "stream",
          "text": [
            "Data Independent Epsilon: 11.756462732485115\n",
            "Data Dependent Epsilon: 11.756462732485105\n"
          ],
          "name": "stdout"
        }
      ]
    },
    {
      "cell_type": "code",
      "metadata": {
        "id": "ZRdQjflYyKZH"
      },
      "source": [
        "preds[:,0:5] *= 0"
      ],
      "execution_count": null,
      "outputs": []
    },
    {
      "cell_type": "code",
      "metadata": {
        "id": "ssvj1tDAyKZJ",
        "outputId": "25a6e677-018d-4a82-fbdd-4dba12385ddc",
        "colab": {
          "base_uri": "https://localhost:8080/",
          "height": 52
        }
      },
      "source": [
        "data_dep_eps, data_ind_eps = pate.perform_analysis(teacher_preds=preds, indices=indices, noise_eps=0.1, delta=1e-5, moments=20)\n",
        "print(\"Data Independent Epsilon:\", data_ind_eps)\n",
        "print(\"Data Dependent Epsilon:\", data_dep_eps)"
      ],
      "execution_count": null,
      "outputs": [
        {
          "output_type": "stream",
          "text": [
            "Data Independent Epsilon: 11.756462732485115\n",
            "Data Dependent Epsilon: 7.867987172744542\n"
          ],
          "name": "stdout"
        }
      ]
    },
    {
      "cell_type": "code",
      "metadata": {
        "id": "KhFTrJbpyKZL"
      },
      "source": [
        "preds[:,0:50] *= 0"
      ],
      "execution_count": null,
      "outputs": []
    },
    {
      "cell_type": "code",
      "metadata": {
        "id": "k4Ow1kYhAkJw",
        "outputId": "588cdf3d-867a-46e0-8a1d-bddd5e89e0bf",
        "colab": {
          "base_uri": "https://localhost:8080/",
          "height": 52
        }
      },
      "source": [
        "data_dep_eps, data_ind_eps = pate.perform_analysis(teacher_preds=preds, indices=indices, noise_eps=0.1, delta=1e-5, moments=20)\n",
        "print(\"Data Independent Epsilon:\", data_ind_eps)\n",
        "print(\"Data Dependent Epsilon:\", data_dep_eps)"
      ],
      "execution_count": null,
      "outputs": [
        {
          "output_type": "stream",
          "text": [
            "Data Independent Epsilon: 11.756462732485115\n",
            "Data Dependent Epsilon: 0.9029013677789843\n"
          ],
          "name": "stdout"
        }
      ]
    },
    {
      "cell_type": "markdown",
      "metadata": {
        "id": "qj0p5xaEyKZN"
      },
      "source": [
        "# Where to Go From Here\n",
        "\n",
        "\n",
        "Read:\n",
        "    - Algorithmic Foundations of Differential Privacy: https://www.cis.upenn.edu/~aaroth/Papers/privacybook.pdf\n",
        "    - Deep Learning with Differential Privacy: https://arxiv.org/pdf/1607.00133.pdf\n",
        "    - The Ethical Algorithm: https://www.amazon.com/Ethical-Algorithm-Science-Socially-Design/dp/0190948205\n",
        "   \n",
        "Topics:\n",
        "    - The Exponential Mechanism\n",
        "    - The Moment's Accountant\n",
        "    - Differentially Private Stochastic Gradient Descent\n",
        "\n",
        "Advice:\n",
        "    - For deployments - stick with public frameworks!\n",
        "    - Join the Differential Privacy Community\n",
        "    - Don't get ahead of yourself - DP is still in the early days"
      ]
    },
    {
      "cell_type": "code",
      "metadata": {
        "id": "G1huMXFzyKZO"
      },
      "source": [
        ""
      ],
      "execution_count": null,
      "outputs": []
    },
    {
      "cell_type": "code",
      "metadata": {
        "id": "B21Gr5uQyKZP"
      },
      "source": [
        ""
      ],
      "execution_count": null,
      "outputs": []
    },
    {
      "cell_type": "markdown",
      "metadata": {
        "id": "kxGKU6omyKZS"
      },
      "source": [
        "# Section Project:\n",
        "\n",
        "For the final project for this section, you're going to train a DP model using this PATE method on the MNIST dataset, provided below."
      ]
    },
    {
      "cell_type": "markdown",
      "metadata": {
        "id": "6BaA4sF2bB_H"
      },
      "source": [
        "## Preparing datasets"
      ]
    },
    {
      "cell_type": "code",
      "metadata": {
        "id": "9ARdv_FtyKZT"
      },
      "source": [
        "import torchvision.datasets as datasets\n",
        "import torchvision.transforms as transforms\n",
        "std_transforms = transforms.Compose([\n",
        "                                     transforms.ToTensor(),\n",
        "                                     transforms.Normalize((0.5,), (0.5,)),\n",
        "                                    ])\n",
        "mnist_trainset = datasets.MNIST(root='./data', train=True, download=True, transform=std_transforms)\n",
        "mnist_testset = datasets.MNIST(root='./data', train=False, download=True, transform=std_transforms)"
      ],
      "execution_count": null,
      "outputs": []
    },
    {
      "cell_type": "code",
      "metadata": {
        "id": "1deFsHQmyKZV"
      },
      "source": [
        "train_data = mnist_trainset.data\n",
        "train_targets = mnist_trainset.targets"
      ],
      "execution_count": null,
      "outputs": []
    },
    {
      "cell_type": "code",
      "metadata": {
        "id": "1cHV6goWNwxd"
      },
      "source": [
        "import torch.utils.data as data"
      ],
      "execution_count": null,
      "outputs": []
    },
    {
      "cell_type": "code",
      "metadata": {
        "id": "Jh_2XUccF2GJ"
      },
      "source": [
        "num_teachers = 250\n",
        "num_teacher_examples = 200\n",
        "num_student_examples = len(mnist_trainset) - (num_teachers * num_teacher_examples)\n",
        "teacher_datasets = [data.Subset(mnist_trainset, list(range(i * num_teacher_examples, (i+1) * num_teacher_examples))) for i in range(num_teachers)]\n",
        "student_dataset = data.Subset(mnist_trainset, list(range(num_teacher_examples * num_teachers, len(mnist_trainset))))"
      ],
      "execution_count": null,
      "outputs": []
    },
    {
      "cell_type": "code",
      "metadata": {
        "id": "10smKQDdSt_g",
        "outputId": "280663c8-4075-485e-d7b0-e9fb45da4c28",
        "colab": {
          "base_uri": "https://localhost:8080/",
          "height": 52
        }
      },
      "source": [
        "print(len(mnist_testset))\n",
        "print(len(student_dataset))"
      ],
      "execution_count": null,
      "outputs": [
        {
          "output_type": "stream",
          "text": [
            "10000\n",
            "10000\n"
          ],
          "name": "stdout"
        }
      ]
    },
    {
      "cell_type": "markdown",
      "metadata": {
        "id": "xKzT2OBMbQFQ"
      },
      "source": [
        "## Import and set up classifiers"
      ]
    },
    {
      "cell_type": "code",
      "metadata": {
        "id": "Uxgzo_S8Td0s"
      },
      "source": [
        "# !pip install syft"
      ],
      "execution_count": null,
      "outputs": []
    },
    {
      "cell_type": "code",
      "metadata": {
        "id": "ut-Q1UB8yKZZ",
        "outputId": "33eaaac5-3fe2-40fd-b1cf-6a4d9c5526aa",
        "colab": {
          "base_uri": "https://localhost:8080/",
          "height": 34
        }
      },
      "source": [
        "import torch\n",
        "from torch import nn\n",
        "import torch.optim as optim\n",
        "import torch.nn.functional as F\n",
        "\n",
        "from syft.frameworks.torch.dp import pate\n",
        "\n",
        "device = torch.device('cuda:0' if torch.cuda.is_available() else 'cpu')\n",
        "device"
      ],
      "execution_count": null,
      "outputs": [
        {
          "output_type": "execute_result",
          "data": {
            "text/plain": [
              "device(type='cuda', index=0)"
            ]
          },
          "metadata": {
            "tags": []
          },
          "execution_count": 78
        }
      ]
    },
    {
      "cell_type": "code",
      "metadata": {
        "id": "ctdSuRRQD1aD"
      },
      "source": [
        "# Simple feedforward\n",
        "def model():\n",
        "  return nn.Sequential(nn.Linear(784, 128),\n",
        "                      nn.ReLU(),\n",
        "                      nn.Linear(128, 64),\n",
        "                      nn.ReLU(),\n",
        "                      nn.Linear(64,10),\n",
        "                      nn.LogSoftmax(dim=1))"
      ],
      "execution_count": null,
      "outputs": []
    },
    {
      "cell_type": "markdown",
      "metadata": {
        "id": "HND5_zZFbXwi"
      },
      "source": [
        "## Training teacher models"
      ]
    },
    {
      "cell_type": "code",
      "metadata": {
        "id": "wI0XoCmQTqzr",
        "outputId": "9c90f25b-5cfb-4c4d-c060-f62ac7310c1a",
        "colab": {
          "base_uri": "https://localhost:8080/",
          "height": 1000
        }
      },
      "source": [
        "lr = 3e-2\n",
        "num_epochs = 20\n",
        "batch_size = 30\n",
        "\n",
        "teacher_models = [model().to(device) for _ in range(num_teachers)]\n",
        "teacher_loaders = [data.DataLoader(dataset, batch_size=batch_size, shuffle=True, drop_last=True) for dataset in teacher_datasets]\n",
        "teacher_optimizers = [optim.Adam(classifier.parameters(), lr=lr) for classifier in teacher_models]\n",
        "\n",
        "criterion = nn.NLLLoss()\n",
        "\n",
        "for epoch in range(num_epochs):\n",
        "  avg_losses = []\n",
        "  avg_accuracies = []\n",
        "\n",
        "  for index, classifier in enumerate(teacher_models):\n",
        "    total_loss = 0\n",
        "    total_acc = 0\n",
        "    trainloader = teacher_loaders[index]\n",
        "    optimizer = teacher_optimizers[index]\n",
        "\n",
        "    for images, labels in trainloader:\n",
        "      \n",
        "      images = images.view(images.shape[0], -1)\n",
        "\n",
        "      images = images.to(device)\n",
        "      labels = labels.to(device)\n",
        "\n",
        "      optimizer.zero_grad()\n",
        "\n",
        "      output = classifier(images)\n",
        "      loss = criterion(output, labels)\n",
        "      loss.backward()\n",
        "      optimizer.step()\n",
        "\n",
        "      total_loss += loss.item()\n",
        "      total_acc += (output.exp().argmax(dim=1) == labels).sum().item()\n",
        "    \n",
        "    avg_losses.append(total_loss / len(trainloader))\n",
        "    avg_accuracies.append(total_acc / (batch_size * len(trainloader)))\n",
        "\n",
        "  print('Epoch {0}/{1}'.format(epoch + 1, num_epochs))\n",
        "  print('avg_losses:{0}\\n avg_accuracies: {1}'.format(avg_losses, avg_accuracies))"
      ],
      "execution_count": null,
      "outputs": [
        {
          "output_type": "stream",
          "text": [
            "Epoch 1/20\n",
            "avg_losses:[5.776464064915975, 9.790359457333883, 6.613523284594218, 12.658158421516418, 10.580695788065592, 9.426926016807556, 8.892938017845154, 10.478723605473837, 10.707446932792664, 9.137556155522665, 10.564786354700724, 12.618427991867065, 6.592108726501465, 8.377890268961588, 10.22396437327067, 9.201973875363668, 12.091495315233866, 8.595958471298218, 6.337315678596497, 10.902777830759684, 8.32911197344462, 10.12644350528717, 7.0481336911519366, 6.781358043352763, 9.204182147979736, 8.758175571759542, 10.21658464272817, 9.71798320611318, 7.802382667859395, 9.543087323506674, 8.825368563334147, 10.469084898630777, 9.835882107416788, 10.04987633228302, 9.470319231351217, 7.936081965764363, 10.646167437235514, 8.74842389424642, 8.118987321853638, 9.651824076970419, 9.19758145014445, 10.32101857662201, 6.688697298367818, 11.084139744440714, 6.7856234312057495, 8.027595440546671, 8.300583402315775, 7.319328387578328, 8.939846793810526, 6.8282701174418134, 11.773179570833841, 7.966111858685811, 9.517208059628805, 8.675259669621786, 9.139828006426493, 8.182279189427694, 7.401609659194946, 8.365753094355265, 10.79461121559143, 8.456404407819113, 13.965004046758017, 10.226114710172018, 7.792633970578511, 8.613237977027893, 7.513272404670715, 9.028160572052002, 5.208700140317281, 11.044903755187988, 10.5707901318868, 9.661717295646667, 8.510570446650187, 6.881917715072632, 8.386015693346659, 8.536444306373596, 11.32183833916982, 14.564425508181253, 7.893159866333008, 11.278692523638407, 11.273370385169983, 10.280094901720682, 12.763061682383219, 11.173815608024597, 10.453790426254272, 7.141721328099568, 9.24481463432312, 9.14773162206014, 7.563988407452901, 7.036250829696655, 8.066665490468344, 8.095819314320883, 12.477393587430319, 5.955231269200643, 9.78754993279775, 7.990564624468486, 8.84622319539388, 7.758793791135152, 7.902968207995097, 8.878896474838257, 9.831064224243164, 11.86280874411265, 9.787707249323526, 7.657801508903503, 5.7209763924280805, 8.949853579203287, 10.00943430264791, 11.649963617324829, 11.521934628486633, 6.589023192723592, 7.812440752983093, 10.549017548561096, 9.91228703657786, 10.043259064356485, 12.017643491427103, 5.949842731157939, 6.648811300595601, 8.090903679529825, 10.391246914863586, 8.26025915145874, 7.778130928675334, 6.763266642888387, 9.00853923956553, 10.794611970583597, 8.758076469103495, 7.940504709879558, 11.74364686012268, 9.462819536526998, 11.524284362792969, 8.45855156580607, 7.556395252545674, 11.05197556813558, 8.991520841916403, 11.112594405810038, 12.607342998186747, 9.065500060717264, 8.468389709790548, 10.837700883547464, 7.479002793629964, 8.553438623746237, 11.374570488929749, 7.874811093012492, 8.215902845064798, 9.216835816701254, 7.9751477638880415, 11.82732609907786, 10.594019293785095, 11.054832816123962, 9.99582850933075, 9.486813624699911, 8.564051032066345, 7.594728191693624, 7.35107163588206, 9.834594289461771, 8.953110178311666, 12.270845135053, 11.672176678975424, 8.398436625798544, 10.292853355407715, 5.897530754407247, 8.802543759346008, 9.01798701286316, 7.108307560284932, 9.697289943695068, 10.154866258303324, 9.755280415217081, 12.503442645072937, 7.637322783470154, 6.749541560808818, 9.504781087239584, 10.56627889474233, 11.724829951922098, 8.61167860031128, 12.453666806221008, 10.187033732732138, 8.726942976315817, 7.151243408521016, 7.8875042994817095, 5.329034487406413, 9.57706085840861, 6.748976508776347, 11.281943559646606, 7.5560621817906695, 10.546258449554443, 7.61930267016093, 6.970485289891561, 11.041046857833862, 7.445527156194051, 10.480820496877035, 8.881800651550293, 10.448296626408895, 9.215162634849548, 6.209523757298787, 10.973482529322306, 8.64171568552653, 6.4238308270772295, 9.595308581988016, 6.289324879646301, 8.854848821957907, 7.068379044532776, 8.116527597109476, 7.2321670850118, 11.290558298428854, 6.095776120821635, 10.216023325920105, 7.715092102686564, 12.29964816570282, 5.402014533678691, 7.959285537401835, 11.434906562169393, 11.485007445017496, 7.295627435048421, 11.45396602153778, 9.186243851979574, 7.043503721555074, 9.173564275105795, 9.43384043375651, 9.182604233423868, 7.126628398895264, 10.001954197883606, 11.80609138806661, 5.85386598110199, 9.869336446126303, 10.571599324544271, 6.136143922805786, 6.092968463897705, 8.020478447278341, 12.203138748804728, 9.381296674410502, 9.358806093533834, 8.154886722564697, 6.123430013656616, 11.338954170544943, 9.341334263483683, 10.880017081896463, 11.384733239809671, 11.029128988583883, 8.712408781051636, 10.704662839571634, 6.430362741152446, 7.268881956736247, 8.572358250617981, 6.566247463226318, 10.63034188747406, 9.792690912882486, 8.442732532819113, 9.32087262471517, 6.920956452687581, 14.197450081507364, 9.480733434359232, 9.014644066492716, 10.7206449508667]\n",
            " avg_accuracies: [0.18333333333333332, 0.1111111111111111, 0.08333333333333333, 0.10555555555555556, 0.06666666666666667, 0.11666666666666667, 0.13333333333333333, 0.12222222222222222, 0.08333333333333333, 0.16666666666666666, 0.13333333333333333, 0.1, 0.07222222222222222, 0.08888888888888889, 0.16666666666666666, 0.16111111111111112, 0.09444444444444444, 0.08888888888888889, 0.12777777777777777, 0.11666666666666667, 0.15, 0.07222222222222222, 0.1111111111111111, 0.1111111111111111, 0.1388888888888889, 0.1111111111111111, 0.09444444444444444, 0.13333333333333333, 0.08888888888888889, 0.12222222222222222, 0.10555555555555556, 0.13333333333333333, 0.11666666666666667, 0.1388888888888889, 0.12222222222222222, 0.07777777777777778, 0.08888888888888889, 0.11666666666666667, 0.09444444444444444, 0.12777777777777777, 0.1388888888888889, 0.1, 0.1, 0.08888888888888889, 0.1111111111111111, 0.05, 0.1111111111111111, 0.10555555555555556, 0.16111111111111112, 0.09444444444444444, 0.07222222222222222, 0.1, 0.13333333333333333, 0.11666666666666667, 0.1388888888888889, 0.1111111111111111, 0.12222222222222222, 0.07222222222222222, 0.07222222222222222, 0.08888888888888889, 0.1388888888888889, 0.12777777777777777, 0.09444444444444444, 0.05555555555555555, 0.1111111111111111, 0.1, 0.12222222222222222, 0.08333333333333333, 0.10555555555555556, 0.1, 0.12222222222222222, 0.1388888888888889, 0.10555555555555556, 0.11666666666666667, 0.11666666666666667, 0.09444444444444444, 0.10555555555555556, 0.12222222222222222, 0.10555555555555556, 0.12777777777777777, 0.08888888888888889, 0.06111111111111111, 0.13333333333333333, 0.12222222222222222, 0.15555555555555556, 0.14444444444444443, 0.14444444444444443, 0.15, 0.1111111111111111, 0.1, 0.1, 0.08888888888888889, 0.1, 0.1111111111111111, 0.1388888888888889, 0.09444444444444444, 0.1111111111111111, 0.1111111111111111, 0.15, 0.09444444444444444, 0.1111111111111111, 0.08333333333333333, 0.13333333333333333, 0.14444444444444443, 0.09444444444444444, 0.11666666666666667, 0.06666666666666667, 0.1, 0.11666666666666667, 0.08888888888888889, 0.07777777777777778, 0.08333333333333333, 0.15555555555555556, 0.14444444444444443, 0.09444444444444444, 0.08888888888888889, 0.08888888888888889, 0.08888888888888889, 0.12222222222222222, 0.15, 0.11666666666666667, 0.08333333333333333, 0.07222222222222222, 0.06111111111111111, 0.13333333333333333, 0.1111111111111111, 0.08888888888888889, 0.1388888888888889, 0.10555555555555556, 0.1111111111111111, 0.07222222222222222, 0.10555555555555556, 0.11666666666666667, 0.08333333333333333, 0.08333333333333333, 0.08333333333333333, 0.16666666666666666, 0.10555555555555556, 0.1, 0.11666666666666667, 0.09444444444444444, 0.1, 0.1, 0.12222222222222222, 0.09444444444444444, 0.08888888888888889, 0.12222222222222222, 0.09444444444444444, 0.1111111111111111, 0.08888888888888889, 0.08333333333333333, 0.13333333333333333, 0.1388888888888889, 0.15555555555555556, 0.12777777777777777, 0.15555555555555556, 0.11666666666666667, 0.08333333333333333, 0.08888888888888889, 0.10555555555555556, 0.11666666666666667, 0.1111111111111111, 0.11666666666666667, 0.08333333333333333, 0.08333333333333333, 0.10555555555555556, 0.1388888888888889, 0.18888888888888888, 0.1, 0.05555555555555555, 0.11666666666666667, 0.17777777777777778, 0.1, 0.08888888888888889, 0.07777777777777778, 0.06666666666666667, 0.10555555555555556, 0.08888888888888889, 0.07222222222222222, 0.13333333333333333, 0.10555555555555556, 0.12222222222222222, 0.16111111111111112, 0.12777777777777777, 0.15, 0.09444444444444444, 0.12777777777777777, 0.1, 0.12777777777777777, 0.08333333333333333, 0.11666666666666667, 0.10555555555555556, 0.10555555555555556, 0.13333333333333333, 0.1, 0.08333333333333333, 0.1, 0.12222222222222222, 0.11666666666666667, 0.13333333333333333, 0.11666666666666667, 0.16111111111111112, 0.07777777777777778, 0.12777777777777777, 0.12777777777777777, 0.1111111111111111, 0.1111111111111111, 0.13333333333333333, 0.09444444444444444, 0.07222222222222222, 0.1388888888888889, 0.13333333333333333, 0.08888888888888889, 0.09444444444444444, 0.1, 0.10555555555555556, 0.08888888888888889, 0.1111111111111111, 0.08333333333333333, 0.1388888888888889, 0.09444444444444444, 0.11666666666666667, 0.10555555555555556, 0.09444444444444444, 0.14444444444444443, 0.11666666666666667, 0.11666666666666667, 0.14444444444444443, 0.10555555555555556, 0.12777777777777777, 0.1388888888888889, 0.12777777777777777, 0.17222222222222222, 0.06111111111111111, 0.14444444444444443, 0.09444444444444444, 0.07777777777777778, 0.1, 0.1111111111111111, 0.07777777777777778, 0.11666666666666667, 0.10555555555555556, 0.09444444444444444, 0.1, 0.08333333333333333, 0.1111111111111111, 0.08888888888888889, 0.1111111111111111, 0.10555555555555556, 0.09444444444444444]\n",
            "Epoch 2/20\n",
            "avg_losses:[2.083047032356262, 2.2820616165796914, 2.2579354842503867, 2.4764305353164673, 2.402569890022278, 3.5011243422826133, 2.3967283964157104, 2.5016340017318726, 2.682848254839579, 2.4724594354629517, 2.8852737744649253, 3.346279581387838, 2.1641832192738852, 2.276018818219503, 2.8151877721150718, 2.3174063762029014, 2.6072378953297934, 2.384483973185221, 2.2848982413609824, 2.3330210049947104, 2.3713608582814536, 2.314087986946106, 2.2721418937047324, 2.2746983766555786, 2.1067483027776084, 2.389832774798075, 2.1714773178100586, 2.4097395737965903, 2.1123585303624473, 2.3493204514185586, 2.207168916861216, 2.164424419403076, 2.545486648877462, 2.459667921066284, 2.3251595894495645, 2.615307847658793, 2.6994341214497886, 2.2512250343958535, 2.6816368103027344, 2.8532875378926597, 2.839612861474355, 2.374126394589742, 2.78939688205719, 2.6493207216262817, 2.3712464570999146, 2.4328301747639975, 2.6963919003804526, 2.441250522931417, 2.7716530164082847, 2.34946608543396, 2.7586969137191772, 2.2233721017837524, 2.5862824519475303, 2.525113821029663, 2.41887100537618, 2.2968769868214927, 2.3618874152501426, 2.600576122601827, 2.5437517563501992, 2.5077069203058877, 3.1848316192626953, 2.4750709931055703, 2.3859944343566895, 2.3828444878260293, 2.5029630263646445, 2.3711198965708413, 2.2953058878580728, 2.5537027517954507, 2.553400715192159, 2.3627033631006875, 2.2477351824442544, 2.281582534313202, 2.3349233071009317, 2.432391802469889, 2.384775996208191, 2.9057364066441855, 2.360732674598694, 2.84708841641744, 2.5278515021006265, 2.1304070353507996, 2.7853925625483194, 2.46612819035848, 2.6058767239252725, 2.2481964826583862, 2.5646289189656577, 2.660449186960856, 2.472869873046875, 2.86093807220459, 2.2508378823598227, 2.484967350959778, 2.599883198738098, 2.2663258711496987, 2.4373658895492554, 2.0805413126945496, 2.3051243821779885, 2.4501283168792725, 2.7599931160608926, 2.41617214679718, 2.325161317984263, 2.4023706118265786, 2.524083654085795, 2.494789799054464, 2.870518604914347, 2.8467953205108643, 2.6726932525634766, 3.009627381960551, 2.775162617365519, 2.2382692098617554, 2.5227527618408203, 2.3922598361968994, 2.5433003505071006, 2.248847762743632, 2.352261781692505, 2.4932241837183633, 2.2568143208821616, 2.1799063682556152, 2.6371825536092124, 2.3727315266927085, 2.941839575767517, 2.5554233392079673, 2.44806174437205, 2.4846853415171304, 2.2668833335240683, 2.4186615149180093, 2.190437356630961, 2.686580459276835, 2.6196093559265137, 2.501548409461975, 2.5469970305760703, 2.6325730880101523, 2.2573063373565674, 2.3175662755966187, 2.3189732233683267, 2.6347089608510337, 2.328174074490865, 4.806390245755513, 2.481903076171875, 2.283821980158488, 2.6698301235834756, 2.4081530968348184, 2.3615044752756753, 2.2463293075561523, 2.30509485801061, 2.4425692558288574, 2.411169687906901, 2.323129097620646, 2.2156761487325034, 1.9918968081474304, 2.3972524404525757, 2.3881333669026694, 2.319247047106425, 2.5193429787953696, 2.816042900085449, 2.815387407938639, 2.9242406288782754, 2.3751482566197715, 2.433128555615743, 2.4983922243118286, 2.5022136767705283, 2.4772818088531494, 2.267156720161438, 2.400619467099508, 2.435080329577128, 2.448255022366842, 2.662253657976786, 2.3820707400639853, 2.0235201915105185, 2.2504210074742637, 2.565346837043762, 2.2878803412119546, 2.3782124519348145, 2.657712459564209, 2.4578500191370645, 2.315097689628601, 2.3860594034194946, 2.835999766985575, 2.2910834153493247, 2.059443950653076, 2.78867115577062, 3.135562221209208, 2.462131142616272, 2.195118010044098, 2.3830975691477456, 2.371746818224589, 2.575276255607605, 2.302703082561493, 2.8609259525934854, 2.296717802683512, 2.4485536019007363, 2.951194405555725, 2.5021212100982666, 2.4100788831710815, 2.217021326224009, 2.188502093156179, 2.554019649823507, 2.255498210589091, 2.3558478355407715, 2.3867944876352944, 2.3419827222824097, 2.457471251487732, 2.4170182943344116, 2.450752059618632, 2.401192625363668, 2.3360977172851562, 2.6222472190856934, 2.3480597337086997, 2.751352310180664, 2.976946989695231, 3.9602130651474, 2.3853814601898193, 2.094227929910024, 2.3656615018844604, 2.3319780031840005, 2.3228195309638977, 2.831413189570109, 2.6731576919555664, 2.3907955487569175, 2.3993595043818154, 3.102139194806417, 2.3836127519607544, 2.561544100443522, 2.3017064730326333, 2.8167694807052612, 2.341850439707438, 2.5075412591298423, 2.8936903874079385, 2.2583361069361367, 2.287924567858378, 2.2028403282165527, 2.412257671356201, 2.3336208264033, 2.256831725438436, 2.7085593740145364, 2.5554765462875366, 2.1846666733423867, 2.338112711906433, 2.449883143107096, 2.228031555811564, 2.168489237626394, 2.2389331658681235, 2.491348067919413, 2.929299473762512, 2.2014885346094766, 2.270128607749939, 2.6080607175827026, 2.299465815226237, 2.398594379425049, 2.357400417327881, 2.5394187768300376, 2.3938697973887124]\n",
            " avg_accuracies: [0.2111111111111111, 0.15, 0.1388888888888889, 0.1111111111111111, 0.13333333333333333, 0.15, 0.18333333333333332, 0.1111111111111111, 0.19444444444444445, 0.22777777777777777, 0.08888888888888889, 0.08888888888888889, 0.18888888888888888, 0.20555555555555555, 0.1111111111111111, 0.25, 0.14444444444444443, 0.1, 0.11666666666666667, 0.15555555555555556, 0.23333333333333334, 0.16666666666666666, 0.2111111111111111, 0.2, 0.24444444444444444, 0.1111111111111111, 0.25, 0.16111111111111112, 0.21666666666666667, 0.1388888888888889, 0.21666666666666667, 0.24444444444444444, 0.1388888888888889, 0.10555555555555556, 0.10555555555555556, 0.05, 0.08333333333333333, 0.20555555555555555, 0.19444444444444445, 0.13333333333333333, 0.21666666666666667, 0.12222222222222222, 0.16666666666666666, 0.1111111111111111, 0.1388888888888889, 0.2, 0.16111111111111112, 0.15555555555555556, 0.1, 0.13333333333333333, 0.12777777777777777, 0.2222222222222222, 0.16111111111111112, 0.17222222222222222, 0.09444444444444444, 0.20555555555555555, 0.17777777777777778, 0.18888888888888888, 0.15, 0.10555555555555556, 0.12222222222222222, 0.16666666666666666, 0.1111111111111111, 0.09444444444444444, 0.16111111111111112, 0.15, 0.16666666666666666, 0.16666666666666666, 0.1, 0.15, 0.15, 0.16666666666666666, 0.07777777777777778, 0.14444444444444443, 0.14444444444444443, 0.1111111111111111, 0.13333333333333333, 0.07222222222222222, 0.12777777777777777, 0.19444444444444445, 0.15, 0.07222222222222222, 0.11666666666666667, 0.1111111111111111, 0.14444444444444443, 0.14444444444444443, 0.14444444444444443, 0.08888888888888889, 0.17222222222222222, 0.07777777777777778, 0.14444444444444443, 0.21666666666666667, 0.11666666666666667, 0.2611111111111111, 0.18888888888888888, 0.09444444444444444, 0.1111111111111111, 0.12777777777777777, 0.2722222222222222, 0.21666666666666667, 0.10555555555555556, 0.2, 0.2111111111111111, 0.18888888888888888, 0.17222222222222222, 0.2111111111111111, 0.15555555555555556, 0.14444444444444443, 0.12777777777777777, 0.15555555555555556, 0.14444444444444443, 0.25, 0.15555555555555556, 0.17777777777777778, 0.18888888888888888, 0.25, 0.1388888888888889, 0.16666666666666666, 0.17777777777777778, 0.16666666666666666, 0.08333333333333333, 0.07777777777777778, 0.15, 0.14444444444444443, 0.18888888888888888, 0.12777777777777777, 0.07222222222222222, 0.17777777777777778, 0.14444444444444443, 0.09444444444444444, 0.2222222222222222, 0.2222222222222222, 0.15, 0.16666666666666666, 0.13333333333333333, 0.1, 0.18333333333333332, 0.15555555555555556, 0.12222222222222222, 0.15, 0.15, 0.18333333333333332, 0.22777777777777777, 0.12777777777777777, 0.10555555555555556, 0.20555555555555555, 0.17777777777777778, 0.3, 0.10555555555555556, 0.10555555555555556, 0.17777777777777778, 0.23333333333333334, 0.1388888888888889, 0.10555555555555556, 0.18888888888888888, 0.16666666666666666, 0.1388888888888889, 0.16666666666666666, 0.16111111111111112, 0.16666666666666666, 0.17222222222222222, 0.19444444444444445, 0.12777777777777777, 0.18888888888888888, 0.15555555555555556, 0.12777777777777777, 0.3, 0.18333333333333332, 0.15555555555555556, 0.12777777777777777, 0.17222222222222222, 0.12777777777777777, 0.10555555555555556, 0.20555555555555555, 0.15555555555555556, 0.09444444444444444, 0.12222222222222222, 0.3111111111111111, 0.15, 0.1111111111111111, 0.1, 0.24444444444444444, 0.09444444444444444, 0.16666666666666666, 0.11666666666666667, 0.16666666666666666, 0.15555555555555556, 0.17222222222222222, 0.09444444444444444, 0.21666666666666667, 0.15, 0.08888888888888889, 0.2388888888888889, 0.21666666666666667, 0.13333333333333333, 0.16666666666666666, 0.12777777777777777, 0.15555555555555556, 0.08888888888888889, 0.14444444444444443, 0.1, 0.16666666666666666, 0.12777777777777777, 0.17777777777777778, 0.1, 0.06666666666666667, 0.13333333333333333, 0.16666666666666666, 0.15, 0.21666666666666667, 0.3, 0.14444444444444443, 0.14444444444444443, 0.21666666666666667, 0.07777777777777778, 0.11666666666666667, 0.17222222222222222, 0.14444444444444443, 0.08888888888888889, 0.15555555555555556, 0.06666666666666667, 0.18333333333333332, 0.15, 0.10555555555555556, 0.14444444444444443, 0.15555555555555556, 0.2222222222222222, 0.16666666666666666, 0.17222222222222222, 0.1388888888888889, 0.16111111111111112, 0.17222222222222222, 0.12777777777777777, 0.1388888888888889, 0.18888888888888888, 0.16666666666666666, 0.17222222222222222, 0.2, 0.23333333333333334, 0.17777777777777778, 0.1388888888888889, 0.12222222222222222, 0.15555555555555556, 0.2111111111111111, 0.12222222222222222, 0.19444444444444445, 0.18333333333333332, 0.15555555555555556, 0.18333333333333332, 0.13333333333333333]\n",
            "Epoch 3/20\n",
            "avg_losses:[1.7507013082504272, 1.9492985606193542, 2.153419772783915, 2.2730719645818076, 2.2069913943608603, 2.1762561798095703, 2.010555942853292, 1.9308017293612163, 2.050739566485087, 2.0022828380266824, 2.2798365354537964, 2.206955154736837, 2.115191916624705, 1.9856404264767964, 2.154632488886515, 1.897452473640442, 2.1229353547096252, 2.20381232102712, 1.9565503199895222, 2.073750634988149, 1.939444899559021, 1.9985985954602559, 2.0777531464894614, 1.4950721462567647, 1.8007600903511047, 2.0650891065597534, 1.6283756295839946, 1.9937870303789775, 1.804268519083659, 2.017866611480713, 1.5240323742230732, 1.4947004715601604, 2.105874021848043, 2.2532454331715903, 2.072391390800476, 2.2194164196650186, 2.3657469749450684, 1.8210866649945576, 2.098743657271067, 2.1742772658665976, 1.923275073369344, 2.1823690533638, 2.064606030782064, 2.205405592918396, 2.1365966399510703, 1.9582770466804504, 2.0566174586613974, 2.1031529704729715, 1.9241718848546345, 2.1377623478571572, 2.0417438546816506, 2.20451021194458, 1.8804605801900227, 2.2413421869277954, 2.303174297014872, 1.5102893908818562, 2.250596523284912, 1.7806531190872192, 2.2533684571584067, 2.17876406510671, 2.2931047677993774, 2.16498068968455, 2.260926683743795, 2.049297332763672, 2.0311628381411233, 2.164105534553528, 1.960147539774577, 1.7988976041475933, 2.2740130027135215, 2.0732193191846213, 2.094655970732371, 2.040220022201538, 2.304483652114868, 1.9750857949256897, 2.292411684989929, 2.2948931455612183, 2.0684661666552224, 1.9879253506660461, 2.2093278566996255, 1.7866461873054504, 1.9364520112673442, 2.1944706042607627, 1.864750901858012, 1.970641016960144, 2.0176055828730264, 2.0823649565378823, 2.0432147781054177, 2.1125121315320334, 2.0621782739957175, 2.218306581179301, 2.05852872133255, 1.7430956562360127, 2.2268415689468384, 1.6700492699940999, 1.7019018928209941, 2.2183576822280884, 2.1256711880366006, 1.9488436579704285, 1.683572789033254, 2.2046333154042563, 2.2155853112538657, 1.9154434998830159, 1.9531399408976238, 1.9447024464607239, 2.177994728088379, 1.8090711037317913, 2.178469975789388, 2.012378752231598, 2.0868861079216003, 2.0111989180246987, 2.0309282342592874, 1.9806997974713643, 2.0997584462165833, 2.07946385939916, 1.8889628052711487, 1.7840420007705688, 2.1552354296048484, 2.2437750498453775, 2.186511198679606, 1.811894138654073, 2.0196168224016824, 2.2972955306371055, 2.1456740697224936, 2.200719714164734, 1.918290376663208, 2.226901570955912, 2.158042232195536, 1.871962308883667, 1.9589354197184246, 2.157877564430237, 1.8576048215230305, 2.0817875464757285, 1.9832146763801575, 1.8880691528320312, 2.137838383515676, 2.288158377011617, 1.94157874584198, 2.2142852544784546, 2.3081120252609253, 2.0226927995681763, 1.95319660504659, 2.024338444073995, 1.7551339467366536, 2.185317595799764, 1.996057113011678, 1.876133402188619, 1.9575536449750264, 1.4703044493993123, 1.8439811666806538, 2.2392331759134927, 1.7463778456052144, 1.8269301255544026, 2.3091622591018677, 2.3318647543589273, 2.090903023878733, 2.0405503511428833, 2.0531439185142517, 1.9685715039571126, 2.092902898788452, 2.0279599825541177, 1.971041480700175, 1.9653764963150024, 2.2551801999409995, 2.0084464152654014, 1.8466026782989502, 2.1109230319658914, 1.6886016726493835, 2.0520458817481995, 1.980236291885376, 2.242405374844869, 2.2860893408457437, 1.9972088535626729, 1.8406436045964558, 1.865826964378357, 2.023957133293152, 2.1593304872512817, 2.208020051320394, 1.6956203778584797, 1.9136402010917664, 2.2319656213124595, 2.1022909681002298, 1.7499256134033203, 2.227108438809713, 1.8017215132713318, 2.110762615998586, 1.8486098845799763, 2.352745215098063, 1.9898725350697835, 2.285542885462443, 2.233418901761373, 1.9373912413914998, 2.2105610768000283, 1.692945619424184, 1.64077494541804, 2.2239251136779785, 1.9850399295488994, 2.2645865281422934, 2.074036161104838, 2.206160545349121, 1.9680500427881877, 2.31089981396993, 1.87971697251002, 2.0963351726531982, 1.9137401580810547, 2.284385005633036, 2.161758383115133, 2.1532040437062583, 2.219646612803141, 2.1006682912508645, 1.954584797223409, 1.622830371061961, 2.2048673232396445, 2.3000325759251914, 1.6824762225151062, 2.163881699244181, 2.2671163082122803, 1.9297065734863281, 2.1288448572158813, 2.3030937115351358, 2.0306828022003174, 2.1057830651601157, 2.1714775959650674, 2.274603088696798, 2.085492432117462, 2.3525354067484536, 2.077323397000631, 1.8490596810976665, 2.0529726147651672, 1.7492787043253581, 1.9976202249526978, 2.0974451303482056, 1.994759241739909, 1.75700847307841, 2.280466596285502, 1.6198764046033223, 1.989530046780904, 2.218481103579203, 1.929321010907491, 1.7338004906972249, 1.914403001467387, 1.907217760880788, 2.2483288844426474, 1.846965750058492, 1.9488441546758015, 2.2670993407567344, 2.1035129030545554, 2.0382023453712463, 2.1724323431650796, 2.0210407177607217, 2.303102413813273]\n",
            " avg_accuracies: [0.36666666666666664, 0.31666666666666665, 0.16111111111111112, 0.15555555555555556, 0.16666666666666666, 0.2611111111111111, 0.2777777777777778, 0.29444444444444445, 0.21666666666666667, 0.24444444444444444, 0.13333333333333333, 0.15, 0.2611111111111111, 0.29444444444444445, 0.25, 0.3055555555555556, 0.17777777777777778, 0.13333333333333333, 0.25555555555555554, 0.23333333333333334, 0.3111111111111111, 0.2777777777777778, 0.23333333333333334, 0.4166666666666667, 0.2777777777777778, 0.3277777777777778, 0.42777777777777776, 0.25555555555555554, 0.31666666666666665, 0.2111111111111111, 0.46111111111111114, 0.4666666666666667, 0.22777777777777777, 0.13333333333333333, 0.17222222222222222, 0.25555555555555554, 0.07222222222222222, 0.35, 0.2777777777777778, 0.17777777777777778, 0.3, 0.13333333333333333, 0.26666666666666666, 0.2111111111111111, 0.22777777777777777, 0.3388888888888889, 0.32222222222222224, 0.2611111111111111, 0.2777777777777778, 0.18333333333333332, 0.29444444444444445, 0.2388888888888889, 0.35, 0.14444444444444443, 0.1, 0.4666666666666667, 0.15555555555555556, 0.35555555555555557, 0.13333333333333333, 0.20555555555555555, 0.11666666666666667, 0.2611111111111111, 0.12222222222222222, 0.18888888888888888, 0.2611111111111111, 0.18333333333333332, 0.3055555555555556, 0.35, 0.08888888888888889, 0.26666666666666666, 0.2222222222222222, 0.2722222222222222, 0.1111111111111111, 0.29444444444444445, 0.15555555555555556, 0.11666666666666667, 0.19444444444444445, 0.2722222222222222, 0.24444444444444444, 0.3611111111111111, 0.3388888888888889, 0.2, 0.2611111111111111, 0.2611111111111111, 0.25, 0.2611111111111111, 0.2833333333333333, 0.22777777777777777, 0.31666666666666665, 0.1388888888888889, 0.2388888888888889, 0.4166666666666667, 0.18888888888888888, 0.45, 0.36666666666666664, 0.17777777777777778, 0.19444444444444445, 0.2611111111111111, 0.42777777777777776, 0.2111111111111111, 0.18333333333333332, 0.31666666666666665, 0.2777777777777778, 0.2722222222222222, 0.17222222222222222, 0.35, 0.2, 0.25, 0.2, 0.25555555555555554, 0.26666666666666666, 0.23333333333333334, 0.17222222222222222, 0.20555555555555555, 0.3111111111111111, 0.3888888888888889, 0.20555555555555555, 0.17222222222222222, 0.16666666666666666, 0.35, 0.21666666666666667, 0.14444444444444443, 0.23333333333333334, 0.13333333333333333, 0.4, 0.2, 0.18888888888888888, 0.36666666666666664, 0.2722222222222222, 0.2611111111111111, 0.3111111111111111, 0.28888888888888886, 0.2777777777777778, 0.26666666666666666, 0.15555555555555556, 0.1388888888888889, 0.2722222222222222, 0.18333333333333332, 0.13333333333333333, 0.26666666666666666, 0.3277777777777778, 0.26666666666666666, 0.32222222222222224, 0.18333333333333332, 0.25555555555555554, 0.32222222222222224, 0.3388888888888889, 0.4888888888888889, 0.34444444444444444, 0.15555555555555556, 0.4222222222222222, 0.3055555555555556, 0.06111111111111111, 0.10555555555555556, 0.2, 0.25, 0.2388888888888889, 0.3055555555555556, 0.24444444444444444, 0.16666666666666666, 0.22777777777777777, 0.23333333333333334, 0.18333333333333332, 0.2611111111111111, 0.2833333333333333, 0.15555555555555556, 0.34444444444444444, 0.2722222222222222, 0.25, 0.14444444444444443, 0.12222222222222222, 0.25, 0.3333333333333333, 0.3055555555555556, 0.29444444444444445, 0.2, 0.14444444444444443, 0.39444444444444443, 0.3111111111111111, 0.18888888888888888, 0.20555555555555555, 0.3111111111111111, 0.14444444444444443, 0.3111111111111111, 0.17222222222222222, 0.3277777777777778, 0.2111111111111111, 0.26666666666666666, 0.08888888888888889, 0.13333333333333333, 0.29444444444444445, 0.18333333333333332, 0.38333333333333336, 0.4388888888888889, 0.17222222222222222, 0.19444444444444445, 0.16111111111111112, 0.3111111111111111, 0.2, 0.29444444444444445, 0.1, 0.3333333333333333, 0.23333333333333334, 0.2611111111111111, 0.11666666666666667, 0.15, 0.25, 0.17777777777777778, 0.25555555555555554, 0.3, 0.39444444444444443, 0.19444444444444445, 0.11666666666666667, 0.3888888888888889, 0.16666666666666666, 0.14444444444444443, 0.31666666666666665, 0.2222222222222222, 0.06666666666666667, 0.2388888888888889, 0.21666666666666667, 0.17222222222222222, 0.16111111111111112, 0.23333333333333334, 0.14444444444444443, 0.17777777777777778, 0.3111111111111111, 0.26666666666666666, 0.37222222222222223, 0.28888888888888886, 0.2388888888888889, 0.29444444444444445, 0.4111111111111111, 0.19444444444444445, 0.40555555555555556, 0.3611111111111111, 0.18333333333333332, 0.31666666666666665, 0.4166666666666667, 0.36666666666666664, 0.3055555555555556, 0.18333333333333332, 0.3, 0.29444444444444445, 0.16111111111111112, 0.20555555555555555, 0.23333333333333334, 0.20555555555555555, 0.2611111111111111, 0.10555555555555556]\n",
            "Epoch 4/20\n",
            "avg_losses:[1.3839921454588573, 1.5954318046569824, 1.9535998702049255, 2.192780534426371, 2.1293315490086875, 1.92328675587972, 1.7253244519233704, 1.6777442693710327, 1.8190277814865112, 1.7421626845995586, 2.0249281326929727, 2.040270288785299, 1.70308123032252, 1.5315218170483906, 1.9503120183944702, 1.6024004817008972, 1.914462685585022, 1.905945599079132, 1.5467691620190938, 1.772527019182841, 1.7313717603683472, 1.7093595067660015, 1.9739662408828735, 0.9974304338296255, 1.510470489660899, 1.695760687192281, 1.1323113044102986, 1.7712753415107727, 1.379544973373413, 1.6424946387608845, 0.9294094642003378, 0.9934851229190826, 1.883478840192159, 2.148816764354706, 1.662081519762675, 1.873918076356252, 2.3022175232569375, 1.4088822801907857, 1.758698284626007, 2.037269572416941, 1.7719370126724243, 1.9289166728655498, 1.7475980122884114, 2.045800805091858, 1.757945676644643, 1.5719205339749653, 1.866866687933604, 1.761505901813507, 1.606676201025645, 1.9199795524279277, 1.673219362894694, 2.1499667962392173, 1.593272904555003, 2.1512340903282166, 2.3402807315190635, 1.0880135893821716, 1.9796460469563801, 1.461598555246989, 1.9255391558011372, 1.9816223978996277, 2.1370511452356973, 1.972794731458028, 2.103491226832072, 1.824374834696452, 1.6484897136688232, 1.9771980841954548, 1.5713866353034973, 1.2373822728792827, 2.135977307955424, 1.7088774641354878, 1.8599772254625957, 1.6608232259750366, 2.307086626688639, 1.5489266316095989, 2.1500487526257834, 2.2432607412338257, 1.6306234796841939, 1.7238411903381348, 2.009387969970703, 1.3747494220733643, 1.6278005043665569, 1.8070297837257385, 1.7162394523620605, 1.9446808695793152, 1.9389660954475403, 2.0077901085217795, 1.8559733033180237, 1.6343020399411519, 1.7651429375012715, 1.9837025006612141, 1.915117581685384, 1.0200491348902385, 2.074738542238871, 1.2377354900042217, 1.338849703470866, 2.0697437524795532, 1.8463520407676697, 1.4964973330497742, 1.1573393841584523, 2.026700019836426, 1.9518587986628215, 1.327850302060445, 1.3954149583975475, 1.819807271162669, 1.9775062998135884, 1.5020439227422078, 1.9806930621465046, 1.6348858873049419, 1.6355056564013164, 1.5666410525639851, 1.5465240875879924, 1.6935292879740398, 1.7179887692133586, 1.6794500946998596, 1.4364551703135173, 1.2985510627428691, 1.789900263150533, 1.999799946943919, 2.0785054763158164, 1.3686150709788005, 1.6838023861249287, 2.295103391011556, 1.729584793249766, 2.0791953404744468, 1.5484694838523865, 1.9379253188769023, 1.8423150181770325, 1.4428866704305012, 1.511920193831126, 1.9157675504684448, 1.6053085923194885, 1.8163798451423645, 1.675436278184255, 1.6365686058998108, 2.1039200027783713, 2.144850214322408, 1.6817137400309246, 2.039103329181671, 2.1962924003601074, 1.6510794560114543, 1.6210508942604065, 1.7432547410329182, 1.3498716950416565, 1.9697757164637248, 1.5430771509806316, 1.4221503138542175, 1.607278009255727, 1.2777704000473022, 1.4325181245803833, 2.0831756393114724, 1.580279270807902, 1.3236330151557922, 2.12278018395106, 2.2776767015457153, 1.5338581204414368, 1.8915711243947346, 1.530582865079244, 1.616574764251709, 1.8285280267397563, 1.7504356106122334, 1.8245292504628499, 1.6271249651908875, 2.131746451059977, 1.4262424906094868, 1.3118012150128682, 1.6613740921020508, 1.2894913752873738, 1.8667809963226318, 1.5896434982617695, 2.1041733821233115, 2.1845845381418862, 1.9885889490445454, 1.5332863728205364, 1.4170809785525005, 1.6421534617741902, 2.009443918863932, 2.1187243858973184, 1.5202791094779968, 1.833209753036499, 2.043899953365326, 1.6831061641375225, 1.4828709562619526, 2.1298850774765015, 1.5592531363169353, 1.8884634176890056, 1.5411972403526306, 1.9686155319213867, 1.6102194984753926, 2.257700761159261, 2.152131219704946, 1.7183994849522908, 1.9539146820704143, 1.323729972044627, 1.1828100581963856, 2.145853360493978, 1.876572847366333, 1.9686834613482158, 1.807826042175293, 2.155842741330465, 1.7931986053784688, 2.3140080769856772, 1.4166371424992878, 1.8589810729026794, 1.7747057874997456, 2.139472464720408, 2.062394599119822, 1.9465351303418477, 2.0774420499801636, 1.9173657298088074, 1.6353175242741902, 1.4310352206230164, 2.101080079873403, 2.2930930058161416, 1.3258097569147747, 1.874997039635976, 2.094043572743734, 1.3625561594963074, 2.112121025721232, 2.298341910044352, 1.6606428821881611, 1.6669794917106628, 2.1260509689648948, 2.17899497350057, 1.4966837962468464, 2.28731906414032, 1.9052005608876545, 1.3697782754898071, 1.853372315565745, 1.233940194050471, 1.740013102690379, 1.878921091556549, 1.7957427700360615, 1.3154246906439464, 1.945282479127248, 1.2921990255514781, 1.4520604610443115, 1.8843461672465007, 1.4502938787142436, 1.231799413760503, 1.5983761350313823, 1.5287856856981914, 2.1946791807810464, 1.525689383347829, 1.7068442503611247, 2.1915382941563926, 1.975664218266805, 1.7260647217432659, 2.0931540528933206, 1.7623976071675618, 2.3021326462427774]\n",
            " avg_accuracies: [0.5111111111111111, 0.4388888888888889, 0.26666666666666666, 0.16111111111111112, 0.16666666666666666, 0.31666666666666665, 0.3888888888888889, 0.35555555555555557, 0.26666666666666666, 0.2777777777777778, 0.28888888888888886, 0.2722222222222222, 0.35, 0.48333333333333334, 0.4, 0.3888888888888889, 0.2388888888888889, 0.28888888888888886, 0.37777777777777777, 0.36666666666666664, 0.38333333333333336, 0.3888888888888889, 0.25555555555555554, 0.6388888888888888, 0.43333333333333335, 0.36666666666666664, 0.5666666666666667, 0.34444444444444444, 0.5166666666666667, 0.38333333333333336, 0.6333333333333333, 0.6388888888888888, 0.3, 0.15555555555555556, 0.37222222222222223, 0.32222222222222224, 0.11666666666666667, 0.4, 0.3388888888888889, 0.2222222222222222, 0.35, 0.23333333333333334, 0.3888888888888889, 0.24444444444444444, 0.3611111111111111, 0.43333333333333335, 0.3388888888888889, 0.4111111111111111, 0.37222222222222223, 0.23333333333333334, 0.35555555555555557, 0.25, 0.4, 0.2222222222222222, 0.07777777777777778, 0.6055555555555555, 0.2777777777777778, 0.45, 0.3333333333333333, 0.3055555555555556, 0.23333333333333334, 0.34444444444444444, 0.22777777777777777, 0.24444444444444444, 0.3611111111111111, 0.2388888888888889, 0.42777777777777776, 0.5666666666666667, 0.18333333333333332, 0.3333333333333333, 0.29444444444444445, 0.37222222222222223, 0.11666666666666667, 0.4388888888888889, 0.21666666666666667, 0.16666666666666666, 0.3388888888888889, 0.37222222222222223, 0.2833333333333333, 0.43333333333333335, 0.4111111111111111, 0.35555555555555557, 0.3333333333333333, 0.2611111111111111, 0.2777777777777778, 0.2388888888888889, 0.2611111111111111, 0.4, 0.3888888888888889, 0.23333333333333334, 0.29444444444444445, 0.6444444444444445, 0.22777777777777777, 0.5277777777777778, 0.5055555555555555, 0.2, 0.2833333333333333, 0.4777777777777778, 0.6, 0.2111111111111111, 0.25, 0.49444444444444446, 0.5388888888888889, 0.25555555555555554, 0.3055555555555556, 0.45, 0.21666666666666667, 0.36666666666666664, 0.39444444444444443, 0.3888888888888889, 0.38333333333333336, 0.4166666666666667, 0.40555555555555556, 0.38333333333333336, 0.5, 0.5, 0.34444444444444444, 0.26666666666666666, 0.18333333333333332, 0.49444444444444446, 0.35555555555555557, 0.12777777777777777, 0.37777777777777777, 0.21666666666666667, 0.46111111111111114, 0.3888888888888889, 0.28888888888888886, 0.4388888888888889, 0.42777777777777776, 0.28888888888888886, 0.3277777777777778, 0.3055555555555556, 0.43333333333333335, 0.3055555555555556, 0.22777777777777777, 0.20555555555555555, 0.39444444444444443, 0.25, 0.19444444444444445, 0.4, 0.38333333333333336, 0.3388888888888889, 0.4666666666666667, 0.3111111111111111, 0.39444444444444443, 0.5333333333333333, 0.4222222222222222, 0.5444444444444444, 0.45, 0.2, 0.42777777777777776, 0.4388888888888889, 0.17222222222222222, 0.11666666666666667, 0.38333333333333336, 0.26666666666666666, 0.45555555555555555, 0.4, 0.3277777777777778, 0.39444444444444443, 0.2611111111111111, 0.40555555555555556, 0.2388888888888889, 0.4722222222222222, 0.4666666666666667, 0.3611111111111111, 0.5166666666666667, 0.36666666666666664, 0.35, 0.2611111111111111, 0.19444444444444445, 0.25, 0.4888888888888889, 0.4444444444444444, 0.43333333333333335, 0.2611111111111111, 0.18888888888888888, 0.4444444444444444, 0.3111111111111111, 0.32222222222222224, 0.38333333333333336, 0.4166666666666667, 0.11666666666666667, 0.4166666666666667, 0.26666666666666666, 0.4722222222222222, 0.25555555555555554, 0.39444444444444443, 0.12222222222222222, 0.2222222222222222, 0.36666666666666664, 0.2722222222222222, 0.5333333333333333, 0.5722222222222222, 0.17777777777777778, 0.29444444444444445, 0.24444444444444444, 0.3277777777777778, 0.15, 0.2833333333333333, 0.09444444444444444, 0.5222222222222223, 0.2777777777777778, 0.28888888888888886, 0.2388888888888889, 0.18333333333333332, 0.29444444444444445, 0.2222222222222222, 0.25555555555555554, 0.3888888888888889, 0.48333333333333334, 0.17777777777777778, 0.12777777777777777, 0.5, 0.3277777777777778, 0.16111111111111112, 0.5333333333333333, 0.20555555555555555, 0.14444444444444443, 0.3888888888888889, 0.38333333333333336, 0.23333333333333334, 0.17777777777777778, 0.45, 0.13333333333333333, 0.3333333333333333, 0.45, 0.3277777777777778, 0.5388888888888889, 0.36666666666666664, 0.3277777777777778, 0.32222222222222224, 0.5777777777777777, 0.34444444444444444, 0.4666666666666667, 0.5111111111111111, 0.35, 0.46111111111111114, 0.5277777777777778, 0.38333333333333336, 0.4666666666666667, 0.2, 0.4166666666666667, 0.3333333333333333, 0.20555555555555555, 0.2611111111111111, 0.31666666666666665, 0.21666666666666667, 0.37222222222222223, 0.1111111111111111]\n",
            "Epoch 5/20\n",
            "avg_losses:[1.090969294309616, 1.236420343319575, 1.6803133885065715, 2.082251250743866, 2.005480945110321, 1.6195212801297505, 1.2802566091219585, 1.322580595811208, 1.608197271823883, 1.8013457457224529, 1.6457311908404033, 1.933641831080119, 1.5279662410418193, 1.2470775842666626, 1.6314251621564229, 1.6052003701527913, 1.7376228372255962, 1.7722167770067851, 1.1325035095214844, 1.4228096008300781, 1.3470968802769978, 1.4480615854263306, 1.695962945620219, 0.9715512891610464, 1.2404170831044514, 1.515767494837443, 0.9920358955860138, 1.5406116445859273, 1.108236402273178, 1.6922880212465923, 0.814887007077535, 0.7820598185062408, 1.7514689962069194, 1.9079769055048625, 1.5158729155858357, 1.4404518206914265, 2.259436766306559, 1.1325034300486247, 1.4112324913342793, 1.9204044739405315, 1.4416961669921875, 1.639112651348114, 1.327179749806722, 1.646589497725169, 1.5031901597976685, 1.1977904538313549, 1.6534294883410137, 1.451380451520284, 1.389814595381419, 1.7856089274088542, 1.4631205002466838, 1.8980649908383687, 1.082124392191569, 2.174723188082377, 2.2895767291386924, 0.7123186786969503, 1.7739569147427876, 1.208267867565155, 1.7165363629659016, 1.670483370621999, 1.8374995787938435, 1.7314377427101135, 1.8685433467229207, 1.4699079593022664, 1.5624598463376362, 1.7255542874336243, 1.1451587776343028, 0.8973361651102701, 1.928038974603017, 1.689001699288686, 1.8578861554463704, 1.3564194639523823, 2.3056097825368247, 1.3490238984425862, 2.032263378302256, 2.0978064934412637, 1.3240635991096497, 1.5160131057103474, 1.8156406879425049, 1.2955347100893657, 1.3718193471431732, 1.4683669010798137, 1.3470793565114338, 1.7123328646024067, 1.7896042664845784, 1.934811035792033, 1.6208397547403972, 1.3916621406873066, 1.6277080178260803, 1.9217792948087056, 1.8377862572669983, 0.9598542253176371, 1.8599361181259155, 0.9894124865531921, 1.0740652183691661, 1.8826839327812195, 1.6772008140881856, 1.1361320714155834, 0.7469834486643473, 2.014334817727407, 1.618420422077179, 1.0443239510059357, 0.9118347416321436, 1.6261339982350667, 1.8676746884981792, 1.2135984003543854, 1.889720857143402, 1.2040716707706451, 1.2054892579714458, 1.2288831273714702, 1.210745354493459, 1.7987591624259949, 1.4266021450360615, 1.3762169281641643, 1.0766935249169667, 1.0252114534378052, 1.6387158433596294, 1.7155938744544983, 1.961326777935028, 1.0956370731194813, 1.3653495113054912, 2.2919106086095176, 1.2966543634732564, 2.036087393760681, 1.2540027499198914, 1.493152379989624, 1.638420820236206, 0.9712461034456888, 1.2725673417250316, 1.5632796883583069, 1.3957493901252747, 1.5409523248672485, 1.4581911365191143, 1.7428029576937358, 2.0834455092748008, 1.888336221377055, 1.4092519481976826, 1.8898079792658489, 2.0512854854265847, 1.3866050839424133, 1.2101205090681713, 1.5579615434010823, 1.0081986884276073, 1.6886472702026367, 1.2534581422805786, 1.2656065722306569, 1.492936909198761, 1.2949722210566204, 1.27480947971344, 1.8531229098637898, 1.579778532187144, 1.1324069499969482, 1.8889001806577046, 2.207404454549154, 1.3601093987623851, 1.6007316708564758, 1.2810677289962769, 1.265155593554179, 1.629362444082896, 1.5755533973375957, 1.6315859754880269, 1.3733242948849995, 2.051423947016398, 0.9735084374745687, 1.3213849465052288, 1.4574721455574036, 0.9579219420750936, 1.553855578104655, 1.458569884300232, 1.909430205821991, 2.032434344291687, 1.8239220182100933, 1.2178740600744884, 1.2967379490534465, 1.3113262554009755, 1.727987786134084, 2.0436043739318848, 1.4892210761706035, 1.5813152988751729, 1.6267038385073345, 1.342328389485677, 1.16104261080424, 2.020979344844818, 1.2538985113302867, 1.775635560353597, 1.3277867039044697, 1.6219822963078816, 1.3478729923566182, 2.1930038134256997, 2.108636975288391, 1.5310104091962178, 1.8237432837486267, 1.1740489800771077, 1.0899364749590557, 1.9843958616256714, 1.7330295642217, 1.7334294716517131, 1.5580407977104187, 1.927575906117757, 1.5585471987724304, 2.3108736673990884, 1.0943524539470673, 1.7876290480295818, 1.6360155542691548, 1.986493746439616, 1.7787585059801738, 1.748545507589976, 2.002773423989614, 1.5342268745104473, 1.1052451133728027, 1.2963145077228546, 2.059742192427317, 2.295390566190084, 1.1325380603472393, 1.633912185827891, 2.2228414018948874, 1.0197720925013225, 1.967734654744466, 2.2952969074249268, 1.1955428222815196, 1.5140822728474934, 1.9958014090855916, 2.00131885210673, 1.1212959984938304, 2.218692898750305, 1.515617807706197, 1.0068049629529316, 1.7491839329401653, 0.9065515498320261, 1.4383847912152607, 1.6027302742004395, 1.5454639792442322, 1.0697504878044128, 1.6783357858657837, 0.9318204522132874, 0.9338786005973816, 1.7233487566312153, 1.1386658449967701, 0.8280238012472788, 1.0923952460289001, 1.143772115310033, 2.049211303393046, 1.3863486448923747, 1.6292571028073628, 1.9695279002189636, 1.8444792826970418, 1.5824021299680073, 2.064931849638621, 1.4340725739796956, 2.3049238522847495]\n",
            " avg_accuracies: [0.6055555555555555, 0.4777777777777778, 0.4, 0.16666666666666666, 0.17222222222222222, 0.4666666666666667, 0.5444444444444444, 0.4666666666666667, 0.3888888888888889, 0.3333333333333333, 0.42777777777777776, 0.2833333333333333, 0.4388888888888889, 0.5444444444444444, 0.45555555555555555, 0.37777777777777777, 0.2611111111111111, 0.2611111111111111, 0.6055555555555555, 0.4444444444444444, 0.49444444444444446, 0.4388888888888889, 0.37777777777777777, 0.6444444444444445, 0.5277777777777778, 0.39444444444444443, 0.6222222222222222, 0.43333333333333335, 0.6111111111111112, 0.3611111111111111, 0.6722222222222223, 0.6611111111111111, 0.3388888888888889, 0.25555555555555554, 0.4111111111111111, 0.4222222222222222, 0.09444444444444444, 0.5444444444444444, 0.48333333333333334, 0.2833333333333333, 0.42777777777777776, 0.2833333333333333, 0.4722222222222222, 0.3611111111111111, 0.45555555555555555, 0.5555555555555556, 0.37222222222222223, 0.4888888888888889, 0.4777777777777778, 0.23333333333333334, 0.38333333333333336, 0.3111111111111111, 0.6, 0.2111111111111111, 0.12777777777777777, 0.7111111111111111, 0.40555555555555556, 0.5888888888888889, 0.3333333333333333, 0.35555555555555557, 0.28888888888888886, 0.40555555555555556, 0.29444444444444445, 0.39444444444444443, 0.4222222222222222, 0.36666666666666664, 0.5833333333333334, 0.6222222222222222, 0.24444444444444444, 0.2833333333333333, 0.2833333333333333, 0.5388888888888889, 0.10555555555555556, 0.5722222222222222, 0.2111111111111111, 0.2, 0.5111111111111111, 0.4, 0.3277777777777778, 0.4666666666666667, 0.4777777777777778, 0.45555555555555555, 0.46111111111111114, 0.3111111111111111, 0.28888888888888886, 0.25555555555555554, 0.4222222222222222, 0.4666666666666667, 0.4, 0.31666666666666665, 0.31666666666666665, 0.7, 0.25, 0.6611111111111111, 0.6222222222222222, 0.25555555555555554, 0.39444444444444443, 0.5166666666666667, 0.7444444444444445, 0.2388888888888889, 0.3888888888888889, 0.6166666666666667, 0.6777777777777778, 0.35555555555555557, 0.28888888888888886, 0.5722222222222222, 0.19444444444444445, 0.5166666666666667, 0.6, 0.5388888888888889, 0.49444444444444446, 0.3388888888888889, 0.4444444444444444, 0.4722222222222222, 0.5944444444444444, 0.6444444444444445, 0.4166666666666667, 0.35555555555555557, 0.2111111111111111, 0.5833333333333334, 0.45, 0.13333333333333333, 0.5111111111111111, 0.26666666666666666, 0.5555555555555556, 0.4888888888888889, 0.3277777777777778, 0.6888888888888889, 0.49444444444444446, 0.3611111111111111, 0.35, 0.37222222222222223, 0.4388888888888889, 0.3277777777777778, 0.2111111111111111, 0.26666666666666666, 0.5222222222222223, 0.28888888888888886, 0.2222222222222222, 0.46111111111111114, 0.5555555555555556, 0.48333333333333334, 0.6111111111111112, 0.37222222222222223, 0.4777777777777778, 0.55, 0.46111111111111114, 0.5222222222222223, 0.5166666666666667, 0.26666666666666666, 0.48333333333333334, 0.5611111111111111, 0.20555555555555555, 0.16666666666666666, 0.49444444444444446, 0.39444444444444443, 0.5388888888888889, 0.5222222222222223, 0.37777777777777777, 0.5277777777777778, 0.3611111111111111, 0.5166666666666667, 0.2388888888888889, 0.6222222222222222, 0.4722222222222222, 0.4166666666666667, 0.6944444444444444, 0.40555555555555556, 0.43333333333333335, 0.40555555555555556, 0.19444444444444445, 0.3277777777777778, 0.55, 0.4777777777777778, 0.5333333333333333, 0.32222222222222224, 0.21666666666666667, 0.5, 0.3888888888888889, 0.4166666666666667, 0.45, 0.5388888888888889, 0.2111111111111111, 0.5611111111111111, 0.34444444444444444, 0.5333333333333333, 0.3888888888888889, 0.46111111111111114, 0.16111111111111112, 0.2611111111111111, 0.45555555555555555, 0.3055555555555556, 0.5166666666666667, 0.6444444444444445, 0.2611111111111111, 0.3277777777777778, 0.3111111111111111, 0.4166666666666667, 0.35555555555555557, 0.4222222222222222, 0.08333333333333333, 0.6333333333333333, 0.2833333333333333, 0.3888888888888889, 0.22777777777777777, 0.34444444444444444, 0.3055555555555556, 0.29444444444444445, 0.4222222222222222, 0.6, 0.5388888888888889, 0.16666666666666666, 0.12222222222222222, 0.6166666666666667, 0.3888888888888889, 0.23333333333333334, 0.6722222222222223, 0.2611111111111111, 0.1388888888888889, 0.5388888888888889, 0.45, 0.2777777777777778, 0.37222222222222223, 0.55, 0.19444444444444445, 0.42777777777777776, 0.5944444444444444, 0.28888888888888886, 0.6555555555555556, 0.4444444444444444, 0.4444444444444444, 0.4, 0.6388888888888888, 0.38333333333333336, 0.6333333333333333, 0.6333333333333333, 0.35555555555555557, 0.5333333333333333, 0.7055555555555556, 0.5666666666666667, 0.5777777777777777, 0.2833333333333333, 0.45, 0.35, 0.2722222222222222, 0.31666666666666665, 0.40555555555555556, 0.24444444444444444, 0.4722222222222222, 0.07777777777777778]\n",
            "Epoch 6/20\n",
            "avg_losses:[0.8159300287564596, 1.0710562765598297, 1.3945525884628296, 2.012115001678467, 1.8207362095514934, 1.538329799969991, 1.031500369310379, 1.3281766176223755, 1.5374860366185505, 1.8292492032051086, 1.3402067422866821, 1.8509851296742756, 1.1068771481513977, 0.9683548013369242, 1.3142382303873699, 1.3710019787152607, 1.6768633524576824, 1.6145463784535725, 1.035587191581726, 0.9273324410120646, 1.2510381539662678, 1.1831536690394084, 1.603256603082021, 0.6827496687571207, 1.1067744592825572, 1.4825165669123332, 0.8488377531369528, 1.4651130437850952, 1.13039497534434, 1.49686203400294, 0.7669656276702881, 0.6498778561751047, 1.7387216289838154, 1.7934274872144063, 1.3294438123703003, 1.1450505355993907, 2.064461906750997, 0.8645690679550171, 1.0126279195149739, 1.7981157501538594, 1.192146013180415, 1.3240218758583069, 1.1498428483804066, 1.2538242936134338, 1.3677832086881, 1.0296691556771596, 1.3900534113248189, 1.3406749765078227, 1.1777605414390564, 1.6775452693303425, 1.386082649230957, 1.7459587852160137, 0.7881276408831278, 2.0658377607663474, 2.153957506020864, 0.49027112126350403, 1.7035902539889018, 1.071040004491806, 1.4863998492558796, 1.3449762264887493, 1.5321528911590576, 1.5862603187561035, 1.699185053507487, 1.2597061296304066, 1.3908505042394002, 1.5003860592842102, 1.039950301249822, 0.9964009424050649, 1.7880620956420898, 1.442124843597412, 1.8489198287328084, 1.1485154728094737, 2.2990156014760337, 1.0907562176386516, 1.926921049753825, 1.925925890604655, 1.0653446515401204, 1.2746822635332744, 1.704193115234375, 0.987070639928182, 1.1323738793532054, 1.1332228481769562, 1.2853663961092632, 1.7663018306096394, 1.7913509607315063, 1.8446161150932312, 1.3086596131324768, 1.1506606936454773, 1.3378870487213135, 1.7391446431477864, 1.9015010794003804, 1.02475905418396, 1.571812132994334, 0.9344066381454468, 0.8883720537026724, 1.6779483755429585, 1.5000319083531697, 1.0913119216759999, 0.6337035099665324, 1.8780762155850728, 1.4928047060966492, 0.8366418977578481, 0.6322467774152756, 1.6377432942390442, 1.7402053674062092, 0.915134867032369, 1.6692002813021343, 0.9424635072549185, 1.0710947215557098, 1.254718502362569, 0.8746787905693054, 1.6891700625419617, 1.3044174114863079, 1.204051633675893, 0.8664453526337942, 0.8642784456411997, 1.2440153360366821, 1.6735200881958008, 1.8097202777862549, 1.1076932450135548, 1.126669188340505, 2.2942992051442466, 1.089219907919566, 1.9854386647542317, 1.1616202493508656, 1.3889838854471843, 1.376591165860494, 1.0969363351662953, 1.1782736480236053, 1.372241993745168, 1.1986044645309448, 1.4075581034024556, 1.2032883961995442, 1.4617271820704143, 2.048652013142904, 1.6045655806859334, 1.147523711125056, 1.8860374093055725, 2.023939847946167, 1.2875112891197205, 1.0977868835131328, 1.340041716893514, 0.9519482751687368, 1.4726348121960957, 1.0639583071072896, 1.074448178211848, 1.3990373611450195, 1.1329232354958851, 0.8357303241888682, 1.7196274797121684, 1.3243721028168995, 0.8896710971991221, 1.8129152059555054, 2.191664536794027, 1.3073249955972035, 1.2732491890589397, 1.1990965406099956, 1.1484963198502858, 1.3504733244578044, 1.3333269357681274, 1.4953821102778118, 1.1671121815840404, 1.9966869751612346, 0.9296903113524119, 0.9810534417629242, 1.1518560846646626, 0.8630467553933462, 1.4008277257283528, 1.4505487283070881, 1.7359414299329121, 1.8619422316551208, 1.5833528637886047, 1.1425679723421733, 1.1805232465267181, 1.1719396511713664, 1.7112788359324138, 2.0009902715682983, 1.1514471371968586, 1.317965070406596, 1.356502632300059, 1.1401436924934387, 1.0007299482822418, 1.9874939918518066, 0.926168700059255, 1.678351640701294, 1.1651987234751384, 1.471884826819102, 1.333372135957082, 2.085697809855143, 1.8907886147499084, 1.2554028431574504, 1.7871244351069133, 1.061617761850357, 0.9153018593788147, 1.9022717277208965, 1.7865932782491047, 1.5092496673266094, 1.435943106810252, 1.771683891614278, 1.4845086932182312, 2.3019584814707437, 0.7605104943116506, 1.6600641409556072, 1.4619746605555217, 1.8431020577748616, 1.5861246983210247, 1.6274158159891765, 1.8369179566701253, 1.6537604331970215, 0.8591537972291311, 1.2642711798350017, 1.996035099029541, 2.24022646745046, 0.9885560174783071, 1.3838546872138977, 1.89533398548762, 0.8332421282927195, 1.7756609519322712, 2.2924617528915405, 1.329068253437678, 1.103717674811681, 1.8028059204419453, 1.8129140734672546, 1.0405681331952412, 2.1731088161468506, 1.3065228362878163, 0.7185011208057404, 1.619605044523875, 0.7160574595133463, 1.166588008403778, 1.3012160261472066, 1.566244105497996, 0.9360894362131754, 1.3111522595087688, 0.7787910252809525, 0.7091017266114553, 1.558256447315216, 0.8796831766764323, 0.5794906616210938, 0.9437772730986277, 1.1592675348122914, 1.913122872511546, 1.294473260641098, 1.3910227914651234, 1.8884599010149639, 1.6666352152824402, 1.3119227886199951, 1.9287893573443096, 1.1624111036459606, 2.2973786195119223]\n",
            " avg_accuracies: [0.6888888888888889, 0.55, 0.5, 0.17222222222222222, 0.2777777777777778, 0.48333333333333334, 0.6444444444444445, 0.45555555555555555, 0.38333333333333336, 0.36666666666666664, 0.5444444444444444, 0.26666666666666666, 0.6222222222222222, 0.6611111111111111, 0.5722222222222222, 0.5111111111111111, 0.3333333333333333, 0.2777777777777778, 0.6111111111111112, 0.6722222222222223, 0.5222222222222223, 0.5555555555555556, 0.39444444444444443, 0.75, 0.6166666666666667, 0.45, 0.6555555555555556, 0.4666666666666667, 0.6333333333333333, 0.4888888888888889, 0.7444444444444445, 0.7555555555555555, 0.31666666666666665, 0.29444444444444445, 0.46111111111111114, 0.5666666666666667, 0.18333333333333332, 0.6277777777777778, 0.6333333333333333, 0.29444444444444445, 0.5055555555555555, 0.5, 0.5944444444444444, 0.5722222222222222, 0.5333333333333333, 0.6166666666666667, 0.4444444444444444, 0.5333333333333333, 0.5722222222222222, 0.2777777777777778, 0.40555555555555556, 0.32222222222222224, 0.7055555555555556, 0.28888888888888886, 0.2111111111111111, 0.7944444444444444, 0.3277777777777778, 0.5888888888888889, 0.4722222222222222, 0.4722222222222222, 0.43333333333333335, 0.45, 0.37777777777777777, 0.5333333333333333, 0.43333333333333335, 0.4722222222222222, 0.6388888888888888, 0.65, 0.3, 0.4388888888888889, 0.23333333333333334, 0.5833333333333334, 0.1111111111111111, 0.5833333333333334, 0.19444444444444445, 0.25, 0.6, 0.5111111111111111, 0.3611111111111111, 0.6444444444444445, 0.5944444444444444, 0.5611111111111111, 0.5666666666666667, 0.34444444444444444, 0.28888888888888886, 0.3, 0.5, 0.5888888888888889, 0.5277777777777778, 0.3111111111111111, 0.2722222222222222, 0.6333333333333333, 0.4111111111111111, 0.6333333333333333, 0.6444444444444445, 0.31666666666666665, 0.48333333333333334, 0.6, 0.7944444444444444, 0.24444444444444444, 0.3888888888888889, 0.6944444444444444, 0.7777777777777778, 0.3277777777777778, 0.34444444444444444, 0.6722222222222223, 0.38333333333333336, 0.5944444444444444, 0.5888888888888889, 0.6, 0.6111111111111112, 0.39444444444444443, 0.5111111111111111, 0.6, 0.6777777777777778, 0.7, 0.5444444444444444, 0.36666666666666664, 0.2611111111111111, 0.5611111111111111, 0.5833333333333334, 0.12777777777777777, 0.6111111111111112, 0.3055555555555556, 0.5777777777777777, 0.5222222222222223, 0.46111111111111114, 0.65, 0.5666666666666667, 0.46111111111111114, 0.4666666666666667, 0.4444444444444444, 0.5333333333333333, 0.4444444444444444, 0.19444444444444445, 0.35, 0.5833333333333334, 0.28888888888888886, 0.2777777777777778, 0.5055555555555555, 0.5944444444444444, 0.5277777777777778, 0.6166666666666667, 0.4222222222222222, 0.6166666666666667, 0.6166666666666667, 0.5, 0.5722222222222222, 0.6722222222222223, 0.32222222222222224, 0.5166666666666667, 0.6944444444444444, 0.31666666666666665, 0.15555555555555556, 0.5388888888888889, 0.5222222222222223, 0.5333333333333333, 0.6055555555555555, 0.48333333333333334, 0.5722222222222222, 0.4444444444444444, 0.5666666666666667, 0.2611111111111111, 0.6444444444444445, 0.6277777777777778, 0.6166666666666667, 0.65, 0.4722222222222222, 0.4444444444444444, 0.4, 0.2611111111111111, 0.38333333333333336, 0.5666666666666667, 0.5388888888888889, 0.5722222222222222, 0.29444444444444445, 0.19444444444444445, 0.5777777777777777, 0.5, 0.49444444444444446, 0.5555555555555556, 0.6277777777777778, 0.2111111111111111, 0.6555555555555556, 0.35555555555555557, 0.5666666666666667, 0.45, 0.4111111111111111, 0.19444444444444445, 0.3111111111111111, 0.48333333333333334, 0.3, 0.5722222222222222, 0.6944444444444444, 0.29444444444444445, 0.35555555555555557, 0.45555555555555555, 0.4166666666666667, 0.3333333333333333, 0.4222222222222222, 0.1, 0.7222222222222222, 0.4222222222222222, 0.43333333333333335, 0.2722222222222222, 0.35, 0.35, 0.34444444444444444, 0.40555555555555556, 0.7111111111111111, 0.5, 0.23333333333333334, 0.18333333333333332, 0.65, 0.4166666666666667, 0.3, 0.6888888888888889, 0.32222222222222224, 0.12222222222222222, 0.5055555555555555, 0.5777777777777777, 0.37777777777777777, 0.3611111111111111, 0.5833333333333334, 0.2, 0.5333333333333333, 0.7611111111111111, 0.4, 0.7388888888888889, 0.5388888888888889, 0.4722222222222222, 0.4777777777777778, 0.6833333333333333, 0.4888888888888889, 0.6944444444444444, 0.7555555555555555, 0.37777777777777777, 0.7055555555555556, 0.7944444444444444, 0.5777777777777777, 0.6055555555555555, 0.2833333333333333, 0.4722222222222222, 0.4444444444444444, 0.32222222222222224, 0.40555555555555556, 0.49444444444444446, 0.2722222222222222, 0.5555555555555556, 0.10555555555555556]\n",
            "Epoch 7/20\n",
            "avg_losses:[0.6354039559761683, 0.8531357248624166, 1.2126323978106182, 1.9411500295003254, 1.5455664992332458, 1.2251923779646556, 0.7899596293767294, 1.1048387984434764, 1.339586357275645, 1.7088049054145813, 1.018246869246165, 1.633361279964447, 0.9619141022364298, 0.8392253418763479, 0.9083971281846365, 1.230370928843816, 1.595664620399475, 1.5408154129981995, 0.7864245573679606, 0.9181440025568008, 1.1260722676912944, 0.8980577190717062, 1.3994741837183635, 0.6629249850908915, 0.9830053647359213, 1.4468170007069905, 0.8052225510279337, 1.3064688543478649, 0.9721044500668844, 1.2970248858133953, 0.5365784068902334, 0.760837326447169, 1.6368188659350078, 1.670302430788676, 1.325514316558838, 1.1600309014320374, 1.8537081281344097, 0.7839377919832865, 0.8313118716080984, 1.6861632267634075, 1.0512576003869374, 1.2490959664185841, 0.9513725141684214, 1.015935907761256, 1.2238088150819142, 0.9186004002888998, 1.2924677928288777, 1.106330394744873, 1.007351130247116, 1.3891993761062622, 1.1949195464452107, 1.5374650756518047, 1.0417531530062358, 1.907885770003001, 2.0120763381322226, 0.4221956878900528, 1.5196168025334675, 0.8584685722986857, 1.4847841660181682, 1.2421919703483582, 1.2655011812845867, 1.5617702404658, 1.5219198664029439, 1.1028893788655598, 1.1246265769004822, 1.5670082767804463, 1.2535313963890076, 0.8069375455379486, 1.6798436244328816, 1.3276851375897725, 1.849128782749176, 0.9083694914976755, 2.3012282053629556, 0.8854877352714539, 1.8107828696568806, 1.7653364340464275, 1.0094267924626668, 1.1565437316894531, 1.500469148159027, 0.96318186322848, 0.8596644103527069, 0.975807785987854, 0.7908104211091995, 1.5100602110226948, 1.9342869520187378, 1.82412455479304, 1.1276771624883015, 1.0911905566851299, 1.093382865190506, 1.5588835676511128, 1.8377493222554524, 0.7653114845355352, 1.3684995969136555, 0.6798230012257894, 0.6054003238677979, 1.3489302794138591, 1.3297139803568523, 0.9431586364905039, 0.38378622631231946, 1.7039697766304016, 1.3616013526916504, 0.6364502161741257, 0.3572356030344963, 1.4863578081130981, 1.6747238039970398, 0.8351659526427587, 1.6718891859054565, 0.7779474556446075, 0.9593941867351532, 1.082313060760498, 0.7274892230828603, 1.6022737622261047, 1.077787180741628, 1.2258859674135845, 0.7558154265085856, 0.6629785547653834, 1.0835950473944347, 1.6188786625862122, 1.7220853964487712, 0.878926416238149, 0.9869000017642975, 2.2971014976501465, 0.8858030835787455, 1.9955854415893555, 0.9606141448020935, 1.1856350302696228, 1.1512943307558696, 0.8165812393029531, 1.0201267997423809, 1.400420884291331, 1.200332115093867, 1.3692263563474019, 1.0660710235436757, 1.3470877210299175, 2.0339750051498413, 1.4915564854939778, 0.8927134871482849, 1.787555734316508, 1.8446150819460552, 1.1421798467636108, 0.9275689919789633, 1.2131462593873341, 0.7666267702976862, 1.277908722559611, 0.9333374798297882, 0.9104500909646353, 1.1091941893100739, 0.7520948449770609, 0.8121649225552877, 1.592428704102834, 1.14126917719841, 0.7825325131416321, 1.711525022983551, 2.138423959414164, 1.1178060273329418, 1.1902428766091664, 0.8712934851646423, 1.3084864815076191, 0.9763714671134949, 1.059260070323944, 1.3407776554425557, 0.9447309772173563, 1.9693504770596821, 0.7080816825230917, 0.7991447200377783, 0.9473429620265961, 0.669880082209905, 1.3273476858933766, 1.2842251459757488, 1.7365537285804749, 1.7370599309603374, 1.3516123692194622, 1.0011457800865173, 1.1066281100114186, 0.9849255979061127, 1.5997416377067566, 1.9423779050509136, 0.9594418704509735, 1.2920347253481548, 1.0487179160118103, 1.0361706813176472, 0.8209564487139384, 1.9224043289820354, 0.8145155807336172, 1.6434889038403828, 0.8750098645687103, 1.2092771530151367, 1.0636496047178905, 2.055164317289988, 1.7641935149828594, 1.087730089823405, 1.8577890992164612, 0.9424902896086375, 0.7927555094162623, 1.8489898443222046, 1.6350716551144917, 1.3390676379203796, 1.2312355637550354, 1.638461709022522, 1.6325995127360027, 2.3022400935490928, 0.5539028147856394, 1.4936687747637432, 1.306442677974701, 1.7638871669769287, 1.2710062861442566, 1.4059645533561707, 1.8324142893155415, 1.4548904299736023, 0.8960557778676351, 1.0249976913134258, 1.9310131669044495, 2.0332295894622803, 0.855218380689621, 1.2974443435668945, 1.8394800027211506, 0.7223790536324183, 1.6675726373990376, 2.2901492516199746, 1.1146592795848846, 1.0886282126108806, 1.7406160434087117, 1.5569640398025513, 0.9856162170569102, 2.0633725921312966, 1.1783841053644817, 0.7211694270372391, 1.4477784633636475, 0.7708821793397268, 0.9326700667540232, 1.2370275954405467, 1.407349208990733, 0.7918777763843536, 1.439527581135432, 0.7345165908336639, 0.5513488550980886, 1.3929469982783, 0.8587303956349691, 0.5320266882578532, 0.6887349834044775, 1.0431298514207203, 1.7202933231989543, 1.1327935755252838, 1.2374467651049297, 1.772394597530365, 1.596221347649892, 1.3567514916261036, 1.8013999660809834, 0.9541312754154205, 2.2954330444335938]\n",
            " avg_accuracies: [0.7666666666666667, 0.6, 0.49444444444444446, 0.24444444444444444, 0.4111111111111111, 0.5444444444444444, 0.7111111111111111, 0.6111111111111112, 0.4666666666666667, 0.36666666666666664, 0.6055555555555555, 0.4222222222222222, 0.6111111111111112, 0.6722222222222223, 0.6666666666666666, 0.4888888888888889, 0.35555555555555557, 0.4, 0.7166666666666667, 0.6388888888888888, 0.5277777777777778, 0.6611111111111111, 0.4444444444444444, 0.7722222222222223, 0.65, 0.4166666666666667, 0.6944444444444444, 0.5277777777777778, 0.6833333333333333, 0.45555555555555555, 0.7833333333333333, 0.7388888888888889, 0.3611111111111111, 0.3333333333333333, 0.4888888888888889, 0.5611111111111111, 0.35, 0.6222222222222222, 0.7333333333333333, 0.37222222222222223, 0.5888888888888889, 0.5555555555555556, 0.65, 0.6611111111111111, 0.5611111111111111, 0.6555555555555556, 0.5277777777777778, 0.5611111111111111, 0.6722222222222223, 0.4888888888888889, 0.49444444444444446, 0.43333333333333335, 0.65, 0.31666666666666665, 0.26666666666666666, 0.8333333333333334, 0.40555555555555556, 0.6833333333333333, 0.45, 0.5, 0.5222222222222223, 0.4444444444444444, 0.4166666666666667, 0.5666666666666667, 0.5277777777777778, 0.4666666666666667, 0.6, 0.6944444444444444, 0.3888888888888889, 0.4666666666666667, 0.2722222222222222, 0.6166666666666667, 0.10555555555555556, 0.6888888888888889, 0.3, 0.3333333333333333, 0.6111111111111112, 0.5, 0.4222222222222222, 0.6611111111111111, 0.6333333333333333, 0.6277777777777778, 0.7055555555555556, 0.4166666666666667, 0.2777777777777778, 0.2722222222222222, 0.5333333333333333, 0.5611111111111111, 0.6166666666666667, 0.36666666666666664, 0.3, 0.6833333333333333, 0.46111111111111114, 0.7333333333333333, 0.7777777777777778, 0.4166666666666667, 0.48333333333333334, 0.6333333333333333, 0.8888888888888888, 0.36666666666666664, 0.45, 0.7388888888888889, 0.9055555555555556, 0.3888888888888889, 0.36666666666666664, 0.7388888888888889, 0.3277777777777778, 0.6444444444444445, 0.7055555555555556, 0.5888888888888889, 0.6944444444444444, 0.37222222222222223, 0.6, 0.5, 0.7444444444444445, 0.7833333333333333, 0.5722222222222222, 0.3388888888888889, 0.3, 0.65, 0.5944444444444444, 0.12222222222222222, 0.6555555555555556, 0.2722222222222222, 0.6666666666666666, 0.5722222222222222, 0.5277777777777778, 0.7, 0.5944444444444444, 0.45555555555555555, 0.42777777777777776, 0.4444444444444444, 0.5666666666666667, 0.49444444444444446, 0.2, 0.35, 0.6111111111111112, 0.29444444444444445, 0.2222222222222222, 0.5555555555555556, 0.6777777777777778, 0.5444444444444444, 0.7111111111111111, 0.4777777777777778, 0.5944444444444444, 0.6888888888888889, 0.6055555555555555, 0.7388888888888889, 0.6722222222222223, 0.4722222222222222, 0.5722222222222222, 0.6888888888888889, 0.3333333333333333, 0.18888888888888888, 0.6333333333333333, 0.5666666666666667, 0.6833333333333333, 0.5333333333333333, 0.65, 0.6111111111111112, 0.5055555555555555, 0.6055555555555555, 0.2611111111111111, 0.7055555555555556, 0.7333333333333333, 0.6166666666666667, 0.7388888888888889, 0.49444444444444446, 0.48333333333333334, 0.37777777777777777, 0.3111111111111111, 0.4666666666666667, 0.6388888888888888, 0.6, 0.6388888888888888, 0.37777777777777777, 0.2388888888888889, 0.6666666666666666, 0.5055555555555555, 0.65, 0.6166666666666667, 0.7166666666666667, 0.20555555555555555, 0.6888888888888889, 0.4166666666666667, 0.6611111111111111, 0.5444444444444444, 0.5555555555555556, 0.17777777777777778, 0.3388888888888889, 0.5111111111111111, 0.2722222222222222, 0.6277777777777778, 0.7055555555555556, 0.2833333333333333, 0.4388888888888889, 0.4722222222222222, 0.5166666666666667, 0.42777777777777776, 0.3611111111111111, 0.12222222222222222, 0.7888888888888889, 0.43333333333333335, 0.45555555555555555, 0.3, 0.49444444444444446, 0.43333333333333335, 0.34444444444444444, 0.4444444444444444, 0.6722222222222223, 0.5777777777777777, 0.2777777777777778, 0.2388888888888889, 0.7111111111111111, 0.5111111111111111, 0.2777777777777778, 0.7666666666666667, 0.32222222222222224, 0.14444444444444443, 0.55, 0.6111111111111112, 0.37777777777777777, 0.38333333333333336, 0.6111111111111112, 0.25, 0.5277777777777778, 0.8055555555555556, 0.4222222222222222, 0.7277777777777777, 0.6555555555555556, 0.5166666666666667, 0.3888888888888889, 0.7277777777777777, 0.5111111111111111, 0.7055555555555556, 0.7833333333333333, 0.4444444444444444, 0.7166666666666667, 0.8111111111111111, 0.7444444444444445, 0.65, 0.31666666666666665, 0.5277777777777778, 0.5166666666666667, 0.3388888888888889, 0.4166666666666667, 0.5555555555555556, 0.3111111111111111, 0.7, 0.07222222222222222]\n",
            "Epoch 8/20\n",
            "avg_losses:[0.5516669799884161, 0.8597707251707712, 1.1483616530895233, 1.9215425848960876, 1.2098069389661152, 1.10159436861674, 0.5844625035921732, 1.1504138211409252, 1.13576078414917, 1.4821282426516216, 0.8278091351191202, 1.5155203739802043, 0.9251825710137686, 0.7557972073554993, 0.7202039758364359, 1.0583371420701344, 1.4693153699239094, 1.5806784431139629, 0.5595749268929163, 0.7053179492553076, 1.160099486509959, 0.7638693849245707, 1.228098750114441, 0.6338272194067637, 0.7341350118319193, 1.6068233052889507, 0.7946962416172028, 1.0346287190914154, 0.9067090253035227, 1.1242756843566895, 0.49853075419863063, 0.6917741249004999, 1.509595255057017, 1.5991705854733784, 1.1501407225926716, 0.9357073903083801, 1.7817949652671814, 0.8329869012037913, 0.84698453048865, 1.5736914277076721, 0.8251948952674866, 1.0496081709861755, 0.9345961660146713, 0.8383226891358694, 0.987814595301946, 0.6180335581302643, 1.1383120914300282, 0.9425454437732697, 0.8584483563899994, 0.9880601267019907, 1.083259105682373, 1.4943034052848816, 0.9133760382731756, 1.854302167892456, 1.90593018134435, 0.4944606473048528, 1.4413918852806091, 0.5714518477519354, 1.3429360588391621, 1.128756324450175, 1.1842336257298787, 1.4501882990201314, 1.4961030880610149, 0.8916264176368713, 0.9351948201656342, 1.4697726368904114, 1.082852264245351, 0.6284438918034235, 1.5902332663536072, 1.194659133752187, 1.8211315075556438, 0.9229893684387207, 2.2902344862620034, 0.7100847810506821, 1.839237133661906, 1.605355978012085, 0.7894251545270284, 1.0079534749190013, 1.3406378825505574, 0.9182206789652506, 0.751232792933782, 0.9019397497177124, 0.7047118246555328, 1.4156704942385356, 1.8428749044736226, 1.774257520834605, 0.9687010447184244, 0.8873423337936401, 1.34280127286911, 1.512960950533549, 1.754305938879649, 0.5263873462875684, 1.4645516475041707, 0.6162938624620438, 0.45408692955970764, 1.248176376024882, 1.3224465449651082, 0.7283481061458588, 0.28985966742038727, 1.5612615942955017, 1.165269245704015, 0.42663271228472394, 0.4035170003771782, 1.4334265391031902, 1.6192650993665059, 0.6759080241123835, 1.4348699450492859, 0.8460063834985098, 1.0661066869894664, 0.8924530545870463, 0.6945752799510956, 1.3942288756370544, 0.9728216330210367, 1.0244603057702382, 0.5457642922798792, 0.7065643519163132, 1.0234234035015106, 1.7767581741015117, 1.602795918782552, 0.7521694550911585, 0.7846487959225973, 2.291596293449402, 0.6391155868768692, 1.8249067068099976, 1.3378752619028091, 1.2442893485228221, 1.0554070671399434, 0.6025434732437134, 0.8347231050332388, 1.1965095301469166, 1.0861442983150482, 1.1821786761283875, 0.8244531701008478, 1.182525674502055, 1.9956434965133667, 1.4106366038322449, 0.8755531559387842, 1.7159456213315327, 1.7979641556739807, 0.9763082166512808, 0.8968353072802225, 1.1599821150302887, 0.594992553194364, 1.1927132109800975, 0.8859171668688456, 0.7733412285645803, 1.1304173270861309, 0.7365769545237223, 0.6821216742197672, 1.441065788269043, 0.8666629791259766, 0.6435627490282059, 1.3457475503285725, 2.108728011449178, 0.8409078816572825, 1.023192475239436, 0.6205641180276871, 1.0519003669420879, 0.9773902595043182, 0.8651259541511536, 1.260638137658437, 0.9156781136989594, 1.9298645456631978, 0.8154963056246439, 0.7500579506158829, 0.7881132612625757, 0.7342547575632731, 1.2343451579411824, 1.0221814413865407, 1.5048598845799763, 1.551073690255483, 1.2294529676437378, 0.8109273513158163, 0.95615354180336, 0.7623353799184164, 1.439583917458852, 1.8865557114283245, 0.7654568453629812, 1.2607145110766094, 0.8644421199957529, 0.9222729007403055, 0.6447633355855942, 1.9289074738820393, 0.7440813680489858, 1.5454544425010681, 0.8140693207581838, 0.9877252479394277, 0.9445441762606303, 2.079132636388143, 1.556168258190155, 0.8935982882976532, 1.6398433248202007, 0.7701882620652517, 0.515792096654574, 1.860030750433604, 1.69231379032135, 1.1877204676469166, 1.1383037368456523, 1.550673524538676, 1.369173030058543, 2.2995339234670005, 0.3347931106885274, 1.4674057960510254, 1.279344658056895, 1.711834192276001, 1.054407040278117, 1.3680915633837383, 1.6892127593358357, 1.2852678696314495, 0.5962333033482233, 1.0433453520139058, 1.8902406096458435, 2.005251884460449, 0.8808946758508682, 1.3388124108314514, 1.941388229529063, 0.6422802060842514, 1.5869590044021606, 2.2878219286600747, 0.8525979022185007, 0.9676006337006887, 1.8241655429204304, 1.41470072666804, 0.6421441237131754, 1.9978987177213032, 1.3388713995615642, 0.6677286724249522, 1.3424788514773052, 0.5923527777194977, 0.8533271749814352, 1.2220221956570942, 1.4904072086016338, 0.730550155043602, 1.1430789132912953, 0.5022566119829813, 0.4765992636481921, 1.2361260652542114, 0.5632671068112055, 0.6085426161686579, 0.5913107891877493, 0.7899691164493561, 1.6409481167793274, 0.9342057804266611, 1.191750168800354, 1.561588744322459, 1.5508389075597127, 1.1417250037193298, 1.7035504579544067, 0.6736099869012833, 2.298340320587158]\n",
            " avg_accuracies: [0.8111111111111111, 0.6666666666666666, 0.5166666666666667, 0.2611111111111111, 0.5166666666666667, 0.5722222222222222, 0.8111111111111111, 0.5777777777777777, 0.5166666666666667, 0.4388888888888889, 0.6777777777777778, 0.42777777777777776, 0.6, 0.7277777777777777, 0.7444444444444445, 0.6055555555555555, 0.4166666666666667, 0.37777777777777777, 0.8, 0.7388888888888889, 0.48333333333333334, 0.7333333333333333, 0.5333333333333333, 0.75, 0.7611111111111111, 0.38333333333333336, 0.6944444444444444, 0.6333333333333333, 0.6722222222222223, 0.5777777777777777, 0.7944444444444444, 0.7611111111111111, 0.4222222222222222, 0.3388888888888889, 0.5222222222222223, 0.6111111111111112, 0.40555555555555556, 0.6722222222222223, 0.6277777777777778, 0.3888888888888889, 0.6555555555555556, 0.6277777777777778, 0.6611111111111111, 0.6777777777777778, 0.6166666666666667, 0.7555555555555555, 0.5611111111111111, 0.6444444444444445, 0.6833333333333333, 0.5611111111111111, 0.5055555555555555, 0.35555555555555557, 0.6888888888888889, 0.32222222222222224, 0.28888888888888886, 0.8277777777777777, 0.4777777777777778, 0.7777777777777778, 0.5, 0.5611111111111111, 0.5388888888888889, 0.49444444444444446, 0.43333333333333335, 0.6333333333333333, 0.5944444444444444, 0.40555555555555556, 0.5, 0.7222222222222222, 0.38333333333333336, 0.4722222222222222, 0.2611111111111111, 0.6055555555555555, 0.12777777777777777, 0.7444444444444445, 0.28888888888888886, 0.4222222222222222, 0.6666666666666666, 0.5888888888888889, 0.5111111111111111, 0.6555555555555556, 0.75, 0.6666666666666666, 0.7444444444444445, 0.4444444444444444, 0.3, 0.34444444444444444, 0.5833333333333334, 0.6444444444444445, 0.5055555555555555, 0.43333333333333335, 0.3111111111111111, 0.8333333333333334, 0.45555555555555555, 0.7888888888888889, 0.8388888888888889, 0.5111111111111111, 0.55, 0.7222222222222222, 0.9055555555555556, 0.37777777777777777, 0.5722222222222222, 0.8611111111111112, 0.8666666666666667, 0.4111111111111111, 0.3611111111111111, 0.7722222222222223, 0.43333333333333335, 0.6777777777777778, 0.6222222222222222, 0.6277777777777778, 0.75, 0.4388888888888889, 0.6, 0.5388888888888889, 0.7555555555555555, 0.7111111111111111, 0.6055555555555555, 0.31666666666666665, 0.37222222222222223, 0.7166666666666667, 0.6833333333333333, 0.12777777777777777, 0.7666666666666667, 0.3277777777777778, 0.6055555555555555, 0.6555555555555556, 0.5888888888888889, 0.7777777777777778, 0.65, 0.5277777777777778, 0.5222222222222223, 0.49444444444444446, 0.6388888888888888, 0.5222222222222223, 0.25, 0.3888888888888889, 0.6944444444444444, 0.3055555555555556, 0.2833333333333333, 0.6666666666666666, 0.7222222222222222, 0.5166666666666667, 0.75, 0.5555555555555556, 0.6333333333333333, 0.6888888888888889, 0.6166666666666667, 0.7388888888888889, 0.7555555555555555, 0.45, 0.6833333333333333, 0.7111111111111111, 0.4888888888888889, 0.20555555555555555, 0.7388888888888889, 0.6111111111111112, 0.7777777777777778, 0.6333333333333333, 0.6333333333333333, 0.6722222222222223, 0.5722222222222222, 0.6055555555555555, 0.2611111111111111, 0.7777777777777778, 0.7444444444444445, 0.7444444444444445, 0.7166666666666667, 0.5166666666666667, 0.55, 0.4666666666666667, 0.4388888888888889, 0.5333333333333333, 0.6777777777777778, 0.6944444444444444, 0.7166666666666667, 0.4, 0.25555555555555554, 0.7333333333333333, 0.49444444444444446, 0.6777777777777778, 0.6666666666666666, 0.75, 0.22777777777777777, 0.7333333333333333, 0.4111111111111111, 0.6777777777777778, 0.6166666666666667, 0.6555555555555556, 0.2222222222222222, 0.36666666666666664, 0.6222222222222222, 0.31666666666666665, 0.6944444444444444, 0.85, 0.2777777777777778, 0.3388888888888889, 0.55, 0.5166666666666667, 0.42777777777777776, 0.4166666666666667, 0.13333333333333333, 0.8833333333333333, 0.4388888888888889, 0.48333333333333334, 0.37777777777777777, 0.5277777777777778, 0.4166666666666667, 0.4111111111111111, 0.4111111111111111, 0.7888888888888889, 0.6055555555555555, 0.2722222222222222, 0.2388888888888889, 0.7111111111111111, 0.4888888888888889, 0.25, 0.7833333333333333, 0.3388888888888889, 0.1388888888888889, 0.6722222222222223, 0.6166666666666667, 0.32222222222222224, 0.5166666666666667, 0.7666666666666667, 0.25555555555555554, 0.49444444444444446, 0.7666666666666667, 0.4444444444444444, 0.7666666666666667, 0.7444444444444445, 0.5444444444444444, 0.48333333333333334, 0.7555555555555555, 0.5111111111111111, 0.8111111111111111, 0.8055555555555556, 0.45555555555555555, 0.7777777777777778, 0.7722222222222223, 0.7944444444444444, 0.6555555555555556, 0.35, 0.6, 0.5333333333333333, 0.45555555555555555, 0.4222222222222222, 0.6111111111111112, 0.34444444444444444, 0.7666666666666667, 0.11666666666666667]\n",
            "Epoch 9/20\n",
            "avg_losses:[0.4393373702963193, 0.8907917737960815, 1.0848898986975353, 1.9402875900268555, 0.9234391252199808, 0.8612427314122518, 0.7192617654800415, 1.1232282221317291, 1.1609763602415721, 1.5188791553179424, 0.8393297990163168, 1.4856621424357097, 0.6876577387253443, 0.6158112635215124, 0.6644901384909948, 0.9805210729440054, 1.402693271636963, 1.4555551012357075, 0.4730006704727809, 0.5099343955516815, 1.0106836259365082, 0.7209281921386719, 1.0920545359452565, 0.7162397454182307, 0.5783180942138036, 1.4004545211791992, 0.620752697189649, 0.7355742653210958, 0.620898629228274, 1.0789390007654827, 0.40458068748315174, 0.8603313614924749, 1.5687630573908489, 1.5446383357048035, 0.9836688935756683, 0.8297476768493652, 1.7882521351178486, 0.7009908258914948, 1.4258963763713837, 1.377564787864685, 0.6927831619977951, 1.0033407310644786, 0.8207915723323822, 0.7272213796774546, 0.954129715760549, 0.6592478354771932, 1.039106825987498, 0.8459020455678304, 0.9706259171168009, 0.6759627709786097, 0.9527984857559204, 1.4208221634229024, 0.6964748203754425, 1.8457767168680828, 1.8409109512964885, 0.549354483683904, 1.197636644045512, 0.5815358211596807, 1.1952652136484783, 1.0992875695228577, 0.968808243672053, 1.378153661886851, 1.3345445195833843, 0.8410161336263021, 0.8314972917238871, 1.1761045555273693, 0.8416676620642344, 0.7629357775052389, 1.55795023838679, 1.0945885479450226, 1.7743582725524902, 0.840485950311025, 2.2924252351125083, 0.5725122938553492, 1.8575351635615032, 1.5951427618662517, 0.8879159887631735, 0.8699266711870829, 1.2053440014521282, 0.8371710975964864, 0.6302889088789622, 0.8259702324867249, 0.733017717798551, 1.2679780423641205, 1.781649112701416, 1.5974376201629639, 0.9024354616800944, 0.8168622354666392, 0.9880999227364858, 1.4649399121602376, 1.7468030452728271, 0.3584226295351982, 1.620834191640218, 0.6627122362454733, 0.5691894193490347, 1.0057470699151356, 1.192817062139511, 0.6575110207001368, 0.18276073783636093, 1.3135324120521545, 0.9259753922621409, 0.40560677150885266, 0.5377360085646311, 1.2639489670594533, 1.6153621673583984, 0.6546315302451452, 1.311068634192149, 0.7525751690069834, 0.7550081511338552, 0.8031765619913737, 0.6338206827640533, 1.3477011322975159, 0.8761947055657705, 0.8507769107818604, 0.40295364956061047, 0.6475079506635666, 0.8082137207190195, 1.4828110734621684, 1.5113910635312398, 0.6063540031512579, 0.7497493823369344, 2.2931284507115683, 0.480664757390817, 1.7927084763844807, 0.8287706275780996, 0.9909364879131317, 0.8574151992797852, 0.5108089447021484, 0.7000867327054342, 1.110400398572286, 0.9241273999214172, 1.0305650631586711, 0.7089958389600118, 1.1042699019114177, 1.988633155822754, 1.2304273049036663, 1.0546054045359294, 1.8638373414675395, 1.5969917972882588, 0.8196658293406168, 0.7976859509944916, 1.013548880815506, 0.5448908706506094, 1.0298794706662495, 0.7511237760384878, 0.6450626949469248, 1.1035826404889424, 0.5249929080406824, 0.5090321699778239, 1.520808716615041, 0.7100778619448344, 0.6777765949567159, 1.1183190941810608, 2.0580604871114097, 0.6819079717000326, 1.083021064599355, 0.5140879799922308, 1.0245574216047924, 0.9863704641660055, 0.7635185023148855, 1.2338120142618816, 0.7251793444156647, 1.8633499542872112, 0.6013470888137817, 0.7003536572058996, 0.6955011487007141, 0.5422756498058637, 1.0773348609606426, 0.8168711165587107, 1.3896741668383281, 1.427796979745229, 1.045195147395134, 0.6560334861278534, 0.7649296671152115, 0.7514693240324656, 1.2102256019910176, 1.932239055633545, 0.6866981685161591, 0.9649213155110677, 0.6160087088743845, 0.9128698607285818, 0.6128986924886703, 1.842171569665273, 0.5806616395711899, 1.5082383155822754, 0.6742736200491587, 0.9746443827946981, 0.8890258570512136, 2.0134002963701882, 1.5017571647961934, 0.7363547186056772, 1.5334311525026958, 0.6497018535931905, 0.3043506592512131, 1.797984739144643, 1.5567048986752827, 1.0425440967082977, 1.0046658317248027, 1.4396121700604756, 1.2613660891850789, 2.2960070768992105, 0.31655795872211456, 1.3034432729085286, 1.2715128262837727, 1.5795201063156128, 0.9951285421848297, 1.104775180419286, 1.5480974713961284, 1.2388084630171459, 0.43402303258577984, 0.8405527075131735, 1.9522528251012166, 2.0673609375953674, 0.7235895742972692, 1.2481257716814678, 2.0329323212305703, 0.5487264394760132, 1.5329871773719788, 2.295612374941508, 0.9238237738609314, 1.082796076933543, 1.7575477361679077, 1.1344923277695973, 0.6808540225028992, 1.9374467333157857, 1.2163238227367401, 0.6920858969291052, 1.394834280014038, 0.5811419437328974, 0.7633183499177297, 1.2173352440198262, 1.5381768345832825, 0.5106537789106369, 0.9585881133874258, 0.49582743644714355, 0.4504111458857854, 1.141753484805425, 0.497308428088824, 0.6097004264593124, 0.46494026978810626, 0.573198268810908, 1.5078887740770976, 0.8414821624755859, 1.1207333107789357, 1.5358715653419495, 1.3381696740786235, 0.8565272291501363, 1.7310731212298076, 0.4552159905433655, 2.29608154296875]\n",
            " avg_accuracies: [0.8555555555555555, 0.6166666666666667, 0.5666666666666667, 0.23333333333333334, 0.6555555555555556, 0.6777777777777778, 0.75, 0.5722222222222222, 0.49444444444444446, 0.3888888888888889, 0.6666666666666666, 0.39444444444444443, 0.7555555555555555, 0.7722222222222223, 0.7944444444444444, 0.5666666666666667, 0.45, 0.4388888888888889, 0.8222222222222222, 0.8333333333333334, 0.55, 0.7222222222222222, 0.6, 0.7444444444444445, 0.7611111111111111, 0.45, 0.7666666666666667, 0.6888888888888889, 0.7777777777777778, 0.5722222222222222, 0.85, 0.7333333333333333, 0.38333333333333336, 0.3055555555555556, 0.5888888888888889, 0.6777777777777778, 0.36666666666666664, 0.6722222222222223, 0.5, 0.5, 0.7166666666666667, 0.6611111111111111, 0.7111111111111111, 0.6944444444444444, 0.6055555555555555, 0.8111111111111111, 0.6055555555555555, 0.6777777777777778, 0.6611111111111111, 0.7388888888888889, 0.6055555555555555, 0.42777777777777776, 0.7277777777777777, 0.35, 0.2833333333333333, 0.8333333333333334, 0.5, 0.8444444444444444, 0.5666666666666667, 0.5777777777777777, 0.6111111111111112, 0.5, 0.5, 0.6666666666666666, 0.6777777777777778, 0.5722222222222222, 0.7222222222222222, 0.7111111111111111, 0.39444444444444443, 0.45555555555555555, 0.2833333333333333, 0.6555555555555556, 0.10555555555555556, 0.8, 0.28888888888888886, 0.3611111111111111, 0.6833333333333333, 0.6055555555555555, 0.5388888888888889, 0.7166666666666667, 0.7388888888888889, 0.7, 0.7055555555555556, 0.5111111111111111, 0.32222222222222224, 0.4166666666666667, 0.6944444444444444, 0.7, 0.5833333333333334, 0.3888888888888889, 0.3333333333333333, 0.8722222222222222, 0.39444444444444443, 0.7611111111111111, 0.8111111111111111, 0.6055555555555555, 0.5777777777777777, 0.7555555555555555, 0.9444444444444444, 0.5, 0.6333333333333333, 0.8555555555555555, 0.8055555555555556, 0.5388888888888889, 0.3611111111111111, 0.8, 0.4777777777777778, 0.7166666666666667, 0.7333333333333333, 0.6888888888888889, 0.7111111111111111, 0.4666666666666667, 0.6444444444444445, 0.6611111111111111, 0.8888888888888888, 0.7777777777777778, 0.7166666666666667, 0.3888888888888889, 0.45, 0.8111111111111111, 0.7055555555555556, 0.12777777777777777, 0.8388888888888889, 0.3111111111111111, 0.6444444444444445, 0.6222222222222222, 0.65, 0.8166666666666667, 0.7055555555555556, 0.5444444444444444, 0.5833333333333334, 0.5611111111111111, 0.7166666666666667, 0.55, 0.24444444444444444, 0.46111111111111114, 0.6444444444444445, 0.2777777777777778, 0.4, 0.6333333333333333, 0.7166666666666667, 0.5888888888888889, 0.75, 0.5888888888888889, 0.7, 0.7777777777777778, 0.5722222222222222, 0.8166666666666667, 0.8166666666666667, 0.4666666666666667, 0.7555555555555555, 0.7444444444444445, 0.55, 0.18888888888888888, 0.7833333333333333, 0.6277777777777778, 0.8166666666666667, 0.6277777777777778, 0.6333333333333333, 0.6722222222222223, 0.5222222222222223, 0.6944444444444444, 0.3, 0.7888888888888889, 0.7611111111111111, 0.7833333333333333, 0.8111111111111111, 0.5777777777777777, 0.6555555555555556, 0.5055555555555555, 0.42777777777777776, 0.5944444444444444, 0.75, 0.7555555555555555, 0.7, 0.6111111111111112, 0.22777777777777777, 0.7555555555555555, 0.5833333333333334, 0.7888888888888889, 0.65, 0.7611111111111111, 0.2388888888888889, 0.7722222222222223, 0.4222222222222222, 0.7277777777777777, 0.6777777777777778, 0.6777777777777778, 0.25, 0.37777777777777777, 0.6444444444444445, 0.3611111111111111, 0.7055555555555556, 0.9055555555555556, 0.2777777777777778, 0.42777777777777776, 0.5777777777777777, 0.5944444444444444, 0.5166666666666667, 0.49444444444444446, 0.12777777777777777, 0.9, 0.5611111111111111, 0.5555555555555556, 0.46111111111111114, 0.5833333333333334, 0.5777777777777777, 0.40555555555555556, 0.5, 0.8611111111111112, 0.7166666666666667, 0.26666666666666666, 0.2388888888888889, 0.75, 0.5055555555555555, 0.23333333333333334, 0.8, 0.32222222222222224, 0.12777777777777777, 0.6166666666666667, 0.6388888888888888, 0.34444444444444444, 0.6055555555555555, 0.7333333333333333, 0.2722222222222222, 0.55, 0.7666666666666667, 0.4666666666666667, 0.7888888888888889, 0.6777777777777778, 0.5, 0.39444444444444443, 0.8222222222222222, 0.5666666666666667, 0.7777777777777778, 0.8222222222222222, 0.5222222222222223, 0.8277777777777777, 0.7888888888888889, 0.8166666666666667, 0.8, 0.40555555555555556, 0.6444444444444445, 0.5444444444444444, 0.4722222222222222, 0.4666666666666667, 0.6777777777777778, 0.3333333333333333, 0.8333333333333334, 0.11666666666666667]\n",
            "Epoch 10/20\n",
            "avg_losses:[0.545486385623614, 0.912487804889679, 0.9675599237283071, 1.8581696351369221, 0.8428761760393778, 0.7459904253482819, 0.43710503975550336, 1.0005040367444356, 1.0862397054831188, 1.4316012461980183, 0.8111830254395803, 1.3337098360061646, 0.6116858671108881, 0.43133553862571716, 0.5050172358751297, 0.9213162263234457, 1.2931673725446065, 1.3688022096951802, 0.4953218623995781, 0.4276487777630488, 0.9118826786677042, 0.5304903984069824, 0.9573982457319895, 0.49711689352989197, 0.4551183581352234, 1.289807379245758, 0.6419014682372411, 0.7783927023410797, 0.5490768427650133, 1.1611630221207936, 0.29081644242008525, 0.9081349273522695, 1.5266985893249512, 1.454423725605011, 0.9979735414187113, 0.7852636675039927, 1.7054617802302043, 0.5858540783325831, 1.3119234840075176, 1.309003194173177, 0.8775532841682434, 0.8715055485566457, 0.6647017151117325, 0.6319071302811304, 0.78708482782046, 0.5261539071798325, 0.9587126274903616, 0.6205312758684158, 0.6223193903764089, 0.5756618703405062, 0.7693916310866674, 1.359128713607788, 0.7734808176755905, 1.7510451277097066, 1.754933774471283, 0.34449897209803265, 1.153383692105611, 0.5401583115259806, 1.195834090312322, 1.2812731166680653, 0.9178845783074697, 1.2632090051968892, 1.2447559038798015, 0.7504955331484476, 0.7592719594637553, 1.0046304364999135, 0.8363767365614573, 0.6583362221717834, 1.5125652551651, 1.0198609133561451, 1.7943030794461567, 0.9203446606794993, 2.297702749570211, 0.5107717563708624, 2.002543012301127, 1.5358766714731853, 0.6956617583831152, 0.7647343973318735, 1.0083629190921783, 0.7786944657564163, 0.5471279919147491, 0.5788951267798742, 0.5345355669657389, 1.2892607649167378, 1.6353647510210674, 1.5370729366938274, 0.9540851513544718, 0.7089813848336538, 0.957817276318868, 1.4893357753753662, 1.7816454569498699, 0.4479262779156367, 1.4814550280570984, 0.36604031423727673, 0.4487707590063413, 1.0607912441094716, 1.0583652357260387, 0.46512502431869507, 0.17224615067243576, 1.2232065002123516, 0.8378973603248596, 0.6402247448762258, 0.42014822612206143, 1.2133394678433735, 1.5346972346305847, 0.5912119845549265, 1.1815958420435588, 0.605506032705307, 0.6893143157164255, 0.6248346666495005, 0.45486008127530414, 1.3354070981343586, 0.9915929834047953, 1.075449138879776, 0.3681817402442296, 0.44503048559029895, 0.8459364672501882, 1.4062407612800598, 1.4732094605763753, 0.49080419540405273, 0.6013297239939371, 2.2885815302530923, 0.44531762848297757, 1.7888002196947734, 0.7352915902932485, 0.8807613650957743, 0.8019249339898428, 0.5363569955031077, 0.5710807492335638, 1.0558047493298848, 0.824571947256724, 1.151754468679428, 0.6373851547638575, 1.137635846932729, 1.8729548851648967, 1.1926936904589336, 1.3678850034872692, 1.8825351198514302, 1.5604268709818523, 0.6661863923072815, 0.7974471698204676, 0.809553841749827, 0.3883679310480754, 0.8497817118962606, 0.6289907594521841, 0.9542631059885025, 0.9634971022605896, 0.47984541455904645, 0.6165736218293508, 1.3762231866518657, 0.7572253594795862, 0.4960605998833974, 1.0992023944854736, 2.0737082163492837, 0.7618908286094666, 1.0023613472779591, 0.3934283082683881, 0.9517486294110616, 0.7137441088755926, 0.7800679306189219, 1.1864343583583832, 0.5990002006292343, 1.8145209550857544, 0.5905253142118454, 0.7506086031595866, 0.5856250276168188, 0.35658664504686993, 0.9426758189996084, 0.8218496839205424, 1.1977076729138691, 1.3726088205973308, 1.2983384033044179, 0.7528549035390218, 0.7584093709786733, 0.7214282304048538, 1.0473746558030446, 1.8599499464035034, 0.5800178299347559, 0.8652403851350149, 0.6562058180570602, 0.7898317476113638, 0.5675308778882027, 1.7907226085662842, 0.4435090720653534, 1.6085505684216816, 0.6380429218212763, 1.0200256605943043, 0.8718866209189097, 1.875104506810506, 1.5291282335917156, 0.7936112980047861, 1.3856646219889324, 0.6127964506546656, 0.27755020807186764, 1.783088783423106, 1.4245499571164448, 0.8589958250522614, 0.9913337628046671, 1.2472816904385884, 1.3583806951840718, 2.2946710189183555, 0.2102817433575789, 1.149054229259491, 1.0588709712028503, 1.436064620812734, 1.1885935366153717, 0.9396559397379557, 1.4860372344652812, 1.1811696887016296, 0.4820663779973984, 0.8927643199761709, 1.895098626613617, 1.9818092981974285, 0.6335987448692322, 1.033241202433904, 2.0061417619387307, 0.4405771642923355, 1.5724439024925232, 2.285674532254537, 1.0397838552792866, 1.016183892885844, 1.432401438554128, 1.143796185652415, 0.5818429092566172, 1.8962351083755493, 1.0850146512190502, 0.5222687919934591, 1.426255722840627, 0.41450005769729614, 0.6693899035453796, 1.1948538621266682, 1.3648301760355632, 0.5198024859031042, 0.892488698164622, 0.29778699825207394, 0.46016210069259006, 1.1425407528877258, 0.36537188788255054, 0.6840703388055166, 0.42565931628147763, 0.4691453253229459, 1.356714089711507, 0.7178559998671213, 1.1501035789648693, 1.326080818970998, 1.1731466849644978, 0.7039379874865214, 1.6871791084607441, 0.289534163971742, 2.2982527017593384]\n",
            " avg_accuracies: [0.8055555555555556, 0.6611111111111111, 0.5888888888888889, 0.25555555555555554, 0.7111111111111111, 0.6944444444444444, 0.8555555555555555, 0.5888888888888889, 0.5333333333333333, 0.4666666666666667, 0.7444444444444445, 0.4666666666666667, 0.7777777777777778, 0.8666666666666667, 0.8388888888888889, 0.65, 0.4777777777777778, 0.4777777777777778, 0.8, 0.8277777777777777, 0.5833333333333334, 0.7666666666666667, 0.6611111111111111, 0.8166666666666667, 0.8166666666666667, 0.4666666666666667, 0.7611111111111111, 0.7111111111111111, 0.8055555555555556, 0.5222222222222223, 0.9055555555555556, 0.6833333333333333, 0.3888888888888889, 0.26666666666666666, 0.5666666666666667, 0.7055555555555556, 0.4111111111111111, 0.7777777777777778, 0.5388888888888889, 0.5277777777777778, 0.65, 0.6555555555555556, 0.7388888888888889, 0.7777777777777778, 0.7166666666666667, 0.8277777777777777, 0.6388888888888888, 0.7833333333333333, 0.7722222222222223, 0.8277777777777777, 0.6888888888888889, 0.4444444444444444, 0.6833333333333333, 0.3333333333333333, 0.3277777777777778, 0.8611111111111112, 0.5166666666666667, 0.8055555555555556, 0.5611111111111111, 0.5388888888888889, 0.6277777777777778, 0.5166666666666667, 0.5222222222222223, 0.6833333333333333, 0.7166666666666667, 0.6222222222222222, 0.7, 0.6944444444444444, 0.3888888888888889, 0.5888888888888889, 0.29444444444444445, 0.6666666666666666, 0.10555555555555556, 0.8277777777777777, 0.24444444444444444, 0.43333333333333335, 0.7333333333333333, 0.6777777777777778, 0.6, 0.7166666666666667, 0.7888888888888889, 0.7944444444444444, 0.7666666666666667, 0.5444444444444444, 0.37222222222222223, 0.4166666666666667, 0.6333333333333333, 0.6888888888888889, 0.6388888888888888, 0.4, 0.3111111111111111, 0.8611111111111112, 0.5111111111111111, 0.85, 0.8277777777777777, 0.6055555555555555, 0.6111111111111112, 0.8277777777777777, 0.9277777777777778, 0.4888888888888889, 0.6888888888888889, 0.7833333333333333, 0.8222222222222222, 0.5111111111111111, 0.4, 0.8388888888888889, 0.5222222222222223, 0.7555555555555555, 0.7944444444444444, 0.7833333333333333, 0.8111111111111111, 0.4666666666666667, 0.6222222222222222, 0.6222222222222222, 0.8777777777777778, 0.8222222222222222, 0.6944444444444444, 0.4166666666666667, 0.4166666666666667, 0.8166666666666667, 0.7555555555555555, 0.13333333333333333, 0.8222222222222222, 0.3277777777777778, 0.7277777777777777, 0.65, 0.6444444444444445, 0.7944444444444444, 0.7833333333333333, 0.5611111111111111, 0.6666666666666666, 0.5555555555555556, 0.7944444444444444, 0.5, 0.25555555555555554, 0.4777777777777778, 0.5722222222222222, 0.2777777777777778, 0.4111111111111111, 0.7388888888888889, 0.7055555555555556, 0.6555555555555556, 0.8888888888888888, 0.6833333333333333, 0.7555555555555555, 0.7166666666666667, 0.6055555555555555, 0.8333333333333334, 0.7833333333333333, 0.49444444444444446, 0.7, 0.8, 0.5, 0.24444444444444444, 0.75, 0.5888888888888889, 0.8888888888888888, 0.6, 0.75, 0.7111111111111111, 0.5611111111111111, 0.8166666666666667, 0.3111111111111111, 0.7944444444444444, 0.7888888888888889, 0.7777777777777778, 0.8833333333333333, 0.6111111111111112, 0.6388888888888888, 0.55, 0.42777777777777776, 0.4722222222222222, 0.7277777777777777, 0.7555555555555555, 0.7388888888888889, 0.7, 0.26666666666666666, 0.7666666666666667, 0.6444444444444445, 0.7722222222222223, 0.6666666666666666, 0.7888888888888889, 0.26666666666666666, 0.8444444444444444, 0.43333333333333335, 0.7444444444444445, 0.6388888888888888, 0.6555555555555556, 0.2722222222222222, 0.3888888888888889, 0.6388888888888888, 0.40555555555555556, 0.7944444444444444, 0.9111111111111111, 0.2722222222222222, 0.4388888888888889, 0.6666666666666666, 0.6333333333333333, 0.5777777777777777, 0.4888888888888889, 0.13333333333333333, 0.9111111111111111, 0.55, 0.6277777777777778, 0.45555555555555555, 0.5555555555555556, 0.5944444444444444, 0.43333333333333335, 0.5055555555555555, 0.8111111111111111, 0.6333333333333333, 0.21666666666666667, 0.26666666666666666, 0.8222222222222222, 0.6111111111111112, 0.2388888888888889, 0.85, 0.3111111111111111, 0.1388888888888889, 0.6111111111111112, 0.6277777777777778, 0.48333333333333334, 0.6, 0.7333333333333333, 0.24444444444444444, 0.5277777777777778, 0.8277777777777777, 0.3888888888888889, 0.8611111111111112, 0.7166666666666667, 0.5555555555555556, 0.5055555555555555, 0.8222222222222222, 0.6222222222222222, 0.8722222222222222, 0.8222222222222222, 0.5333333333333333, 0.8833333333333333, 0.7333333333333333, 0.8555555555555555, 0.8277777777777777, 0.40555555555555556, 0.7055555555555556, 0.5388888888888889, 0.5166666666666667, 0.5777777777777777, 0.75, 0.35555555555555557, 0.8944444444444445, 0.11666666666666667]\n",
            "Epoch 11/20\n",
            "avg_losses:[0.7669807970523834, 0.7577806611855825, 0.8396840592225393, 1.8246255119641621, 0.5907441775004069, 0.6032460431257883, 0.438018965224425, 0.8601090908050537, 0.9593515793482462, 1.2956745425860088, 0.7918360680341721, 1.2161558667818706, 0.40883635977904004, 0.4046049192547798, 0.41538745164871216, 0.961720605691274, 1.2943032781283061, 1.228385458389918, 0.38356317579746246, 0.5565921639402708, 0.8076310952504476, 0.5524476716915766, 0.8036908010641733, 0.43512680381536484, 0.418432354927063, 1.202236384153366, 0.7395106802384058, 0.6530169894297918, 0.4965815196434657, 1.0073022544384003, 0.2085791900753975, 0.8182720144589742, 1.4268571933110554, 1.470003883043925, 0.9470684230327606, 0.7545999387900034, 1.5529293815294902, 0.545442059636116, 0.9204522172609965, 1.1210592885812123, 0.7704039514064789, 0.6811001698176066, 0.4991033921639125, 0.5212766031424204, 0.626528263092041, 0.4861319164435069, 0.8876596093177795, 0.5902299384276072, 0.5783243576685587, 0.4384661962588628, 0.8579632838567098, 1.2497753103574116, 0.5679648270209631, 1.6571224530537922, 1.7082844177881877, 0.2512623071670532, 1.0595863560835521, 0.4343389918406804, 0.9627998173236847, 0.9954911569754282, 0.8808432022730509, 1.2271482547124226, 1.1669065554936726, 0.5022676885128021, 0.5841850489377975, 0.9153716067473093, 0.6867300023635229, 0.663146436214447, 1.387883186340332, 0.9740203619003296, 1.7844789226849873, 0.909879724184672, 2.2923908631006875, 0.5580874184767405, 1.7665292819341023, 1.5184325973192851, 0.5943055699268976, 0.7581620812416077, 1.0848340789477031, 0.6613849302132925, 0.48425790170828503, 0.48609499384959537, 0.38423488040765125, 1.2254868348439534, 1.5995177427927654, 1.4655053615570068, 0.9105061193307241, 0.6724451879660288, 0.8814036746819814, 1.3649235963821411, 1.7167670925458272, 0.30423768361409503, 1.3680250644683838, 0.36576277017593384, 0.4616704334815343, 0.8338043987751007, 1.1218931277592976, 0.4504939913749695, 0.13418338261544704, 1.1337087353070576, 0.9872113466262817, 0.7025741140047709, 0.4083023965358734, 1.0235218008359273, 1.6364572644233704, 0.5371830860773722, 0.9830507934093475, 0.47054484983285266, 0.5147922684748968, 0.5124648908774058, 0.6605193664630254, 1.3619468212127686, 0.7428494294484457, 1.0313096940517426, 0.3676932056744893, 0.3373449246088664, 0.6887819617986679, 1.3710184494654338, 1.3918907642364502, 0.45098062853018445, 0.6079605966806412, 2.2833146254221597, 0.4452756941318512, 1.6740620136260986, 0.7507461855808893, 0.9145968755086263, 0.7305180976788203, 0.5038711180289587, 0.4032711312174797, 1.2131263514359791, 1.0918678641319275, 1.171431173880895, 0.581609254082044, 1.0405463973681133, 1.7816397349039714, 1.0973491470019023, 1.0112328628698986, 1.9433595339457195, 1.4477875232696533, 0.6218158404032389, 0.650132899483045, 0.7437646687030792, 0.42117257912953693, 0.6581870019435883, 0.59379876156648, 0.8666849434375763, 0.8612459500630697, 0.46029869467020035, 0.49909597138563794, 1.241686483224233, 0.5902742097775141, 0.6493132561445236, 0.946566621462504, 2.036432365576426, 0.5842956801255544, 0.8133990267912546, 0.4980287564297517, 1.0451044142246246, 0.6390483131011327, 0.6185460984706879, 1.110144038995107, 0.565853421886762, 1.7608509262402852, 0.39005129287640256, 0.8105203559001287, 0.5090218236049017, 0.4152987102667491, 0.9136401315530142, 0.8254740138848623, 1.0627557933330536, 1.3317575454711914, 1.0414272248744965, 0.5253665099541346, 0.5533131957054138, 0.6762941827376684, 0.7815771202246348, 1.8089779615402222, 0.4941055824359258, 0.6606956471999487, 0.5907677759726843, 0.5826526433229446, 0.6142429014046987, 1.748332440853119, 0.38471396267414093, 1.540766676266988, 0.5351079603036245, 0.927846093972524, 0.750774989525477, 1.6927529573440552, 1.3396359483400981, 0.6594988058010737, 1.2901788254578908, 0.47827252248922986, 0.48157547414302826, 1.7592645088831584, 1.3615516026814778, 0.8593779355287552, 1.060812513033549, 1.1989116072654724, 1.1933498680591583, 2.2946454286575317, 0.5820390408237776, 1.1296216348807018, 0.8693366646766663, 1.257710297902425, 0.9920716484387716, 0.8652556737263998, 1.4470829566319783, 1.1009818216164906, 0.3698226908842723, 0.8091718554496765, 1.8050314982732136, 1.9319838682810466, 0.5060455252726873, 0.9469570616881052, 1.9046194156010945, 0.3940568466981252, 1.634552578131358, 2.2868409554163613, 1.4090201656023662, 0.7586508293946584, 1.3275632460912068, 1.1228710909684498, 0.4714038372039795, 1.819322446982066, 0.8454610208670298, 0.5251596023639044, 1.3466950953006744, 0.6695439219474792, 0.7216735581556956, 1.0852794845898945, 1.4219022393226624, 0.42669375240802765, 0.7905072669188181, 0.445447168002526, 0.46007851759592694, 1.0016725063323975, 0.349271260201931, 0.47179695467154187, 0.5771161119143168, 0.3729648143053055, 1.2257173458735149, 0.6382120847702026, 1.128986249367396, 1.13924174507459, 1.0121024549007416, 0.7055757939815521, 1.5838940739631653, 0.2908643111586571, 2.297550320625305]\n",
            " avg_accuracies: [0.75, 0.7055555555555556, 0.6555555555555556, 0.2777777777777778, 0.7833333333333333, 0.7888888888888889, 0.8666666666666667, 0.6611111111111111, 0.6055555555555555, 0.5055555555555555, 0.75, 0.5166666666666667, 0.85, 0.8388888888888889, 0.8555555555555555, 0.6111111111111112, 0.4722222222222222, 0.49444444444444446, 0.8833333333333333, 0.8, 0.6055555555555555, 0.8, 0.6888888888888889, 0.8444444444444444, 0.8611111111111112, 0.5555555555555556, 0.7055555555555556, 0.7555555555555555, 0.7777777777777778, 0.5333333333333333, 0.9277777777777778, 0.7388888888888889, 0.4444444444444444, 0.2833333333333333, 0.55, 0.6944444444444444, 0.4222222222222222, 0.8111111111111111, 0.6444444444444445, 0.5944444444444444, 0.6666666666666666, 0.7277777777777777, 0.8388888888888889, 0.8, 0.7722222222222223, 0.8166666666666667, 0.6833333333333333, 0.8111111111111111, 0.8, 0.8611111111111112, 0.65, 0.4444444444444444, 0.7888888888888889, 0.34444444444444444, 0.3333333333333333, 0.9055555555555556, 0.6, 0.8388888888888889, 0.6333333333333333, 0.5666666666666667, 0.6944444444444444, 0.5111111111111111, 0.5555555555555556, 0.8, 0.7333333333333333, 0.6555555555555556, 0.7611111111111111, 0.7444444444444445, 0.4777777777777778, 0.5611111111111111, 0.29444444444444445, 0.6666666666666666, 0.10555555555555556, 0.7833333333333333, 0.3111111111111111, 0.43333333333333335, 0.7722222222222223, 0.7222222222222222, 0.5777777777777777, 0.7888888888888889, 0.8222222222222222, 0.8111111111111111, 0.8277777777777777, 0.5777777777777777, 0.32222222222222224, 0.4444444444444444, 0.7055555555555556, 0.75, 0.6222222222222222, 0.4388888888888889, 0.3277777777777778, 0.8777777777777778, 0.49444444444444446, 0.8444444444444444, 0.85, 0.6777777777777778, 0.6166666666666667, 0.8388888888888889, 0.9555555555555556, 0.4777777777777778, 0.6166666666666667, 0.7, 0.8444444444444444, 0.6, 0.34444444444444444, 0.8722222222222222, 0.6333333333333333, 0.8166666666666667, 0.8, 0.8388888888888889, 0.7833333333333333, 0.4111111111111111, 0.7055555555555556, 0.6055555555555555, 0.8722222222222222, 0.8888888888888888, 0.7722222222222223, 0.4444444444444444, 0.4722222222222222, 0.8222222222222222, 0.7555555555555555, 0.1388888888888889, 0.8444444444444444, 0.3388888888888889, 0.7166666666666667, 0.6777777777777778, 0.7055555555555556, 0.7833333333333333, 0.8777777777777778, 0.5111111111111111, 0.6, 0.5777777777777777, 0.7888888888888889, 0.6333333333333333, 0.2833333333333333, 0.5222222222222223, 0.5944444444444444, 0.25555555555555554, 0.5055555555555555, 0.7555555555555555, 0.7666666666666667, 0.7, 0.85, 0.7277777777777777, 0.7777777777777778, 0.7222222222222222, 0.6388888888888888, 0.85, 0.7888888888888889, 0.4888888888888889, 0.7555555555555555, 0.75, 0.6444444444444445, 0.2222222222222222, 0.8, 0.6777777777777778, 0.8333333333333334, 0.5888888888888889, 0.7388888888888889, 0.7777777777777778, 0.5666666666666667, 0.7777777777777778, 0.3, 0.8555555555555555, 0.7388888888888889, 0.8166666666666667, 0.8555555555555555, 0.6, 0.6777777777777778, 0.5666666666666667, 0.5111111111111111, 0.5722222222222222, 0.8055555555555556, 0.7611111111111111, 0.75, 0.7888888888888889, 0.2611111111111111, 0.8222222222222222, 0.7666666666666667, 0.7833333333333333, 0.7666666666666667, 0.7333333333333333, 0.3111111111111111, 0.8611111111111112, 0.4111111111111111, 0.8111111111111111, 0.6388888888888888, 0.7111111111111111, 0.37777777777777777, 0.3888888888888889, 0.7166666666666667, 0.4222222222222222, 0.8, 0.8555555555555555, 0.28888888888888886, 0.4388888888888889, 0.7055555555555556, 0.6111111111111112, 0.5222222222222223, 0.4444444444444444, 0.12777777777777777, 0.7888888888888889, 0.5833333333333334, 0.7111111111111111, 0.5444444444444444, 0.6555555555555556, 0.6055555555555555, 0.4444444444444444, 0.5055555555555555, 0.8611111111111112, 0.6777777777777778, 0.2777777777777778, 0.24444444444444444, 0.8388888888888889, 0.6055555555555555, 0.2833333333333333, 0.8833333333333333, 0.3611111111111111, 0.13333333333333333, 0.5722222222222222, 0.7, 0.5277777777777778, 0.6277777777777778, 0.8055555555555556, 0.2777777777777778, 0.6833333333333333, 0.8333333333333334, 0.5, 0.8222222222222222, 0.6944444444444444, 0.6111111111111112, 0.4, 0.85, 0.6388888888888888, 0.8888888888888888, 0.8444444444444444, 0.5777777777777777, 0.8833333333333333, 0.8111111111111111, 0.8055555555555556, 0.8777777777777778, 0.48333333333333334, 0.7444444444444445, 0.5222222222222223, 0.6111111111111112, 0.6388888888888888, 0.7833333333333333, 0.4222222222222222, 0.9166666666666666, 0.1]\n",
            "Epoch 12/20\n",
            "avg_losses:[0.6155810629328092, 0.5985209196805954, 0.7834489593903223, 1.8073448340098064, 0.5855647375186285, 0.6080255756775538, 0.30521423866351444, 0.7102846999963125, 0.947395404179891, 1.27749103307724, 0.47475836674372357, 1.1103843847910564, 0.39556728800137836, 0.38655631244182587, 0.4044434775908788, 1.0316179792086284, 1.2185470759868622, 1.1824983954429626, 0.3171651115020116, 0.551634614666303, 0.7295847137769064, 0.46429014205932617, 0.8622221748034159, 0.479796910037597, 0.535957803328832, 1.0275598565737407, 0.6425941983858744, 0.5268336733182272, 0.7268969764312109, 1.0301952163378398, 0.12778341164812446, 0.7504098316033682, 1.4312148491541545, 1.4402705033620198, 0.7590507169564565, 0.5611427426338196, 1.5333606998125713, 0.4428840031226476, 0.9122360050678253, 1.0084994633992512, 0.7349580774704615, 0.6056792289018631, 0.3828989441196124, 0.5655685116847357, 0.5059341639280319, 0.34492433816194534, 0.7633783171574274, 0.605757586658001, 0.4670874501268069, 0.3574176033337911, 0.6933091680208842, 1.2224526206652324, 0.4272136588891347, 1.667452375094096, 1.6505784193674724, 0.3928806396822135, 1.0218635698159535, 0.44338149825731915, 0.903020977973938, 0.8937620421250662, 0.8188359538714091, 1.1569559375445049, 1.0952512224515278, 0.49214184780915576, 0.5965681572755178, 0.8569623927275339, 0.5690958748261133, 0.45692887405554455, 1.4833531777064006, 0.9181919594605764, 1.7520933548609416, 0.6618809948364893, 2.286338686943054, 0.5750159819920858, 1.751437524954478, 1.44949076573054, 0.5205540160338084, 0.6881287296613058, 0.9538704256216685, 0.5913286556800207, 0.32471898198127747, 0.5676179478565851, 0.3468446135520935, 1.2630816499392192, 1.5352050264676411, 1.3592069347699482, 0.7109150340159734, 0.7321574290593466, 0.7179475724697113, 1.266761024792989, 1.7061628301938374, 0.3274931150178115, 1.0857701400915782, 0.25635262827078503, 0.33205526570479077, 0.728103369474411, 0.8783454199632009, 0.7158755560715994, 0.0787087818607688, 0.986467719078064, 0.9985310633977255, 0.7890026420354843, 0.28785603245099384, 0.9095373650391897, 1.6136165459950764, 0.5750910590092341, 0.9107768336931864, 0.3232341508070628, 0.5231995135545731, 0.38699529816706973, 0.6178748259941736, 1.3956183195114136, 0.6620841125647227, 1.1459197004636128, 0.25904833897948265, 0.24958140403032303, 0.5179940660794576, 1.3924296498298645, 1.2218862175941467, 0.567080169916153, 0.5322248240311941, 2.293645222981771, 0.3890787164370219, 1.7074297666549683, 0.6560191214084625, 0.7836101949214935, 0.5945356885592142, 0.3918195689717929, 0.5299567480882009, 1.2327287793159485, 0.928422878185908, 1.0130761762460072, 0.5172869885961214, 1.1908216675122578, 1.8153303861618042, 1.037376344203949, 1.0060197810331981, 1.7858160138130188, 1.308238685131073, 0.6230928103129069, 0.7185714989900589, 0.6524193187554678, 0.35389262934525806, 0.5977833767731985, 0.5205952624479929, 0.707396537065506, 0.8942123154799143, 0.4443834225336711, 0.46926691631476086, 1.2306187550226848, 0.6102949182192484, 0.859097828467687, 0.9028364221254984, 2.0132814248402915, 0.8281347205241522, 0.6399417469898859, 0.5973329221208891, 0.9148710370063782, 0.5508206735054652, 0.7168450554211935, 0.9748600224653879, 0.4001032014687856, 1.6670180161794026, 0.34266238907972973, 0.5439278334379196, 0.497123862306277, 0.2460075095295906, 0.9071073184410731, 0.8028740485509237, 1.0519643425941467, 1.168862779935201, 0.9907151162624359, 0.44095878551403683, 0.5417786091566086, 0.5523903220891953, 0.6464283217986425, 1.8606473008791606, 0.5030922542015711, 0.6266106317440668, 0.5767656217018763, 0.5508053451776505, 0.5359187697370847, 1.722231427828471, 0.4007541636625926, 1.441929539044698, 0.5930871566136678, 0.9464560647805532, 0.7184198796749115, 1.592966616153717, 1.224666953086853, 0.6976502736409506, 1.2349283695220947, 0.38965501884619397, 0.32787711670001346, 1.780615468819936, 1.286948025226593, 0.8956329127152761, 0.9788977801799774, 1.1159475048383076, 1.1621851126352947, 2.2891539335250854, 0.4349428452551365, 1.130682388941447, 0.6970511178175608, 1.1693023542563121, 0.8582840661207835, 0.7982974847157797, 1.4433690508206685, 1.0510615607102711, 0.39836544791857403, 0.657779335975647, 1.8085990349451702, 1.9736868143081665, 0.5650537212689718, 1.0045570035775502, 1.8257906436920166, 0.3848561520377795, 1.5603034694989522, 2.284045696258545, 1.0491534968217213, 0.6483830114205679, 1.0660828649997711, 0.9979096253712972, 0.43435007085402805, 1.8030093709627788, 0.8232671419779459, 0.37774726500113803, 1.2520710627237956, 0.4539329806963603, 0.4937688062588374, 1.3346984287103016, 1.355375091234843, 0.34688909848531085, 0.6809279173612595, 0.47921714931726456, 0.5714589059352875, 0.8955107033252716, 0.29122155780593556, 0.27770546575387317, 0.48047639677921933, 0.3093825380007426, 1.165527621905009, 0.5428624401489893, 1.085881511370341, 0.9224113821983337, 1.0772869090239208, 0.7508702750007311, 1.5284500122070312, 0.27310584982236225, 2.296139041582743]\n",
            " avg_accuracies: [0.8055555555555556, 0.7722222222222223, 0.6333333333333333, 0.31666666666666665, 0.7944444444444444, 0.7611111111111111, 0.8833333333333333, 0.7111111111111111, 0.5777777777777777, 0.5, 0.8388888888888889, 0.5666666666666667, 0.85, 0.8333333333333334, 0.8777777777777778, 0.6111111111111112, 0.5166666666666667, 0.4888888888888889, 0.8888888888888888, 0.7777777777777778, 0.6666666666666666, 0.8333333333333334, 0.6777777777777778, 0.8555555555555555, 0.7833333333333333, 0.6, 0.7555555555555555, 0.7777777777777778, 0.7333333333333333, 0.6055555555555555, 0.9555555555555556, 0.7166666666666667, 0.4166666666666667, 0.3388888888888889, 0.6833333333333333, 0.7888888888888889, 0.40555555555555556, 0.8833333333333333, 0.6166666666666667, 0.6444444444444445, 0.6666666666666666, 0.7888888888888889, 0.85, 0.7833333333333333, 0.8388888888888889, 0.8888888888888888, 0.6888888888888889, 0.8277777777777777, 0.8722222222222222, 0.8888888888888888, 0.7166666666666667, 0.4722222222222222, 0.85, 0.34444444444444444, 0.37222222222222223, 0.8944444444444445, 0.6444444444444445, 0.85, 0.6555555555555556, 0.6277777777777778, 0.7222222222222222, 0.5611111111111111, 0.6055555555555555, 0.8222222222222222, 0.8, 0.65, 0.7833333333333333, 0.8333333333333334, 0.39444444444444443, 0.5888888888888889, 0.3055555555555556, 0.75, 0.12777777777777777, 0.7944444444444444, 0.29444444444444445, 0.4166666666666667, 0.8111111111111111, 0.7388888888888889, 0.65, 0.7833333333333333, 0.8666666666666667, 0.8, 0.8611111111111112, 0.5333333333333333, 0.35555555555555557, 0.4666666666666667, 0.7666666666666667, 0.7222222222222222, 0.75, 0.45555555555555555, 0.31666666666666665, 0.8555555555555555, 0.5722222222222222, 0.8888888888888888, 0.8888888888888888, 0.6666666666666666, 0.7111111111111111, 0.7722222222222223, 0.9777777777777777, 0.5777777777777777, 0.6222222222222222, 0.7666666666666667, 0.9, 0.6388888888888888, 0.3611111111111111, 0.7944444444444444, 0.6611111111111111, 0.8666666666666667, 0.8388888888888889, 0.8333333333333334, 0.7666666666666667, 0.4, 0.6944444444444444, 0.5555555555555556, 0.9277777777777778, 0.9222222222222223, 0.8444444444444444, 0.4388888888888889, 0.5222222222222223, 0.7944444444444444, 0.75, 0.13333333333333333, 0.8666666666666667, 0.32222222222222224, 0.7777777777777778, 0.75, 0.7833333333333333, 0.8166666666666667, 0.8277777777777777, 0.5333333333333333, 0.6166666666666667, 0.6666666666666666, 0.8111111111111111, 0.5666666666666667, 0.29444444444444445, 0.5555555555555556, 0.6722222222222223, 0.3277777777777778, 0.5333333333333333, 0.7611111111111111, 0.7611111111111111, 0.7611111111111111, 0.8388888888888889, 0.8, 0.7833333333333333, 0.7388888888888889, 0.6277777777777778, 0.8388888888888889, 0.85, 0.4722222222222222, 0.7833333333333333, 0.7555555555555555, 0.6388888888888888, 0.20555555555555555, 0.6777777777777778, 0.7722222222222223, 0.8222222222222222, 0.6777777777777778, 0.7777777777777778, 0.7888888888888889, 0.6555555555555556, 0.8611111111111112, 0.32222222222222224, 0.8777777777777778, 0.8111111111111111, 0.8111111111111111, 0.9222222222222223, 0.6333333333333333, 0.7166666666666667, 0.5388888888888889, 0.5222222222222223, 0.65, 0.8333333333333334, 0.7888888888888889, 0.7888888888888889, 0.7722222222222223, 0.18333333333333332, 0.8111111111111111, 0.7333333333333333, 0.7555555555555555, 0.8, 0.8111111111111111, 0.3, 0.85, 0.4222222222222222, 0.7833333333333333, 0.6277777777777778, 0.7277777777777777, 0.3888888888888889, 0.49444444444444446, 0.6555555555555556, 0.45555555555555555, 0.7944444444444444, 0.9111111111111111, 0.3, 0.5777777777777777, 0.6777777777777778, 0.6277777777777778, 0.6055555555555555, 0.5, 0.13333333333333333, 0.8333333333333334, 0.6055555555555555, 0.7111111111111111, 0.5722222222222222, 0.6833333333333333, 0.6777777777777778, 0.4388888888888889, 0.5388888888888889, 0.8666666666666667, 0.7444444444444445, 0.2722222222222222, 0.26666666666666666, 0.8277777777777777, 0.6222222222222222, 0.29444444444444445, 0.8777777777777778, 0.31666666666666665, 0.14444444444444443, 0.6222222222222222, 0.7388888888888889, 0.6166666666666667, 0.6666666666666666, 0.7944444444444444, 0.28888888888888886, 0.6777777777777778, 0.8777777777777778, 0.5277777777777778, 0.8277777777777777, 0.8166666666666667, 0.4888888888888889, 0.5277777777777778, 0.9, 0.7111111111111111, 0.8444444444444444, 0.8611111111111112, 0.6166666666666667, 0.9166666666666666, 0.9277777777777778, 0.8388888888888889, 0.8944444444444445, 0.5555555555555556, 0.7833333333333333, 0.5888888888888889, 0.6166666666666667, 0.5944444444444444, 0.7555555555555555, 0.45, 0.9111111111111111, 0.12222222222222222]\n",
            "Epoch 13/20\n",
            "avg_losses:[0.9076432983080546, 0.5464651385943095, 0.7025750676790873, 1.7979243000348408, 0.4657665640115738, 0.580887590845426, 0.28034526606400806, 0.6078964571158091, 0.8704309364159902, 1.2123584846655528, 0.45100946227709454, 1.0754152933756511, 0.4057510296503703, 0.3377653161684672, 0.2987937070429325, 0.8301535944143931, 1.255936602751414, 1.195730169614156, 0.23909413814544678, 0.519085926314195, 0.6598488887151083, 0.5340004165967306, 0.866777757803599, 0.27680523693561554, 0.44425618400176364, 0.9499260286490122, 0.4539756427208583, 0.5549630125363668, 0.6068948805332184, 1.18344912926356, 0.3142866985872388, 0.4137256344159444, 1.3658024271329243, 1.462157428264618, 0.6264844487110773, 0.5128318121035894, 1.5615564187367756, 0.28103084738055867, 0.6988489230473837, 0.8843966722488403, 0.750600278377533, 0.5107655624548594, 0.361435333887736, 0.42586732159058255, 0.46766063074270886, 0.4278353403011958, 0.7223120033740997, 0.5683048417170843, 0.5286269138256708, 0.4709339737892151, 0.7107053895791372, 1.0845921337604523, 0.34955396006504696, 1.5767168601353962, 1.619757393995921, 0.526894728342692, 0.9461756646633148, 0.3611816167831421, 0.8616240819295248, 0.7904761731624603, 0.6809490670760473, 1.1421323716640472, 0.9969901939233144, 0.39066794017950696, 0.5142598698536555, 0.707301914691925, 0.5283615638812383, 0.4158527950445811, 1.3565465807914734, 0.8621223568916321, 1.8147736589113872, 0.477125679453214, 2.297372341156006, 0.475189412633578, 1.6981588403383892, 1.2875375747680664, 0.3050173322359721, 0.5279478828112284, 0.9974026183287302, 0.8922935823599497, 0.38293546438217163, 0.4362666110197703, 0.27515823890765506, 1.054677923520406, 1.4291438460350037, 1.3138627807299297, 0.5664867584904035, 0.6779659936825434, 0.7345961630344391, 1.1825808087984722, 1.7032239238421123, 0.5422831649581591, 1.0034595429897308, 0.3194546177983284, 0.33910860617955524, 0.6081371208031973, 0.9652289847532908, 0.4256993979215622, 0.1101033811767896, 1.0044927100340526, 0.7464001874128977, 0.6383512715498606, 0.22135896111528078, 0.9126479625701904, 1.6702003876368205, 0.45335979759693146, 0.8082236548264822, 0.3712296436230342, 0.4386480177442233, 0.27006981521844864, 0.46157341698805493, 1.4648140668869019, 0.6051754554112753, 1.0279203454653423, 0.42467256262898445, 0.1654676372806231, 0.4412059411406517, 1.2231055796146393, 1.1809939742088318, 0.41763247301181156, 0.5441904366016388, 2.2844428618748984, 0.4151811997095744, 1.6185320417086284, 0.8284160643815994, 0.6405489792426428, 0.5037996023893356, 0.3221435671051343, 0.5038036455710729, 1.2356905341148376, 0.9637139836947123, 0.9387286106745402, 0.4266803065935771, 1.194612165292104, 1.7657787203788757, 1.040173242489497, 0.9265214006106058, 1.8223126530647278, 1.1751688818136852, 0.5903526147206625, 0.5080267538626989, 0.5334404110908508, 0.3701250875989596, 0.4812355190515518, 0.5353767623504003, 0.6545531650384268, 0.9096836547056834, 0.5014029803375403, 0.4279937148094177, 1.0794627567132313, 0.44818174839019775, 0.7913054426511129, 0.8519138693809509, 1.8829937974611919, 0.593367929259936, 0.671085943778356, 0.4031999036669731, 0.7349502642949423, 0.44261956214904785, 0.5169164861241976, 0.812914232412974, 0.4641640360156695, 1.5735901594161987, 0.2112553877135118, 0.3974820723136266, 0.418723501265049, 0.3185673567155997, 0.7819234877824783, 0.8712250689665476, 0.9798877934614817, 1.0588148534297943, 0.851930151383082, 0.4679528574148814, 0.4467551310857137, 0.4210873693227768, 0.6032433460156122, 1.9258511662483215, 0.4525611648956935, 0.7484498222668966, 0.5228097786506017, 0.42519719401995343, 0.543712909022967, 1.6233054796854656, 0.3799233039220174, 1.2755951285362244, 0.48788681626319885, 0.8520859678586324, 0.7955506394306818, 1.451918363571167, 1.1051759918530781, 0.735786904891332, 1.1534175475438435, 0.7097817560036978, 0.2612803330024083, 1.6975757678349812, 1.234538157780965, 0.741823544104894, 0.8881997565428416, 1.000580628712972, 1.2260058323542278, 2.2992876768112183, 0.427605335911115, 0.8731673061847687, 0.520060325662295, 1.0707550247510274, 0.7131770700216293, 0.8188911974430084, 1.5132021307945251, 1.1812860071659088, 0.3703781192501386, 0.5694913516441981, 1.6799243291219075, 1.9777671297391255, 0.8321071416139603, 0.9049122333526611, 1.712981124718984, 0.39405010392268497, 1.4969611366589863, 2.289825201034546, 0.9204743901888529, 0.5625565399726232, 0.956711600224177, 0.8356776138146719, 0.4430314674973488, 1.7496240735054016, 0.6281346480051676, 0.30137359102567035, 1.1241515179475148, 0.49082140624523163, 0.48343364894390106, 1.0947490334510803, 1.234268069267273, 0.29521772886315983, 0.5514246771732966, 0.3337467312812805, 0.3362211361527443, 0.838883658250173, 0.13510919300218424, 0.24791530643900236, 0.4594913919766744, 0.22487941881020865, 1.0378802021344502, 0.4575102726618449, 1.221545288960139, 1.0160322189331055, 0.969079852104187, 0.5999512175718943, 1.4287258386611938, 0.324636106689771, 2.2954015334447226]\n",
            " avg_accuracies: [0.7166666666666667, 0.7388888888888889, 0.6944444444444444, 0.2611111111111111, 0.8277777777777777, 0.7388888888888889, 0.9, 0.7611111111111111, 0.6555555555555556, 0.5333333333333333, 0.8388888888888889, 0.5388888888888889, 0.8611111111111112, 0.8444444444444444, 0.8888888888888888, 0.6888888888888889, 0.4777777777777778, 0.5222222222222223, 0.9277777777777778, 0.8277777777777777, 0.6611111111111111, 0.8, 0.6555555555555556, 0.9, 0.8388888888888889, 0.6333333333333333, 0.8444444444444444, 0.7722222222222223, 0.7888888888888889, 0.5055555555555555, 0.9166666666666666, 0.85, 0.4388888888888889, 0.3277777777777778, 0.7277777777777777, 0.7833333333333333, 0.43333333333333335, 0.8611111111111112, 0.7555555555555555, 0.6611111111111111, 0.6833333333333333, 0.8111111111111111, 0.8444444444444444, 0.8277777777777777, 0.8388888888888889, 0.8444444444444444, 0.7166666666666667, 0.7555555555555555, 0.8277777777777777, 0.8611111111111112, 0.7166666666666667, 0.5555555555555556, 0.8777777777777778, 0.36666666666666664, 0.37777777777777777, 0.85, 0.6222222222222222, 0.8722222222222222, 0.6611111111111111, 0.7, 0.7111111111111111, 0.5611111111111111, 0.6166666666666667, 0.8833333333333333, 0.8111111111111111, 0.75, 0.8, 0.8388888888888889, 0.4666666666666667, 0.6111111111111112, 0.2777777777777778, 0.7888888888888889, 0.1111111111111111, 0.8388888888888889, 0.3, 0.5555555555555556, 0.9166666666666666, 0.7555555555555555, 0.5777777777777777, 0.7055555555555556, 0.8333333333333334, 0.8388888888888889, 0.9, 0.6, 0.39444444444444443, 0.4666666666666667, 0.8111111111111111, 0.7111111111111111, 0.6611111111111111, 0.48333333333333334, 0.2833333333333333, 0.8333333333333334, 0.5722222222222222, 0.8777777777777778, 0.8666666666666667, 0.75, 0.6333333333333333, 0.8222222222222222, 0.9666666666666667, 0.6166666666666667, 0.6722222222222223, 0.7666666666666667, 0.9055555555555556, 0.6166666666666667, 0.36666666666666664, 0.8, 0.7111111111111111, 0.8777777777777778, 0.85, 0.9166666666666666, 0.8055555555555556, 0.38333333333333336, 0.7333333333333333, 0.5944444444444444, 0.8555555555555555, 0.9555555555555556, 0.8388888888888889, 0.5055555555555555, 0.5444444444444444, 0.8666666666666667, 0.7888888888888889, 0.14444444444444443, 0.8611111111111112, 0.37222222222222223, 0.6944444444444444, 0.7611111111111111, 0.8222222222222222, 0.8444444444444444, 0.8055555555555556, 0.4666666666666667, 0.5888888888888889, 0.5555555555555556, 0.8222222222222222, 0.5333333333333333, 0.3055555555555556, 0.4777777777777778, 0.6555555555555556, 0.3055555555555556, 0.5722222222222222, 0.7777777777777778, 0.7944444444444444, 0.7944444444444444, 0.8666666666666667, 0.8555555555555555, 0.7777777777777778, 0.8222222222222222, 0.6388888888888888, 0.8166666666666667, 0.8222222222222222, 0.5555555555555556, 0.8388888888888889, 0.7166666666666667, 0.6, 0.26666666666666666, 0.7611111111111111, 0.7444444444444445, 0.8277777777777777, 0.6777777777777778, 0.85, 0.8222222222222222, 0.6888888888888889, 0.8777777777777778, 0.31666666666666665, 0.9444444444444444, 0.8388888888888889, 0.8388888888888889, 0.8944444444444445, 0.6722222222222223, 0.6722222222222223, 0.6, 0.5666666666666667, 0.6666666666666666, 0.85, 0.8333333333333334, 0.85, 0.7944444444444444, 0.2111111111111111, 0.8222222222222222, 0.6888888888888889, 0.8055555555555556, 0.8555555555555555, 0.8, 0.3277777777777778, 0.8555555555555555, 0.4888888888888889, 0.85, 0.6888888888888889, 0.7555555555555555, 0.40555555555555556, 0.5222222222222223, 0.7222222222222222, 0.48333333333333334, 0.7222222222222222, 0.9166666666666666, 0.3277777777777778, 0.5777777777777777, 0.7388888888888889, 0.6777777777777778, 0.6611111111111111, 0.42777777777777776, 0.11666666666666667, 0.8555555555555555, 0.6666666666666666, 0.8333333333333334, 0.5777777777777777, 0.7388888888888889, 0.6555555555555556, 0.4111111111111111, 0.4722222222222222, 0.8555555555555555, 0.7555555555555555, 0.3333333333333333, 0.26666666666666666, 0.7611111111111111, 0.6277777777777778, 0.3055555555555556, 0.8777777777777778, 0.38333333333333336, 0.12777777777777777, 0.6388888888888888, 0.7722222222222223, 0.6444444444444445, 0.6555555555555556, 0.8166666666666667, 0.2833333333333333, 0.7333333333333333, 0.8833333333333333, 0.6, 0.8444444444444444, 0.8388888888888889, 0.6277777777777778, 0.5, 0.8944444444444445, 0.7666666666666667, 0.8722222222222222, 0.8388888888888889, 0.6222222222222222, 0.9611111111111111, 0.9388888888888889, 0.8388888888888889, 0.9111111111111111, 0.65, 0.8222222222222222, 0.5944444444444444, 0.6666666666666666, 0.6055555555555555, 0.7944444444444444, 0.4722222222222222, 0.8722222222222222, 0.12777777777777777]\n",
            "Epoch 14/20\n",
            "avg_losses:[0.7848217785358429, 0.4865826219320297, 0.597355529665947, 1.7296524842580159, 0.3935970837871234, 0.5229423493146896, 0.3976541956265767, 0.6800922751426697, 0.784455269575119, 1.2148322363694508, 0.39648010085026425, 0.9193259576956431, 0.3691538857916991, 0.32770823687314987, 0.23075889299313226, 0.6707345247268677, 1.2369842131932576, 1.1446782946586609, 0.3803032288948695, 0.7382199962933859, 0.6334099570910136, 0.5153794089953104, 0.6828798800706863, 0.33475389952460927, 0.4297148088614146, 0.9264028867085775, 0.4943841223915418, 0.8006426592667898, 0.37656138837337494, 1.0209440290927887, 0.23355190580089888, 0.2874170442422231, 1.5052504539489746, 1.3731116851170857, 0.6869547168413798, 0.42138828833897907, 1.4503978689511616, 0.22249536712964377, 0.5063018898169199, 0.7949486871560415, 0.7095240751902262, 0.49676382541656494, 0.34620803594589233, 0.37786094347635907, 0.44929151733716327, 0.2516755337516467, 0.6396209001541138, 0.46086927751700085, 0.40692026416460675, 0.6987198839584986, 0.9213422536849976, 1.1290250023206074, 0.25857877855499584, 1.495427628358205, 1.5605040788650513, 0.512050228814284, 0.8854254186153412, 0.27683611152072746, 0.8122401634852091, 0.7119941463073095, 0.5455130984385809, 1.0558309157689412, 0.916658361752828, 0.3948016290863355, 0.41967001805702847, 0.5855087588230768, 0.39709191769361496, 0.3281489784518878, 1.3111557165781658, 0.8393283585707346, 1.7880302270253499, 0.35172230501969654, 2.2920064131418862, 0.38153859227895737, 1.6884823441505432, 1.2343035837014515, 0.21113353843490282, 0.46949511766433716, 0.8762600223223368, 0.7016279051701227, 0.2961021140217781, 0.3573383415738742, 0.2620709463953972, 1.096785267194112, 1.4125029643376668, 1.31492218375206, 0.4689197689294815, 0.6610874434312185, 0.5746301909287771, 1.1165491938591003, 1.7176887392997742, 0.380647378663222, 0.9375391801198324, 0.29985155413548154, 0.28302039826909703, 0.4324556936820348, 0.8365242580572764, 0.5547079568107923, 0.09812271532913049, 0.9575970570246378, 0.6910830537478129, 0.5289691388607025, 0.14198609193166098, 0.8092769980430603, 1.613170087337494, 0.4924713323513667, 0.7366285721460978, 0.3676714176932971, 0.44129148374001187, 0.1618106116851171, 0.4092893799146016, 1.401522696018219, 0.6022762606541315, 0.998226543267568, 0.3626844137907028, 0.2467696045835813, 0.4666309058666229, 1.2573912143707275, 1.0787358582019806, 0.3769564504424731, 0.4358532577753067, 2.289342999458313, 0.343492512901624, 1.5865426858266194, 0.6363761723041534, 0.5820940434932709, 0.42856426040331524, 0.26984446744124096, 0.41906138757864636, 1.4426767826080322, 1.0018596947193146, 0.8577317992846171, 0.4626724272966385, 0.9863051573435465, 1.7059281865755718, 1.000656435887019, 0.7571597347656885, 1.8139750560124714, 1.154278039932251, 0.6292402644952139, 0.5820215692122778, 0.4378770391146342, 0.3072542150815328, 0.5300699969132742, 0.5215262422959009, 0.41799117624759674, 0.8012321094671885, 0.6206852321823438, 0.3405589312314987, 1.1094630857308705, 0.7601482818524042, 0.7734184116125107, 0.7198223869005839, 1.804552674293518, 0.5128322889407476, 0.5490358273188273, 0.35486260304848355, 0.6335977216561636, 0.361005999147892, 0.8313543150822321, 0.6717017243305842, 0.4131840740640958, 1.53462153673172, 0.30341905107100803, 0.3697757770617803, 0.30496688683827716, 0.3367800439397494, 0.7787447720766068, 0.5996986329555511, 1.3040965994199116, 0.9700439174969991, 0.7812492946783701, 0.3424808432658513, 0.36424392213424045, 0.42170308033625287, 0.5688789635896683, 1.9185343782107036, 0.4291620949904124, 0.510267381866773, 0.6349197154243787, 0.7007099216183027, 0.43858704964319867, 1.568818191687266, 0.3208460981647174, 1.362137238184611, 0.5540998975435892, 0.7398054699103037, 0.5529155333836874, 1.3232670227686565, 1.175644298394521, 0.6690439234177271, 1.0406220058600109, 0.8496335546175638, 0.2244453007976214, 1.7468235492706299, 1.338356335957845, 0.8644503404696783, 0.8402842382589976, 0.9977044463157654, 1.0341125130653381, 2.2932552496592202, 0.2890542335808277, 0.7493972579638163, 0.5522025922934214, 1.0063136915365856, 0.5552704681952795, 0.6853272318840027, 1.4926221172014873, 1.1229654550552368, 0.19612821439901987, 0.49638164043426514, 1.62180894613266, 1.9397317171096802, 0.9175412505865097, 0.8123319645722707, 1.6997295220692952, 0.3017495001355807, 1.4218275149663289, 2.29007895787557, 0.8630579113960266, 0.5518992791573206, 0.8974684774875641, 0.767583966255188, 0.3962550113598506, 1.761963466803233, 0.5466795166333517, 0.2216594417889913, 0.9595605631669363, 0.3281027575333913, 0.5897856677571932, 1.0448383390903473, 1.2043695151805878, 0.545258179306984, 0.5019945949316025, 0.23703955734769502, 0.36586810151735943, 0.9439905484517416, 0.18255967491616806, 0.250132920841376, 0.42163338760534924, 0.24690690574546656, 0.9600279529889425, 0.41960173348585766, 1.1662871340910594, 0.7608654697736105, 1.0193518896897633, 0.4809859097003937, 1.5465339024861653, 0.30923807124296826, 2.2980384031931558]\n",
            " avg_accuracies: [0.7444444444444445, 0.7888888888888889, 0.7222222222222222, 0.2722222222222222, 0.8555555555555555, 0.8166666666666667, 0.8444444444444444, 0.7166666666666667, 0.6277777777777778, 0.5, 0.8444444444444444, 0.6277777777777778, 0.8611111111111112, 0.8722222222222222, 0.8944444444444445, 0.7777777777777778, 0.4666666666666667, 0.5222222222222223, 0.8444444444444444, 0.7833333333333333, 0.6722222222222223, 0.7611111111111111, 0.7333333333333333, 0.8722222222222222, 0.85, 0.6333333333333333, 0.8111111111111111, 0.7055555555555556, 0.8555555555555555, 0.5222222222222223, 0.8888888888888888, 0.8833333333333333, 0.35, 0.38333333333333336, 0.75, 0.8388888888888889, 0.48333333333333334, 0.9555555555555556, 0.8388888888888889, 0.6666666666666666, 0.6944444444444444, 0.8277777777777777, 0.8722222222222222, 0.8555555555555555, 0.8333333333333334, 0.9055555555555556, 0.7333333333333333, 0.7944444444444444, 0.8666666666666667, 0.8111111111111111, 0.6555555555555556, 0.5055555555555555, 0.9055555555555556, 0.4222222222222222, 0.4, 0.8444444444444444, 0.6777777777777778, 0.9055555555555556, 0.7277777777777777, 0.6888888888888889, 0.7666666666666667, 0.5888888888888889, 0.6555555555555556, 0.85, 0.8777777777777778, 0.7555555555555555, 0.8611111111111112, 0.8333333333333334, 0.4388888888888889, 0.5944444444444444, 0.2388888888888889, 0.8333333333333334, 0.1111111111111111, 0.9, 0.2722222222222222, 0.5277777777777778, 0.9333333333333333, 0.8222222222222222, 0.65, 0.7555555555555555, 0.8611111111111112, 0.8555555555555555, 0.9055555555555556, 0.5444444444444444, 0.37222222222222223, 0.48333333333333334, 0.8277777777777777, 0.7666666666666667, 0.7666666666666667, 0.5166666666666667, 0.2777777777777778, 0.85, 0.6055555555555555, 0.8722222222222222, 0.8722222222222222, 0.8277777777777777, 0.6666666666666666, 0.7777777777777778, 0.9611111111111111, 0.5555555555555556, 0.7277777777777777, 0.8111111111111111, 0.9388888888888889, 0.6666666666666666, 0.3388888888888889, 0.8222222222222222, 0.6722222222222223, 0.8666666666666667, 0.8444444444444444, 0.95, 0.8444444444444444, 0.4888888888888889, 0.7111111111111111, 0.6833333333333333, 0.8277777777777777, 0.9277777777777778, 0.8222222222222222, 0.5055555555555555, 0.6388888888888888, 0.8666666666666667, 0.8388888888888889, 0.13333333333333333, 0.8555555555555555, 0.37222222222222223, 0.7722222222222223, 0.7777777777777778, 0.8444444444444444, 0.9, 0.8222222222222222, 0.46111111111111114, 0.6, 0.6722222222222223, 0.85, 0.6666666666666666, 0.31666666666666665, 0.6055555555555555, 0.7277777777777777, 0.2777777777777778, 0.5277777777777778, 0.7388888888888889, 0.8, 0.8666666666666667, 0.9055555555555556, 0.8, 0.7777777777777778, 0.8555555555555555, 0.6555555555555556, 0.7777777777777778, 0.8611111111111112, 0.5388888888888889, 0.7777777777777778, 0.7333333333333333, 0.7055555555555556, 0.3388888888888889, 0.7888888888888889, 0.7833333333333333, 0.8722222222222222, 0.7666666666666667, 0.8777777777777778, 0.7222222222222222, 0.7666666666666667, 0.85, 0.4, 0.8777777777777778, 0.8333333333333334, 0.8611111111111112, 0.8666666666666667, 0.7777777777777778, 0.7666666666666667, 0.48333333333333334, 0.5888888888888889, 0.7166666666666667, 0.8666666666666667, 0.8555555555555555, 0.85, 0.8111111111111111, 0.24444444444444444, 0.8388888888888889, 0.8111111111111111, 0.7722222222222223, 0.7833333333333333, 0.8166666666666667, 0.32222222222222224, 0.8833333333333333, 0.42777777777777776, 0.8166666666666667, 0.7611111111111111, 0.75, 0.55, 0.5611111111111111, 0.7611111111111111, 0.5444444444444444, 0.7444444444444445, 0.9222222222222223, 0.3055555555555556, 0.4888888888888889, 0.75, 0.6555555555555556, 0.6611111111111111, 0.5277777777777778, 0.13333333333333333, 0.8944444444444445, 0.7166666666666667, 0.8055555555555556, 0.6166666666666667, 0.7888888888888889, 0.6888888888888889, 0.42777777777777776, 0.4722222222222222, 0.9166666666666666, 0.8222222222222222, 0.3, 0.28888888888888886, 0.7222222222222222, 0.6388888888888888, 0.3277777777777778, 0.9111111111111111, 0.42777777777777776, 0.1388888888888889, 0.6833333333333333, 0.8111111111111111, 0.6777777777777778, 0.7, 0.8611111111111112, 0.28888888888888886, 0.7777777777777778, 0.9166666666666666, 0.6388888888888888, 0.8777777777777778, 0.8055555555555556, 0.6, 0.5, 0.8277777777777777, 0.7777777777777778, 0.9111111111111111, 0.85, 0.6333333333333333, 0.9333333333333333, 0.9111111111111111, 0.8833333333333333, 0.9166666666666666, 0.6166666666666667, 0.8277777777777777, 0.5888888888888889, 0.7388888888888889, 0.5777777777777777, 0.8333333333333334, 0.45, 0.9055555555555556, 0.12777777777777777]\n",
            "Epoch 15/20\n",
            "avg_losses:[0.5763541807730993, 0.5919028470913569, 0.5943171630303065, 1.688827395439148, 0.5384120220939318, 0.4533829589684804, 0.31370628749330837, 0.7010541806618372, 0.8519859810670217, 1.1944330036640167, 0.41668591399987537, 0.8698354860146841, 0.45249953866004944, 0.25107427934805554, 0.21598215773701668, 0.5238516479730606, 1.1618161002794902, 1.2555259466171265, 0.47317593296368915, 0.45762112736701965, 0.5689045290152231, 0.31293022632598877, 0.5915409376223882, 0.19277753060062727, 0.4370159258445104, 0.787826399008433, 0.5049780880411466, 0.9558291733264923, 0.28988297532002133, 0.9129841327667236, 0.2452532723546028, 0.3036348894238472, 1.3700388669967651, 1.3570547898610432, 0.5536074787378311, 0.35152776042620343, 1.3726881543795268, 0.18319684391220412, 0.41068366418282193, 0.7721786002318064, 0.7226894199848175, 0.31698595484097797, 0.2806765449543794, 0.42110120753447217, 0.36740125467379886, 0.26776454349358875, 0.6980292548735937, 0.41977855066458386, 0.41974277297655743, 0.5794097085793813, 0.8710044423739115, 1.112780600786209, 0.26661963512500125, 1.4085545341173809, 1.6053975820541382, 0.4206897591551145, 0.7828841209411621, 0.2608925399836153, 0.9901845455169678, 0.6324270665645599, 0.4845863878726959, 0.9851662913958231, 0.8652689059575399, 0.5249525109926859, 0.41330763200918835, 0.5318184196949005, 0.43852970997492474, 0.28227219233910245, 1.2372146447499592, 0.7614338397979736, 1.770352045694987, 0.31798003365596134, 2.2939163049062095, 0.37670670946439105, 1.6902919014294941, 1.2176542580127716, 0.1995491236448288, 0.4340796892841657, 0.8933790028095245, 0.47065409521261853, 0.42868034541606903, 0.2962544510761897, 0.2674534320831299, 1.1097041765848796, 1.3997339804967244, 1.3129848738511403, 0.48704852163791656, 0.647475133339564, 0.5409414172172546, 1.0910317699114482, 1.6549738049507141, 0.3243449081977208, 0.8246078391869863, 0.45271725952625275, 0.2946913664539655, 0.4240202109018962, 0.7300344904263815, 0.4616920401652654, 0.026477444761743147, 1.004610945781072, 0.6846396227677664, 0.3977808157602946, 0.16241464825967947, 0.9844178855419159, 1.4991171558698018, 0.6319288437565168, 0.6974257131417593, 0.38159992049137753, 0.37104589740435284, 0.2887143058081468, 0.29924773424863815, 1.2977614800135295, 0.5344945440689722, 0.7395723164081573, 0.326242300371329, 0.1898326724767685, 0.3615553031365077, 1.2400221824645996, 1.0703256229559581, 0.2897086516022682, 0.4874916598200798, 2.2922882239023843, 0.3145645260810852, 1.588079531987508, 0.5025640428066254, 0.5300135314464569, 0.3664275680979093, 0.21936580538749695, 0.284997367610534, 1.171233057975769, 0.8482213914394379, 0.7480879227320353, 0.5233194132645925, 0.9333948989709219, 1.6494070887565613, 0.9684874514738718, 0.6024283518393835, 1.8139233787854512, 1.0522182782491047, 0.8804649412631989, 0.5167543739080429, 0.36669321606556576, 0.32179111738999683, 0.5481747935215632, 0.5002766400575638, 0.3906609117984772, 0.7669174472490946, 0.573672225077947, 0.4618204931418101, 1.01556791861852, 0.8346707125504812, 0.5340311129887899, 0.6362533469994863, 1.8027051289876301, 0.4510696232318878, 0.43478065729141235, 0.33121806383132935, 0.6456276228030523, 0.25694866478443146, 0.705675999323527, 0.5747521022955576, 0.4037853181362152, 1.4834787646929424, 0.1910247914493084, 0.3318572497616212, 0.29614640523989993, 0.3305516963203748, 0.7474674185117086, 0.6814563423395157, 1.3568133513132732, 0.8979630569616953, 0.725172887245814, 0.39398027459780377, 0.32445954779783887, 0.29761959860722226, 0.8155656556288401, 1.8211981852849324, 0.4225285549958547, 0.38901738822460175, 0.4605594153205554, 0.907637357711792, 0.4068547983964284, 1.5580501159032185, 0.267681951324145, 1.3115434249242146, 0.49073786040147144, 1.0201809406280518, 0.39404120047887164, 1.1953117648760478, 1.1512540777524312, 0.4803578605254491, 0.9441781640052795, 0.6531939705212911, 0.35984603750209015, 1.628369390964508, 1.0593919257322948, 0.8776654303073883, 0.697045216957728, 1.010949542125066, 1.155128945906957, 2.2996077140172324, 0.49725669870773953, 0.7702565242846807, 0.6745848854382833, 1.0422892570495605, 0.43834126989046734, 0.7397738297780355, 1.4829529921213787, 0.9972052574157715, 0.23584037274122238, 0.45348355174064636, 1.644313891728719, 1.8538837830225627, 0.5291735976934433, 0.7399779458840688, 1.7246674696604412, 0.34432576845089596, 1.376081903775533, 2.288948575655619, 0.9335695604483286, 0.43084536989529926, 0.9470163981119791, 0.7070070256789526, 0.3801115155220032, 1.7147007584571838, 0.46009397010008496, 0.14797782401243845, 0.8885390758514404, 0.438401460647583, 0.9430558880170187, 0.9268066386381785, 1.240682731072108, 0.2542305638392766, 0.7314364016056061, 0.28348758816719055, 0.4374753286441167, 1.0039130399624507, 0.16508126879731813, 0.19761262089014053, 0.3697986776630084, 0.21067458732674518, 0.9286020497481028, 0.46353358775377274, 0.9725894033908844, 0.6965486903985342, 0.8856242597103119, 0.4374617040157318, 1.4079588254292805, 0.3500546875099341, 2.3006872733434043]\n",
            " avg_accuracies: [0.8333333333333334, 0.8111111111111111, 0.7388888888888889, 0.3055555555555556, 0.8111111111111111, 0.8, 0.8777777777777778, 0.7166666666666667, 0.6166666666666667, 0.4888888888888889, 0.8944444444444445, 0.6388888888888888, 0.8388888888888889, 0.8944444444444445, 0.9166666666666666, 0.8277777777777777, 0.5166666666666667, 0.4888888888888889, 0.8666666666666667, 0.8611111111111112, 0.7222222222222222, 0.8944444444444445, 0.7722222222222223, 0.9277777777777778, 0.8555555555555555, 0.6722222222222223, 0.8222222222222222, 0.6277777777777778, 0.8888888888888888, 0.6222222222222222, 0.9166666666666666, 0.8333333333333334, 0.46111111111111114, 0.40555555555555556, 0.7888888888888889, 0.8777777777777778, 0.4388888888888889, 0.9555555555555556, 0.8277777777777777, 0.7222222222222222, 0.7166666666666667, 0.9222222222222223, 0.8944444444444445, 0.8277777777777777, 0.8722222222222222, 0.9055555555555556, 0.7055555555555556, 0.8555555555555555, 0.8333333333333334, 0.7944444444444444, 0.6611111111111111, 0.5111111111111111, 0.8888888888888888, 0.4444444444444444, 0.35555555555555557, 0.8833333333333333, 0.7333333333333333, 0.9333333333333333, 0.6611111111111111, 0.75, 0.8444444444444444, 0.6, 0.6555555555555556, 0.8166666666666667, 0.8555555555555555, 0.8222222222222222, 0.8388888888888889, 0.9388888888888889, 0.4722222222222222, 0.6388888888888888, 0.2777777777777778, 0.8611111111111112, 0.12222222222222222, 0.8444444444444444, 0.29444444444444445, 0.5444444444444444, 0.9444444444444444, 0.8333333333333334, 0.65, 0.8333333333333334, 0.8222222222222222, 0.8777777777777778, 0.8833333333333333, 0.5666666666666667, 0.45, 0.5, 0.8, 0.7833333333333333, 0.8111111111111111, 0.5055555555555555, 0.29444444444444445, 0.8888888888888888, 0.6555555555555556, 0.8111111111111111, 0.9111111111111111, 0.8388888888888889, 0.75, 0.8222222222222222, 0.9888888888888889, 0.5777777777777777, 0.7666666666666667, 0.8222222222222222, 0.9333333333333333, 0.6277777777777778, 0.4, 0.7777777777777778, 0.6777777777777778, 0.8777777777777778, 0.8777777777777778, 0.9111111111111111, 0.8722222222222222, 0.5222222222222223, 0.7444444444444445, 0.6722222222222223, 0.8777777777777778, 0.9277777777777778, 0.8611111111111112, 0.4722222222222222, 0.5888888888888889, 0.9277777777777778, 0.8111111111111111, 0.12777777777777777, 0.8666666666666667, 0.40555555555555556, 0.8333333333333334, 0.7888888888888889, 0.8722222222222222, 0.9222222222222223, 0.8944444444444445, 0.49444444444444446, 0.6777777777777778, 0.7, 0.8333333333333334, 0.6055555555555555, 0.2833333333333333, 0.6333333333333333, 0.7555555555555555, 0.3111111111111111, 0.5944444444444444, 0.6888888888888889, 0.8055555555555556, 0.8611111111111112, 0.8833333333333333, 0.7888888888888889, 0.7944444444444444, 0.85, 0.6888888888888889, 0.8055555555555556, 0.8944444444444445, 0.5833333333333334, 0.7555555555555555, 0.7888888888888889, 0.7388888888888889, 0.35, 0.8666666666666667, 0.8222222222222222, 0.8666666666666667, 0.7333333333333333, 0.8944444444444445, 0.7222222222222222, 0.8333333333333334, 0.8888888888888888, 0.4111111111111111, 0.9222222222222223, 0.8777777777777778, 0.8888888888888888, 0.8888888888888888, 0.7444444444444445, 0.75, 0.5277777777777778, 0.7, 0.7333333333333333, 0.8722222222222222, 0.8833333333333333, 0.8888888888888888, 0.7555555555555555, 0.28888888888888886, 0.8444444444444444, 0.8666666666666667, 0.85, 0.6944444444444444, 0.8555555555555555, 0.3333333333333333, 0.9166666666666666, 0.5, 0.8333333333333334, 0.6666666666666666, 0.8444444444444444, 0.5555555555555556, 0.4888888888888889, 0.8277777777777777, 0.5722222222222222, 0.7277777777777777, 0.8888888888888888, 0.34444444444444444, 0.6111111111111112, 0.7388888888888889, 0.7111111111111111, 0.6333333333333333, 0.4888888888888889, 0.1111111111111111, 0.8444444444444444, 0.6944444444444444, 0.7666666666666667, 0.6, 0.8222222222222222, 0.7111111111111111, 0.39444444444444443, 0.5277777777777778, 0.9388888888888889, 0.8166666666666667, 0.25555555555555554, 0.3055555555555556, 0.8333333333333334, 0.6833333333333333, 0.28888888888888886, 0.8777777777777778, 0.37777777777777777, 0.13333333333333333, 0.7, 0.8444444444444444, 0.6333333333333333, 0.7, 0.8666666666666667, 0.28888888888888886, 0.8222222222222222, 0.9444444444444444, 0.6277777777777778, 0.8444444444444444, 0.6888888888888889, 0.6111111111111112, 0.5166666666666667, 0.9166666666666666, 0.65, 0.8944444444444445, 0.8333333333333334, 0.6333333333333333, 0.9277777777777778, 0.9277777777777778, 0.8444444444444444, 0.9222222222222223, 0.6722222222222223, 0.8055555555555556, 0.5666666666666667, 0.7388888888888889, 0.6555555555555556, 0.8611111111111112, 0.4222222222222222, 0.9, 0.10555555555555556]\n",
            "Epoch 16/20\n",
            "avg_losses:[0.3212570970257123, 0.461415762702624, 0.6576163023710251, 1.7477587660153706, 0.4086163267493248, 0.431947889427344, 0.2663818436364333, 0.6214230755964915, 0.896172841389974, 1.108919471502304, 0.24249830345312753, 0.9036492109298706, 0.43347082783778507, 0.3328403929869334, 0.21057120462258658, 0.41690460592508316, 1.0729468166828156, 1.187390794356664, 0.592295691370964, 0.5916313827037811, 0.6838440895080566, 0.25233519325653714, 0.515931690732638, 0.1591531274219354, 0.5074279556671778, 0.802636389931043, 0.28155772884686786, 0.6348273754119873, 0.30481967329978943, 0.8932311236858368, 0.20834464145203432, 0.1929606944322586, 1.3781850536664326, 1.2911683519681294, 0.5404919187227885, 0.28658931454022724, 1.2551438510417938, 0.17101195578773817, 0.3355880106488864, 0.770923987030983, 0.5002692739168803, 0.20417551696300507, 0.1636984385550022, 0.5863687296708425, 0.3684459775686264, 0.3081902402142684, 0.4781205356121063, 0.5758527219295502, 0.43147459129492444, 0.7141602486371994, 0.6724312603473663, 1.0100664893786113, 0.30244656403859455, 1.3766369223594666, 1.6446439226468403, 0.47706372042497, 0.8164701163768768, 0.5030429102480412, 0.7759687801202139, 0.6011898865302404, 0.41713111599286395, 0.9602508544921875, 1.010765294233958, 0.8202227602402369, 0.3455818022290866, 0.4181194355090459, 0.33922869215408963, 0.2569266619781653, 1.190451333920161, 0.8166854480902354, 1.7680278420448303, 0.26663803060849506, 2.296235958735148, 0.5735978508989016, 1.670333981513977, 1.2059809565544128, 0.14612952371438345, 0.5039068510135015, 0.6764958649873734, 0.3671768034497897, 0.3785547465085983, 0.31470559785763424, 0.2643591823677222, 1.1550221939881642, 1.6713966528574626, 1.2465670506159465, 0.43742795536915463, 0.5889993458986282, 0.45979151129722595, 1.038020799557368, 1.6522865096728008, 0.2476006162663301, 0.8539822300275167, 0.25700635587175685, 0.3173333505789439, 0.3909847214818001, 0.6879792412122091, 0.40391655762990314, 0.02213945158291608, 0.9134474396705627, 0.5262446105480194, 0.36102161059776944, 0.1261052048454682, 1.1878150304158528, 1.568130334218343, 0.5999454259872437, 0.6593837638696035, 0.4854595561822255, 0.33228402584791183, 0.22984868163863817, 0.24678667883078256, 1.182492693265279, 0.4890387902657191, 0.717668280005455, 0.27227456122636795, 0.19833526574075222, 0.3142848014831543, 1.1419913669427235, 1.0201304455598195, 0.32716922958691913, 0.6178983747959137, 2.288255294164022, 0.1703936972965797, 1.4695427616437275, 0.38418346643447876, 0.52225428322951, 0.34096220632394153, 0.14741425588726997, 0.20064351335167885, 1.034670929114024, 0.7500698367754618, 0.6143807172775269, 0.3260630667209625, 0.8255877494812012, 1.7133089701334636, 0.9278928935527802, 0.5786811858415604, 1.7721310257911682, 0.9958719809850057, 0.8455528120199839, 0.59452024102211, 0.34598029404878616, 0.22296426072716713, 0.5804397389292717, 0.39727094024419785, 0.3342723573247592, 0.6957221229871114, 0.40161049862702686, 0.4515372986594836, 0.9698829849561056, 0.6104249854882559, 0.48137326041857403, 0.6240931550661722, 1.65176127354304, 0.3622608929872513, 0.3171865294377009, 0.25945262362559635, 0.6315864473581314, 0.22211539248625436, 0.5890390078226725, 0.48200981815656024, 0.3368640715877215, 1.4558802445729573, 0.3696151574452718, 0.2732366944352786, 0.28667435484627884, 0.2432979941368103, 0.7642466028531393, 0.7516918331384659, 1.2955345610777538, 0.8356708387533823, 0.607701857884725, 0.24080442388852438, 0.3577667499581973, 0.2901885323226452, 0.7795868267615637, 1.8434948722521465, 0.2844739481806755, 0.4379139542579651, 0.45563458899656933, 0.7083306312561035, 0.3997252161304156, 1.4998218615849812, 0.22143912191192308, 1.23401274283727, 0.3762723244726658, 0.7682271003723145, 0.4041770398616791, 1.2323194444179535, 1.1160159607728322, 0.34867247690757114, 1.0283779402573903, 0.7037063340346018, 0.2276231882472833, 1.7073867917060852, 1.0155007938543956, 1.0428516169389088, 0.7081601123015085, 0.8672040502230326, 1.1053917407989502, 2.297541300455729, 0.3807101994752884, 0.7874224583307902, 0.7941029146313667, 1.0155358215173085, 0.40986593812704086, 0.7285579691330591, 1.42865655819575, 1.0174956023693085, 0.46484222014745075, 0.48129361867904663, 1.5453325311342876, 2.0837024251619973, 0.5191544940074285, 0.740403433640798, 1.7441575527191162, 0.36435648302237195, 1.3606967131296794, 2.291506767272949, 0.9124155243237814, 0.3675624306003253, 0.9757011731465658, 0.78866575161616, 0.3151930744449298, 1.74748291571935, 0.603857676188151, 0.17792360732952753, 0.789890984694163, 0.2690627941240867, 0.8735925853252411, 0.7719157586495081, 1.103986233472824, 0.2931705911954244, 0.8338679323593775, 0.46636007726192474, 0.29698462535937625, 0.8340212206045786, 0.32277563214302063, 0.15054098019997278, 0.4380107174317042, 0.10736046358942986, 0.9136408468087515, 0.5025971680879593, 0.723851352930069, 0.593965525428454, 0.8879987001419067, 0.33781495441993076, 1.3867783447106679, 0.30618315065900487, 2.2987337509791055]\n",
            " avg_accuracies: [0.8888888888888888, 0.8055555555555556, 0.7111111111111111, 0.28888888888888886, 0.85, 0.8388888888888889, 0.8944444444444445, 0.7444444444444445, 0.6222222222222222, 0.5666666666666667, 0.9055555555555556, 0.6611111111111111, 0.8555555555555555, 0.8611111111111112, 0.9333333333333333, 0.85, 0.5555555555555556, 0.5333333333333333, 0.8, 0.8222222222222222, 0.7, 0.9055555555555556, 0.7777777777777778, 0.9444444444444444, 0.8111111111111111, 0.6666666666666666, 0.9166666666666666, 0.7333333333333333, 0.8888888888888888, 0.5944444444444444, 0.9388888888888889, 0.9111111111111111, 0.40555555555555556, 0.4111111111111111, 0.75, 0.8888888888888888, 0.42777777777777776, 0.9222222222222223, 0.8666666666666667, 0.6888888888888889, 0.8, 0.9388888888888889, 0.9555555555555556, 0.8166666666666667, 0.8666666666666667, 0.9166666666666666, 0.8222222222222222, 0.8166666666666667, 0.8555555555555555, 0.7444444444444445, 0.7388888888888889, 0.5888888888888889, 0.9222222222222223, 0.4444444444444444, 0.4, 0.8444444444444444, 0.6944444444444444, 0.8555555555555555, 0.7388888888888889, 0.7611111111111111, 0.8388888888888889, 0.5833333333333334, 0.6, 0.7611111111111111, 0.9, 0.8555555555555555, 0.8888888888888888, 0.9222222222222223, 0.5166666666666667, 0.6722222222222223, 0.29444444444444445, 0.8777777777777778, 0.12777777777777777, 0.8166666666666667, 0.3, 0.5277777777777778, 0.9444444444444444, 0.7944444444444444, 0.7388888888888889, 0.8833333333333333, 0.8833333333333333, 0.8722222222222222, 0.8944444444444445, 0.55, 0.35555555555555557, 0.4777777777777778, 0.8833333333333333, 0.7777777777777778, 0.8277777777777777, 0.5555555555555556, 0.3611111111111111, 0.9055555555555556, 0.6555555555555556, 0.9, 0.8777777777777778, 0.8333333333333334, 0.7388888888888889, 0.8444444444444444, 0.9944444444444445, 0.6, 0.7944444444444444, 0.8555555555555555, 0.9444444444444444, 0.5888888888888889, 0.37222222222222223, 0.8166666666666667, 0.7388888888888889, 0.8388888888888889, 0.8555555555555555, 0.9166666666666666, 0.9, 0.5388888888888889, 0.7944444444444444, 0.7444444444444445, 0.9055555555555556, 0.9222222222222223, 0.9055555555555556, 0.5222222222222223, 0.5833333333333334, 0.8888888888888888, 0.7555555555555555, 0.12777777777777777, 0.9333333333333333, 0.43333333333333335, 0.8666666666666667, 0.7555555555555555, 0.8777777777777778, 0.95, 0.9444444444444444, 0.5777777777777777, 0.7, 0.7777777777777778, 0.8833333333333333, 0.6777777777777778, 0.2777777777777778, 0.6222222222222222, 0.7777777777777778, 0.3388888888888889, 0.6388888888888888, 0.7055555555555556, 0.7722222222222223, 0.8666666666666667, 0.9277777777777778, 0.7833333333333333, 0.8777777777777778, 0.8833333333333333, 0.7166666666666667, 0.8333333333333334, 0.8111111111111111, 0.5944444444444444, 0.8222222222222222, 0.7888888888888889, 0.7333333333333333, 0.4, 0.8722222222222222, 0.8777777777777778, 0.9111111111111111, 0.7666666666666667, 0.9111111111111111, 0.8222222222222222, 0.8166666666666667, 0.8888888888888888, 0.4111111111111111, 0.8833333333333333, 0.8944444444444445, 0.9055555555555556, 0.9277777777777778, 0.7222222222222222, 0.7, 0.4666666666666667, 0.6777777777777778, 0.8055555555555556, 0.9277777777777778, 0.8611111111111112, 0.9055555555555556, 0.7055555555555556, 0.25555555555555554, 0.8888888888888888, 0.8444444444444444, 0.8166666666666667, 0.7944444444444444, 0.8888888888888888, 0.39444444444444443, 0.9166666666666666, 0.45555555555555555, 0.9111111111111111, 0.7277777777777777, 0.8388888888888889, 0.5333333333333333, 0.5444444444444444, 0.8944444444444445, 0.5333333333333333, 0.7277777777777777, 0.9222222222222223, 0.29444444444444445, 0.6, 0.6555555555555556, 0.7333333333333333, 0.6833333333333333, 0.42777777777777776, 0.12222222222222222, 0.8777777777777778, 0.6666666666666666, 0.7444444444444445, 0.6277777777777778, 0.8555555555555555, 0.7055555555555556, 0.38333333333333336, 0.46111111111111114, 0.8611111111111112, 0.8333333333333334, 0.3055555555555556, 0.29444444444444445, 0.8388888888888889, 0.6888888888888889, 0.3333333333333333, 0.8833333333333333, 0.4, 0.12777777777777777, 0.6444444444444445, 0.8666666666666667, 0.65, 0.6666666666666666, 0.8444444444444444, 0.3333333333333333, 0.7444444444444445, 0.9166666666666666, 0.6666666666666666, 0.8944444444444445, 0.7055555555555556, 0.7055555555555556, 0.5555555555555556, 0.9055555555555556, 0.6388888888888888, 0.8277777777777777, 0.9055555555555556, 0.6444444444444445, 0.9166666666666666, 0.9444444444444444, 0.8722222222222222, 0.9666666666666667, 0.6666666666666666, 0.8111111111111111, 0.7166666666666667, 0.7833333333333333, 0.6611111111111111, 0.8611111111111112, 0.4722222222222222, 0.9333333333333333, 0.1111111111111111]\n",
            "Epoch 17/20\n",
            "avg_losses:[0.2707456201314926, 0.5131939649581909, 0.5953579346338908, 1.6826589902242024, 0.29222282270590466, 0.48057085027297336, 0.25924643129110336, 0.6174216320117315, 0.9552366932233175, 0.9752174218495687, 0.2564972961942355, 0.8593228956063589, 0.35163674006859463, 0.3378550757964452, 0.5001138920585314, 0.3669448792934418, 1.0774218638737996, 0.9957268734773, 0.3476773872971535, 0.7013466209173203, 0.562064121166865, 0.1480759841700395, 0.5198783874511719, 0.12218151986598969, 0.279742310444514, 0.7636184493700663, 0.40102796504894894, 0.5441480328639349, 0.2860981139043967, 0.9288888176282247, 0.10895722235242526, 0.21828594182928404, 1.2807400425275166, 1.3220726251602173, 0.5684425532817841, 0.24662502110004425, 1.1683069666226704, 0.10598291829228401, 0.35496806850035983, 0.9155690670013428, 0.5363133052984873, 0.20174611111481985, 0.09633463310698669, 0.6632775863011678, 0.3542909771203995, 0.2506905235350132, 0.5328206320603689, 0.48879211644331616, 0.3291781855126222, 0.5523738736907641, 0.6344955960909525, 1.0341935455799103, 0.31137705594301224, 1.3162062068780263, 1.4404537677764893, 0.2700422288229068, 0.6670235991477966, 0.6367204909523329, 0.9636553128560384, 0.5161367158095042, 0.3973177969455719, 0.89879509806633, 0.8605758349100748, 0.8794432580471039, 0.2990431835254033, 0.431056872010231, 0.3479066789150238, 0.21414843201637268, 1.2411986192067463, 0.8909913301467896, 1.7320327162742615, 0.3352123983204365, 2.2851967811584473, 0.30164866397778195, 1.6357927521069844, 1.0892311533292134, 0.15763505175709724, 0.3796739727258682, 0.6451205015182495, 0.3255060948431492, 0.25433769697944325, 0.2178893672923247, 0.2496762853115797, 1.1192856629689534, 1.516184429327647, 1.2069143851598103, 0.30095257113377255, 0.5215222934881846, 0.43724705775578815, 1.0119731724262238, 1.6291000843048096, 0.298902736355861, 0.8466273645559946, 0.2237375577290853, 0.26596414918700856, 0.6567518462737402, 0.6446542938550314, 0.20289023965597153, 0.006673352016756932, 0.948766827583313, 0.5345477064450582, 0.32886703809102374, 0.13785299099981785, 1.2878784934679668, 1.4818102320035298, 0.7964123537143072, 0.5827377537886301, 0.5276447633902231, 0.3834574843446414, 0.22564017493277788, 0.5560298611720403, 1.1487011810143788, 0.5638512521982193, 0.6365507990121841, 0.24780879666407904, 0.26151829585433006, 0.29193126286069554, 1.0831158955891926, 1.0984408259391785, 0.4649893293778102, 0.41005387902259827, 2.2907675902048745, 0.1619130757947763, 1.4685449202855427, 0.32373445232709247, 0.5506402750809988, 0.27006327112515766, 0.13652064899603525, 0.1387939720104138, 0.9541107813517252, 0.7329032023747762, 0.5914278576771418, 0.243386410176754, 0.7423710425694784, 1.6708797017733257, 0.8495514194170634, 0.5742220232884089, 1.6505013505617778, 1.068186084429423, 0.6436209678649902, 0.5834476947784424, 0.2522002657254537, 0.24435275296370187, 0.4644020547469457, 0.33091527223587036, 0.29608943065007526, 0.7360040545463562, 0.5058827325701714, 0.35492614408334094, 0.9997666974862417, 0.8168036639690399, 0.264938918252786, 0.6347517520189285, 1.601266622543335, 0.41115913291772205, 0.328315573434035, 0.1704422396918138, 0.6144573787848154, 0.20843813940882683, 0.48267954339583713, 0.37436046451330185, 0.53938806305329, 1.4181717435518901, 0.32110213736693066, 0.2958458736538887, 0.14175604407986006, 0.4914257749915123, 0.6082604080438614, 0.5736208806435267, 1.112327665090561, 0.7858236034711202, 0.5317918012539545, 0.31865886350472766, 0.4534975190957387, 0.2532113306224346, 0.6300075327356657, 1.7439388235410054, 0.21686836145818233, 0.31508468091487885, 0.35666440427303314, 0.58931731681029, 0.5827050656080246, 1.4911131064097087, 0.18936810145775476, 1.3186081250508626, 0.29396025091409683, 0.5911061217387518, 0.44546643644571304, 1.2165203988552094, 1.0270175238450368, 0.3219759538769722, 0.9800041218598684, 0.52385380367438, 0.09770022239536047, 1.7224599321683247, 0.9973192016283671, 0.9504636923472086, 0.755917971332868, 0.8868366877237955, 1.1136253476142883, 2.295815587043762, 0.21322849641243616, 0.7231157124042511, 0.4539960374434789, 0.9654283424218496, 0.4121078625321388, 1.0054614494244258, 1.3797486027081807, 0.9989425341288248, 0.5209006369113922, 0.4806145330270131, 1.5610420902570088, 1.97784157594045, 0.4338086371620496, 0.726149727900823, 1.6889445583025615, 0.39248508339126903, 1.3294435342152913, 2.2856794595718384, 0.7507538994153341, 0.3088334302107493, 0.9847885966300964, 0.7082304060459137, 0.28773420800765354, 1.7128262718518574, 0.5846993525822958, 0.08979938924312592, 0.6933025419712067, 0.14979621022939682, 0.5906912287076315, 0.737139880657196, 0.9764812787373861, 0.2550359716018041, 0.7675066590309143, 0.2789328619837761, 0.4433893064657847, 0.8202188809712728, 0.5648126006126404, 0.18191234519084296, 0.48931483924388885, 0.11865548354883988, 0.8277274370193481, 0.3712089955806732, 0.5437373518943787, 0.6306638220945994, 0.774631917476654, 0.3632100423177083, 1.4108043313026428, 0.6305971443653107, 2.2976475954055786]\n",
            " avg_accuracies: [0.9277777777777778, 0.8222222222222222, 0.7666666666666667, 0.26666666666666666, 0.9111111111111111, 0.8277777777777777, 0.9222222222222223, 0.7333333333333333, 0.6333333333333333, 0.5888888888888889, 0.9166666666666666, 0.6722222222222223, 0.8666666666666667, 0.8611111111111112, 0.85, 0.8777777777777778, 0.5166666666666667, 0.5944444444444444, 0.9, 0.7777777777777778, 0.7388888888888889, 0.95, 0.7722222222222223, 0.9444444444444444, 0.8833333333333333, 0.6722222222222223, 0.8555555555555555, 0.7833333333333333, 0.9166666666666666, 0.6388888888888888, 0.9666666666666667, 0.9277777777777778, 0.4666666666666667, 0.39444444444444443, 0.7944444444444444, 0.9333333333333333, 0.4888888888888889, 0.9666666666666667, 0.8666666666666667, 0.6944444444444444, 0.7722222222222223, 0.9333333333333333, 0.9833333333333333, 0.7555555555555555, 0.8388888888888889, 0.9055555555555556, 0.8055555555555556, 0.8333333333333334, 0.8944444444444445, 0.8055555555555556, 0.75, 0.5444444444444444, 0.9166666666666666, 0.4388888888888889, 0.4388888888888889, 0.9111111111111111, 0.7722222222222223, 0.8166666666666667, 0.5944444444444444, 0.7722222222222223, 0.8888888888888888, 0.6333333333333333, 0.6611111111111111, 0.7333333333333333, 0.8722222222222222, 0.8277777777777777, 0.8888888888888888, 0.8777777777777778, 0.5111111111111111, 0.6222222222222222, 0.3055555555555556, 0.8666666666666667, 0.12222222222222222, 0.8722222222222222, 0.2833333333333333, 0.5888888888888889, 0.95, 0.8611111111111112, 0.7166666666666667, 0.8944444444444445, 0.9, 0.9277777777777778, 0.9333333333333333, 0.6222222222222222, 0.3277777777777778, 0.5333333333333333, 0.8888888888888888, 0.8222222222222222, 0.8055555555555556, 0.5777777777777777, 0.35, 0.9222222222222223, 0.6666666666666666, 0.9, 0.9166666666666666, 0.8, 0.7388888888888889, 0.9055555555555556, 1.0, 0.5888888888888889, 0.7833333333333333, 0.8777777777777778, 0.95, 0.5611111111111111, 0.35, 0.7555555555555555, 0.7277777777777777, 0.8277777777777777, 0.85, 0.9388888888888889, 0.8055555555555556, 0.5666666666666667, 0.7333333333333333, 0.7944444444444444, 0.9222222222222223, 0.9055555555555556, 0.9111111111111111, 0.5388888888888889, 0.6055555555555555, 0.8388888888888889, 0.8222222222222222, 0.1111111111111111, 0.9222222222222223, 0.4111111111111111, 0.9166666666666666, 0.7888888888888889, 0.9111111111111111, 0.9555555555555556, 0.9611111111111111, 0.6055555555555555, 0.6833333333333333, 0.7666666666666667, 0.9166666666666666, 0.75, 0.29444444444444445, 0.6277777777777778, 0.7611111111111111, 0.35555555555555557, 0.6222222222222222, 0.75, 0.8, 0.9055555555555556, 0.95, 0.8722222222222222, 0.8722222222222222, 0.9, 0.6777777777777778, 0.8555555555555555, 0.8666666666666667, 0.5277777777777778, 0.7388888888888889, 0.9055555555555556, 0.7611111111111111, 0.4222222222222222, 0.8611111111111112, 0.8833333333333333, 0.9222222222222223, 0.8, 0.9277777777777778, 0.8444444444444444, 0.8722222222222222, 0.8944444444444445, 0.3888888888888889, 0.9166666666666666, 0.9055555555555556, 0.95, 0.8444444444444444, 0.7722222222222223, 0.7444444444444445, 0.5833333333333334, 0.6666666666666666, 0.8111111111111111, 0.8722222222222222, 0.8222222222222222, 0.9055555555555556, 0.8055555555555556, 0.23333333333333334, 0.9166666666666666, 0.8722222222222222, 0.8666666666666667, 0.7833333333333333, 0.8111111111111111, 0.37777777777777777, 0.9388888888888889, 0.5, 0.8888888888888888, 0.8166666666666667, 0.8277777777777777, 0.4888888888888889, 0.6111111111111112, 0.8833333333333333, 0.5555555555555556, 0.7777777777777778, 0.9722222222222222, 0.28888888888888886, 0.5722222222222222, 0.6333333333333333, 0.6888888888888889, 0.6666666666666666, 0.5055555555555555, 0.12222222222222222, 0.9111111111111111, 0.7166666666666667, 0.8444444444444444, 0.6388888888888888, 0.8666666666666667, 0.6444444444444445, 0.48333333333333334, 0.5222222222222223, 0.8777777777777778, 0.8, 0.36666666666666664, 0.25555555555555554, 0.8888888888888888, 0.7222222222222222, 0.3111111111111111, 0.8777777777777778, 0.40555555555555556, 0.15, 0.6888888888888889, 0.9055555555555556, 0.6444444444444445, 0.7222222222222222, 0.8944444444444445, 0.3, 0.75, 0.9666666666666667, 0.7444444444444445, 0.9555555555555556, 0.8, 0.6888888888888889, 0.5944444444444444, 0.9166666666666666, 0.7333333333333333, 0.9, 0.8444444444444444, 0.6611111111111111, 0.8555555555555555, 0.95, 0.8222222222222222, 0.9666666666666667, 0.7277777777777777, 0.8277777777777777, 0.8277777777777777, 0.7555555555555555, 0.7166666666666667, 0.8944444444444445, 0.4722222222222222, 0.8222222222222222, 0.07777777777777778]\n",
            "Epoch 18/20\n",
            "avg_losses:[0.19007612764835358, 0.6079438999295235, 0.5078105330467224, 1.6391209363937378, 0.30092188467582065, 0.3327314754327138, 0.20368590826789537, 0.5372690409421921, 0.9576200048128763, 1.0034794906775157, 0.24748768284916878, 0.7721054156621298, 0.44210003068049747, 0.39427755028009415, 0.38566315670808154, 0.3997475430369377, 1.0915613571802776, 0.8904727697372437, 0.2289861924946308, 0.5522924661636353, 0.5067717333634695, 0.1809322014451027, 0.44192015131314594, 0.16453528280059496, 0.3364206776022911, 0.7881359755992889, 0.49618319422006607, 0.4143227090438207, 0.2990252623955409, 1.060227483510971, 0.08143702521920204, 0.17131502057115236, 1.2396053671836853, 1.2716036438941956, 0.5428910702466965, 0.2350469765563806, 1.148927350838979, 0.3690307755023241, 0.3236653332908948, 1.000076154867808, 0.5613159388303757, 0.21886755898594856, 0.06018399385114511, 0.5589588532845179, 0.24326261381308237, 0.4202994033694267, 0.4341017926732699, 0.388473317027092, 0.3337356299161911, 0.3107561233143012, 0.6810180097818375, 0.9365107119083405, 0.25956055894494057, 1.3797129392623901, 1.3888831337292988, 0.12493400524059932, 0.6338012466828028, 0.3870520479977131, 0.8573606510957082, 0.6166153301795324, 0.4402773280938466, 1.0766742825508118, 0.7234186132748922, 0.4910064861178398, 0.26568815981348354, 0.37657927473386127, 0.3854481801390648, 0.27037210514148075, 1.1522972881793976, 0.8561159571011862, 1.7529256145159404, 0.25756769875685376, 2.2906603813171387, 0.2550479198495547, 1.6120566924413045, 1.230748564004898, 0.12281804780165355, 0.25686195492744446, 0.6299463411172231, 0.2379627451300621, 0.32075295224785805, 0.14893626111249128, 0.2502153944224119, 1.061350146929423, 1.7173019448916118, 1.144805947939555, 0.25795742124319077, 0.6602945377429327, 0.2817242741584778, 1.0513416230678558, 1.6095547080039978, 0.43606763426214457, 0.8184419671694437, 0.1314869715521733, 0.5815493514140447, 0.7360804677009583, 0.6029780209064484, 0.18775013213356337, 0.004804619122296572, 1.0772053102652233, 0.6513200551271439, 0.2408983384569486, 0.1732743705312411, 0.9005578855673472, 1.5206753015518188, 0.5041599621375402, 0.5818188786506653, 0.9079234550396601, 0.4483366111914317, 0.17940152063965797, 0.6725587000449499, 1.0023173888524373, 0.5189550419648489, 0.8171310921510061, 0.1832525928815206, 0.31850362693270046, 0.4278355861703555, 1.042691320180893, 0.9205141464869181, 0.3664756069580714, 0.3842715968688329, 2.294487714767456, 0.10033991653472185, 1.3578725457191467, 0.24697944521903992, 0.6534343312184016, 0.23090622077385584, 0.18662720421950021, 0.09689348687728246, 0.9337633748849233, 0.6584558834632238, 0.5004826287428538, 0.21006997923056284, 0.7827733854452769, 1.694645841916402, 0.8513408501942953, 0.4358072529236476, 1.5372219681739807, 0.8865383664766947, 0.6574049194653829, 0.4436350812514623, 0.2278851456940174, 0.1407161404689153, 0.34702007720867795, 0.32317997763554257, 0.21876547361413637, 0.6935913463433584, 0.5404956216613451, 0.34068717745443183, 0.919233113527298, 0.5721315344174703, 0.19553030530611673, 0.5483128974835078, 1.5889246861139934, 0.3170860509077708, 0.28551792601744336, 0.18511510081589222, 0.5925693313280741, 0.2397199049592018, 0.4397376577059428, 0.37925082445144653, 0.43258898456891376, 1.3608201543490093, 0.23445219298203787, 0.21555804212888083, 0.09715056916077931, 0.5102389752864838, 0.6946769456068674, 0.5028653691212336, 0.9591003954410553, 0.7088594337304434, 0.42795567711194354, 0.5118847787380219, 0.33372974395751953, 0.22508737941582999, 0.6483167012532552, 1.7255172928174336, 0.12797872784237066, 0.3855266695221265, 0.2979999581972758, 0.756042405962944, 0.6350443785389265, 1.468856434027354, 0.14852642888824144, 1.2545723915100098, 0.186451505869627, 0.6708994805812836, 0.6008465563257536, 1.248715917269389, 1.0825157662232716, 0.3762658288081487, 0.9531627198060354, 0.39558150867621106, 0.10257922299206257, 1.6100398103396099, 0.866146961847941, 0.7138893206914266, 0.7899153927961985, 0.7233103315035502, 1.0448552370071411, 2.3011844158172607, 0.17778723438580832, 0.6916295289993286, 0.35144464174906415, 0.8683318793773651, 0.38568830490112305, 0.7980382442474365, 1.3713301420211792, 0.9182503322760264, 0.47666417558987934, 0.5351385076840719, 1.5355520049730937, 1.9497737288475037, 0.3557477419575055, 0.6531086613734564, 1.5683110157648723, 0.3801302450398604, 1.3108842968940735, 2.284435232480367, 0.6235103259483973, 0.23137944440046945, 0.7647809286912283, 0.5260944093267123, 0.3621957873304685, 1.655104160308838, 0.9640738169352213, 0.10246731014922261, 0.7417427202065786, 0.22576437145471573, 0.5958532293637594, 0.6075897812843323, 1.010983258485794, 0.19913786152998605, 0.5277061263720194, 0.3222932467857997, 0.42569652075568837, 0.939970850944519, 0.28561457619071007, 0.14645893747607866, 0.38248351961374283, 0.09062063600867987, 0.9414081076780955, 0.3315306380391121, 0.5787300765514374, 0.5307668248812357, 0.7101489901542664, 0.39127564430236816, 1.3176982204119365, 0.3294433156649272, 2.2936141093571982]\n",
            " avg_accuracies: [0.9388888888888889, 0.7444444444444445, 0.7944444444444444, 0.3277777777777778, 0.8888888888888888, 0.8944444444444445, 0.9222222222222223, 0.7611111111111111, 0.6166666666666667, 0.6277777777777778, 0.9222222222222223, 0.7277777777777777, 0.85, 0.8833333333333333, 0.8777777777777778, 0.8555555555555555, 0.5666666666666667, 0.6833333333333333, 0.9333333333333333, 0.7555555555555555, 0.7888888888888889, 0.9277777777777778, 0.7944444444444444, 0.95, 0.8888888888888888, 0.6555555555555556, 0.8555555555555555, 0.85, 0.9, 0.5388888888888889, 0.9777777777777777, 0.9444444444444444, 0.4444444444444444, 0.4166666666666667, 0.8, 0.9388888888888889, 0.5222222222222223, 0.8777777777777778, 0.8555555555555555, 0.6388888888888888, 0.7444444444444445, 0.9277777777777778, 0.9888888888888889, 0.8166666666666667, 0.8888888888888888, 0.8611111111111112, 0.8333333333333334, 0.8833333333333333, 0.9, 0.9055555555555556, 0.75, 0.6388888888888888, 0.9055555555555556, 0.4222222222222222, 0.4444444444444444, 0.95, 0.7555555555555555, 0.8777777777777778, 0.65, 0.7666666666666667, 0.8277777777777777, 0.5222222222222223, 0.6944444444444444, 0.8, 0.9166666666666666, 0.8388888888888889, 0.8611111111111112, 0.9166666666666666, 0.5, 0.6, 0.3, 0.8833333333333333, 0.13333333333333333, 0.9055555555555556, 0.3277777777777778, 0.5833333333333334, 0.9666666666666667, 0.8944444444444445, 0.7722222222222223, 0.9222222222222223, 0.8833333333333333, 0.9555555555555556, 0.9222222222222223, 0.5888888888888889, 0.32222222222222224, 0.49444444444444446, 0.9055555555555556, 0.75, 0.9277777777777778, 0.55, 0.3888888888888889, 0.8777777777777778, 0.7111111111111111, 0.9555555555555556, 0.8, 0.75, 0.7888888888888889, 0.9388888888888889, 1.0, 0.6055555555555555, 0.7833333333333333, 0.9, 0.9222222222222223, 0.6722222222222223, 0.38333333333333336, 0.8166666666666667, 0.7611111111111111, 0.75, 0.8777777777777778, 0.9333333333333333, 0.7388888888888889, 0.6, 0.7777777777777778, 0.7111111111111111, 0.9277777777777778, 0.8944444444444445, 0.8611111111111112, 0.5944444444444444, 0.6111111111111112, 0.8555555555555555, 0.8611111111111112, 0.1111111111111111, 0.9666666666666667, 0.45, 0.9055555555555556, 0.7555555555555555, 0.9277777777777778, 0.9222222222222223, 0.9611111111111111, 0.6277777777777778, 0.75, 0.8277777777777777, 0.9166666666666666, 0.7222222222222222, 0.3055555555555556, 0.6388888888888888, 0.8277777777777777, 0.4, 0.6611111111111111, 0.7722222222222223, 0.8388888888888889, 0.9222222222222223, 0.9555555555555556, 0.8944444444444445, 0.8833333333333333, 0.9055555555555556, 0.6777777777777778, 0.8, 0.8944444444444445, 0.6, 0.8055555555555556, 0.9277777777777778, 0.7944444444444444, 0.4111111111111111, 0.8944444444444445, 0.9, 0.9222222222222223, 0.7555555555555555, 0.9166666666666666, 0.8388888888888889, 0.8777777777777778, 0.8722222222222222, 0.43333333333333335, 0.8777777777777778, 0.9, 0.9777777777777777, 0.8555555555555555, 0.7611111111111111, 0.8055555555555556, 0.6166666666666667, 0.6388888888888888, 0.8555555555555555, 0.8388888888888889, 0.8722222222222222, 0.9222222222222223, 0.8111111111111111, 0.25555555555555554, 0.9611111111111111, 0.8444444444444444, 0.9111111111111111, 0.7222222222222222, 0.8444444444444444, 0.39444444444444443, 0.9666666666666667, 0.5055555555555555, 0.9333333333333333, 0.7444444444444445, 0.7944444444444444, 0.5444444444444444, 0.5777777777777777, 0.8555555555555555, 0.6055555555555555, 0.8666666666666667, 0.9555555555555556, 0.3, 0.7055555555555556, 0.7555555555555555, 0.6833333333333333, 0.7111111111111111, 0.5, 0.12222222222222222, 0.9555555555555556, 0.6722222222222223, 0.8888888888888888, 0.65, 0.85, 0.6666666666666666, 0.4, 0.6055555555555555, 0.8666666666666667, 0.8222222222222222, 0.38333333333333336, 0.2388888888888889, 0.9, 0.7611111111111111, 0.36666666666666664, 0.8666666666666667, 0.42777777777777776, 0.15, 0.7444444444444445, 0.9166666666666666, 0.7222222222222222, 0.7888888888888889, 0.8777777777777778, 0.31666666666666665, 0.6777777777777778, 0.9777777777777777, 0.7166666666666667, 0.9277777777777778, 0.7944444444444444, 0.7388888888888889, 0.6166666666666667, 0.95, 0.7611111111111111, 0.9055555555555556, 0.8388888888888889, 0.6222222222222222, 0.9, 0.95, 0.8888888888888888, 0.9666666666666667, 0.6888888888888889, 0.8722222222222222, 0.7833333333333333, 0.8055555555555556, 0.7166666666666667, 0.8888888888888888, 0.5, 0.8666666666666667, 0.1]\n",
            "Epoch 19/20\n",
            "avg_losses:[0.257656273432076, 0.5426255613565445, 0.5392770866552988, 1.6143927971522014, 0.48001105586687726, 0.22470254947741827, 0.32281376297275227, 0.6081198553244272, 0.7648597260316213, 0.9945469697316488, 0.5293527195851008, 0.6677099217971166, 0.5764705886443456, 0.2809184764822324, 0.29279837508996326, 0.4536756177743276, 1.0012555023034413, 0.8623886406421661, 0.2729165827234586, 0.33113405605157215, 0.5366672823826472, 0.1270566200837493, 0.40374018251895905, 0.21261535212397575, 0.2218679767102003, 0.9477496941884359, 0.41868504136800766, 0.3852072060108185, 0.20502547547221184, 0.8892368773619334, 0.06817517468395333, 0.14643350491921106, 1.2428230146567028, 1.2211515506108601, 0.5706065595149994, 0.29370100423693657, 1.117082804441452, 0.29111288984616596, 0.2807403827706973, 0.866824726263682, 0.4439329008261363, 0.28282375385363895, 0.03753408292929331, 0.4771263226866722, 0.23711018512646356, 0.4909082626303037, 0.3956429014603297, 0.3577234521508217, 0.24387850115696588, 0.2541608822842439, 0.5222199360529581, 0.9299920002619425, 0.1830480946227908, 1.3944316506385803, 1.394936740398407, 0.07256749443088968, 0.8337366282939911, 0.36368371546268463, 0.7896595497926077, 0.44616831839084625, 0.24331636851032576, 1.0748608509699504, 0.6556837111711502, 0.42885824541250867, 0.2193054792781671, 0.45946664611498517, 0.5575393537680308, 0.21628408009807268, 1.166944146156311, 0.7482263644536337, 1.7835126916567485, 0.2937872459491094, 2.29597536722819, 0.20864532018701235, 1.5832342902819316, 1.1162826120853424, 0.11561343368763725, 0.20891297608613968, 0.606621727347374, 0.2321598306298256, 0.2398645207285881, 0.11283743567764759, 0.239246999224027, 0.9043577710787455, 1.688385049502055, 1.1780515313148499, 0.2519817476471265, 0.7281280010938644, 0.28820037841796875, 0.9684954782327017, 1.677337149779002, 0.2867250144481659, 0.8463379542032877, 0.19410506449639797, 0.6481334411849579, 0.415226270755132, 0.5820574760437012, 0.1100935706247886, 0.0018396801703299086, 1.0753662486871083, 0.39209627608458203, 0.16578352451324463, 0.423678162197272, 1.088182916243871, 1.4751216570536296, 0.5450026119748751, 0.49412361284097034, 0.6108608990907669, 0.4859413628776868, 0.21780231595039368, 0.6325240780909857, 1.0730220675468445, 0.596191460887591, 0.6651578148206075, 0.17619438655674458, 0.30995448927084607, 0.3159546305735906, 1.032458484172821, 0.7808341880639394, 0.4820337692896525, 0.2732514391342799, 2.2862239281336465, 0.0794997609530886, 1.378136416276296, 0.2307338664929072, 0.5652024745941162, 0.2195271576444308, 0.12454137578606606, 0.16032274160534143, 0.9427579641342163, 0.7131189554929733, 0.5562640478213629, 0.2734317369759083, 0.7699120342731476, 1.654548207918803, 0.7700017193953196, 0.4226423998673757, 1.5264629522959392, 0.7717361251513163, 0.46559564272562665, 0.5279959291219711, 0.2526792244364818, 0.20214620356758436, 0.3120865846673648, 0.2820391543209553, 0.22868302712837854, 0.7261431962251663, 0.4435638561844826, 0.19208180035154024, 1.027108242114385, 0.36614173154036206, 0.2520043260107438, 0.4485614746809006, 1.7546685536702473, 0.40341510872046155, 0.3576395983497302, 0.14740369468927383, 0.5324189066886902, 0.17321249718467394, 0.3898283677796523, 0.3785431757569313, 0.2171289585530758, 1.5482942859331768, 0.4283111095428467, 0.23469815403223038, 0.06217291640738646, 0.5703760758042336, 0.6751310328642527, 0.5843993922074636, 0.9319995741049448, 0.5908162544171015, 0.3961503555377324, 0.6488934978842735, 0.33772555241982144, 0.2387519578138987, 0.434519295891126, 1.5688950816790264, 0.11533860850613564, 0.28770523766676587, 0.411771463851134, 0.5136016607284546, 0.4795784304539363, 1.4672534863154094, 0.16733630001544952, 1.2066559493541718, 0.15746049598480263, 0.6002910261352857, 0.4301823154091835, 1.121156672636668, 1.1207998792330425, 0.32094402487079304, 0.8254984021186829, 0.25780244419972104, 0.14818528232475123, 1.523672878742218, 0.8258974750836691, 0.624135876695315, 0.8835798601309458, 0.7932241261005402, 1.023675451676051, 2.3010749022165933, 0.08447831030935049, 0.6563579390446345, 0.40198663994669914, 0.9079750180244446, 0.31272539123892784, 0.6032223751147588, 1.2488234837849934, 0.942807008822759, 0.2961670085787773, 0.4810374726851781, 1.5268372495969136, 2.013989289601644, 0.34557803968588513, 0.893012285232544, 1.5225816766421, 0.2320643812417984, 1.288971722126007, 2.288186033566793, 0.4884816954533259, 0.4361722692847252, 0.7905014157295227, 0.5197567145029703, 0.2594092624882857, 1.6826377709706624, 0.7384229650100073, 0.12137197811777393, 1.0687317550182343, 0.194760179768006, 0.5475173443555832, 0.5670203417539597, 0.885824183622996, 0.1623035166412592, 0.44349930187066394, 0.23641279122481743, 0.296620969971021, 0.8201879262924194, 0.4987782205765446, 0.07996532165755828, 0.3032837100327015, 0.11160096277793248, 0.8411160111427307, 0.41857864956061047, 0.6468000014623007, 0.5256936699151993, 0.7581289609273275, 0.4844023411472638, 1.2564358313878377, 0.2765776713689168, 2.2945046424865723]\n",
            " avg_accuracies: [0.9333333333333333, 0.7888888888888889, 0.7388888888888889, 0.3277777777777778, 0.8444444444444444, 0.9055555555555556, 0.8777777777777778, 0.7777777777777778, 0.6777777777777778, 0.6222222222222222, 0.8166666666666667, 0.7611111111111111, 0.7666666666666667, 0.9166666666666666, 0.8833333333333333, 0.8388888888888889, 0.5555555555555556, 0.6555555555555556, 0.9, 0.8888888888888888, 0.7611111111111111, 0.95, 0.9166666666666666, 0.9277777777777778, 0.9222222222222223, 0.5777777777777777, 0.8611111111111112, 0.8388888888888889, 0.9222222222222223, 0.6222222222222222, 0.9666666666666667, 0.9555555555555556, 0.4888888888888889, 0.4777777777777778, 0.8277777777777777, 0.8944444444444445, 0.55, 0.8944444444444445, 0.8666666666666667, 0.6944444444444444, 0.7722222222222223, 0.8777777777777778, 1.0, 0.8166666666666667, 0.9222222222222223, 0.8166666666666667, 0.8666666666666667, 0.8833333333333333, 0.9222222222222223, 0.9055555555555556, 0.7944444444444444, 0.5722222222222222, 0.9388888888888889, 0.40555555555555556, 0.48333333333333334, 0.9833333333333333, 0.65, 0.8833333333333333, 0.7222222222222222, 0.8333333333333334, 0.9277777777777778, 0.6, 0.7388888888888889, 0.85, 0.9333333333333333, 0.8111111111111111, 0.8277777777777777, 0.9555555555555556, 0.49444444444444446, 0.6722222222222223, 0.28888888888888886, 0.9, 0.11666666666666667, 0.9222222222222223, 0.3333333333333333, 0.5944444444444444, 0.9666666666666667, 0.9111111111111111, 0.7555555555555555, 0.9, 0.8944444444444445, 0.9666666666666667, 0.9055555555555556, 0.6444444444444445, 0.32222222222222224, 0.4888888888888889, 0.9111111111111111, 0.7333333333333333, 0.8833333333333333, 0.6277777777777778, 0.37222222222222223, 0.8833333333333333, 0.6388888888888888, 0.9555555555555556, 0.7666666666666667, 0.8777777777777778, 0.8055555555555556, 0.9611111111111111, 1.0, 0.5222222222222223, 0.8888888888888888, 0.9388888888888889, 0.8555555555555555, 0.6055555555555555, 0.42777777777777776, 0.8444444444444444, 0.7888888888888889, 0.85, 0.8388888888888889, 0.9, 0.7333333333333333, 0.5833333333333334, 0.7222222222222222, 0.7444444444444445, 0.95, 0.9166666666666666, 0.8833333333333333, 0.5888888888888889, 0.7, 0.8444444444444444, 0.9055555555555556, 0.13333333333333333, 0.9666666666666667, 0.4777777777777778, 0.8888888888888888, 0.75, 0.9388888888888889, 0.95, 0.95, 0.5833333333333334, 0.7055555555555556, 0.7722222222222223, 0.8777777777777778, 0.6777777777777778, 0.32222222222222224, 0.6722222222222223, 0.8611111111111112, 0.37777777777777777, 0.7222222222222222, 0.8055555555555556, 0.8055555555555556, 0.9, 0.9444444444444444, 0.9222222222222223, 0.9055555555555556, 0.9166666666666666, 0.7, 0.8222222222222222, 0.9388888888888889, 0.5611111111111111, 0.8666666666666667, 0.9111111111111111, 0.8333333333333334, 0.37222222222222223, 0.8888888888888888, 0.85, 0.95, 0.7833333333333333, 0.9333333333333333, 0.8444444444444444, 0.8777777777777778, 0.9277777777777778, 0.35, 0.8833333333333333, 0.9277777777777778, 0.9888888888888889, 0.8222222222222222, 0.75, 0.7555555555555555, 0.6055555555555555, 0.7444444444444445, 0.8277777777777777, 0.8444444444444444, 0.8833333333333333, 0.9222222222222223, 0.8388888888888889, 0.38333333333333336, 0.9611111111111111, 0.8944444444444445, 0.8666666666666667, 0.7611111111111111, 0.8444444444444444, 0.35555555555555557, 0.9555555555555556, 0.5222222222222223, 0.9444444444444444, 0.7833333333333333, 0.8166666666666667, 0.5888888888888889, 0.5555555555555556, 0.8777777777777778, 0.6166666666666667, 0.8833333333333333, 0.9611111111111111, 0.3277777777777778, 0.6833333333333333, 0.75, 0.7055555555555556, 0.65, 0.5222222222222223, 0.12222222222222222, 0.9722222222222222, 0.6944444444444444, 0.85, 0.6777777777777778, 0.8666666666666667, 0.7277777777777777, 0.5, 0.55, 0.9, 0.7833333333333333, 0.35, 0.2388888888888889, 0.9, 0.6944444444444444, 0.42777777777777776, 0.9166666666666666, 0.4111111111111111, 0.1388888888888889, 0.8277777777777777, 0.85, 0.7277777777777777, 0.7611111111111111, 0.9111111111111111, 0.3333333333333333, 0.7166666666666667, 0.95, 0.5722222222222222, 0.95, 0.7833333333333333, 0.7333333333333333, 0.6666666666666666, 0.9444444444444444, 0.8166666666666667, 0.9166666666666666, 0.8611111111111112, 0.6722222222222223, 0.9, 0.9777777777777777, 0.9055555555555556, 0.9555555555555556, 0.6944444444444444, 0.8555555555555555, 0.7388888888888889, 0.8166666666666667, 0.7666666666666667, 0.8388888888888889, 0.5055555555555555, 0.9055555555555556, 0.12222222222222222]\n",
            "Epoch 20/20\n",
            "avg_losses:[0.14855347822109857, 0.8701043526331583, 0.598756288488706, 1.6330439647038777, 0.48113826910654706, 0.2731006269653638, 0.3100607457260291, 0.5240009153882662, 0.6975457568963369, 1.0980580747127533, 0.5330209334691366, 0.6007267435391744, 0.4280184557040532, 0.18087631464004517, 0.31989878819634515, 0.3823716342449188, 0.9532849689324697, 0.9240218798319498, 0.3345674993470311, 0.16434101946651936, 0.5665724873542786, 0.1222647416094939, 0.34015997499227524, 0.07801367870221536, 0.29393155376116437, 0.8539588153362274, 0.4061324546734492, 0.4686955114205678, 0.16593415786822638, 0.8791923820972443, 0.11354453500825912, 0.17070595268160105, 1.2096334099769592, 1.2187490264574687, 0.4559951002399127, 0.48179567108551663, 0.9816381633281708, 0.3131951379279296, 0.2713723952571551, 0.7647347549597422, 0.3749513626098633, 0.2358930396536986, 0.030377209031333525, 0.4052411864201228, 0.27124034861723584, 0.337625116109848, 0.30301617582639057, 0.31091368943452835, 0.13961514830589294, 0.21027260273694992, 0.3948398306965828, 0.8883455097675323, 0.13625419108817974, 1.424299677213033, 1.3800715406735737, 0.04312829882837832, 0.6094498485326767, 0.14295881117383638, 0.7488487064838409, 0.42799481749534607, 0.2381916269659996, 0.9702398180961609, 0.5380236804485321, 0.3246876622239749, 0.2524077606697877, 0.484435111284256, 0.34755649665991467, 0.23375695943832397, 1.138797144095103, 0.6992689520120621, 1.7667951186498005, 0.29722530643145245, 2.2888081868489585, 0.15937160203854242, 1.5655712087949116, 1.034659504890442, 0.1260421940435966, 0.23326537509759268, 0.6502521087725958, 0.23710495481888452, 0.2697323386867841, 0.07485586839417617, 0.1206325024055938, 0.8527349332968394, 1.4532824357350667, 1.1970952947934468, 0.18957464148600897, 0.7646860281626383, 0.2825687179962794, 0.8634749948978424, 1.6495231191317241, 0.22465803350011507, 0.6788327892621359, 0.21234737584988275, 0.642923059562842, 0.46260398129622143, 0.5734772980213165, 0.15414236237605414, 0.0017037232755683362, 0.9598750273386637, 0.3965306480725606, 0.17477014288306236, 0.5674806448320547, 1.0015917817751567, 1.4652214845021565, 0.3104743920266628, 0.4284425924221675, 0.5516893913348516, 0.4582271824280421, 0.1958561489979426, 0.6174411823352178, 1.1192900935808818, 0.46292298038800556, 0.5228859881560007, 0.22949001441399255, 0.38001564641793567, 0.2554763965308666, 1.1358488003412883, 0.6203681627909342, 0.44231916467348736, 0.2566782956322034, 2.2896228233973184, 0.1991742824514707, 1.3562159935633342, 0.15503671392798424, 0.588110531369845, 0.25453168774644536, 0.13715038945277533, 0.20849929439524809, 0.8494415779908498, 0.701904426018397, 0.4857532282670339, 0.30558288531998795, 0.7932833681503931, 1.6174381772677104, 0.6738598843415579, 0.40943942219018936, 1.5069984197616577, 0.7202988117933273, 0.43698369711637497, 0.6286811729272207, 0.2896235411365827, 0.37166692068179447, 0.30629265556732815, 0.28649789839982986, 0.26940976331631344, 0.95885136226813, 0.3955460339784622, 0.18570897541940212, 1.0025446116924286, 0.32661060243844986, 0.3964725397527218, 0.29935624698797864, 1.6691513856252034, 0.3358851373195648, 0.647032250960668, 0.2273238169339796, 0.4531741390625636, 0.17867438991864523, 0.36573146531979245, 0.3520309974749883, 0.18816645008822283, 1.3914340138435364, 0.5380983675519625, 0.1794600815822681, 0.06346750725060701, 0.688812326019009, 0.5596583088239034, 0.484970822930336, 0.8596398035685221, 0.6022871484359106, 0.37712494532267254, 0.5763671919703484, 0.471230315665404, 0.2210383452475071, 0.44787734746932983, 1.4739825924237568, 0.17082256451249123, 0.40258180101712543, 0.28536536792914075, 0.627913698554039, 0.2670691596964995, 1.386411468187968, 0.1399679109454155, 1.152337223291397, 0.09908854340513547, 0.4474673767884572, 0.35180173565944034, 0.9325305720170339, 0.970898280541102, 0.25482842574516934, 0.7218386828899384, 0.1764276505758365, 0.13296077276269594, 1.4877677361170452, 0.6754305561383566, 0.6774994532267252, 0.6738813370466232, 0.7837047080198923, 0.9648071924845377, 2.290189544359843, 0.24253231923406324, 0.589499960343043, 0.5457981874545416, 0.8572805722554525, 0.3030305604139964, 0.4822461009025574, 1.1879781087239583, 0.9036155045032501, 0.22370457152525583, 0.5440642784039179, 1.5034894545873005, 1.9593268434206645, 0.2242777794599533, 0.724558025598526, 1.5105833411216736, 0.18609589959184328, 1.4299154877662659, 2.2938245137532554, 0.4705689425269763, 0.3042475953698158, 0.8260600666205088, 0.4021562933921814, 0.24374191276729107, 1.6910765568415325, 0.9991420606772105, 0.03674576493601004, 1.5355190634727478, 0.2317941983540853, 0.4519397070010503, 0.6494676222403845, 0.8761114378770193, 0.11397953766087691, 0.41526787479718524, 0.1220548798640569, 0.3722626728316148, 0.6619503200054169, 0.2194629025955995, 0.03994106656561295, 0.27688869709769887, 0.06624128972180188, 0.8396278421084086, 0.4281488209962845, 0.44374630848566693, 0.5992908875147501, 0.8513359328111013, 0.3777151169876258, 1.4043211936950684, 0.35024026905496913, 2.2982318003972373]\n",
            " avg_accuracies: [0.9444444444444444, 0.7388888888888889, 0.7, 0.3, 0.8611111111111112, 0.8888888888888888, 0.9166666666666666, 0.7722222222222223, 0.6777777777777778, 0.5777777777777777, 0.8111111111111111, 0.7722222222222223, 0.85, 0.9166666666666666, 0.8944444444444445, 0.8666666666666667, 0.6, 0.6333333333333333, 0.9111111111111111, 0.9444444444444444, 0.7444444444444445, 0.9611111111111111, 0.9222222222222223, 0.9666666666666667, 0.8888888888888888, 0.6277777777777778, 0.8722222222222222, 0.8388888888888889, 0.9388888888888889, 0.6611111111111111, 0.9611111111111111, 0.9277777777777778, 0.49444444444444446, 0.4666666666666667, 0.8055555555555556, 0.8388888888888889, 0.6055555555555555, 0.9, 0.8833333333333333, 0.6888888888888889, 0.8444444444444444, 0.9111111111111111, 0.9944444444444445, 0.8444444444444444, 0.9055555555555556, 0.8777777777777778, 0.9, 0.8666666666666667, 0.9555555555555556, 0.9444444444444444, 0.8611111111111112, 0.6444444444444445, 0.9277777777777778, 0.38333333333333336, 0.45555555555555555, 0.9944444444444445, 0.7666666666666667, 0.9444444444444444, 0.7444444444444445, 0.8388888888888889, 0.9222222222222223, 0.6, 0.8111111111111111, 0.8666666666666667, 0.9, 0.7722222222222223, 0.9, 0.9444444444444444, 0.5055555555555555, 0.6611111111111111, 0.2611111111111111, 0.9111111111111111, 0.12222222222222222, 0.9388888888888889, 0.36666666666666664, 0.5611111111111111, 0.95, 0.9277777777777778, 0.7833333333333333, 0.9166666666666666, 0.9111111111111111, 0.9777777777777777, 0.9555555555555556, 0.65, 0.40555555555555556, 0.5333333333333333, 0.9555555555555556, 0.7111111111111111, 0.9222222222222223, 0.6611111111111111, 0.35, 0.9222222222222223, 0.7555555555555555, 0.9333333333333333, 0.8, 0.85, 0.7888888888888889, 0.9277777777777778, 1.0, 0.5333333333333333, 0.8944444444444445, 0.9222222222222223, 0.8444444444444444, 0.5666666666666667, 0.42777777777777776, 0.9, 0.8388888888888889, 0.7944444444444444, 0.8722222222222222, 0.9277777777777778, 0.7888888888888889, 0.5333333333333333, 0.7555555555555555, 0.8222222222222222, 0.9388888888888889, 0.8611111111111112, 0.9, 0.5611111111111111, 0.7555555555555555, 0.8666666666666667, 0.9055555555555556, 0.12777777777777777, 0.9222222222222223, 0.4166666666666667, 0.95, 0.7722222222222223, 0.9, 0.9444444444444444, 0.9388888888888889, 0.6277777777777778, 0.7222222222222222, 0.8277777777777777, 0.9333333333333333, 0.7111111111111111, 0.35, 0.6944444444444444, 0.8388888888888889, 0.38333333333333336, 0.7111111111111111, 0.8111111111111111, 0.7666666666666667, 0.8944444444444445, 0.9055555555555556, 0.9166666666666666, 0.8944444444444445, 0.8888888888888888, 0.6444444444444445, 0.8444444444444444, 0.9277777777777778, 0.6, 0.8888888888888888, 0.8833333333333333, 0.8944444444444445, 0.35555555555555557, 0.8944444444444445, 0.7944444444444444, 0.9277777777777778, 0.8277777777777777, 0.9444444444444444, 0.8666666666666667, 0.8722222222222222, 0.9277777777777778, 0.40555555555555556, 0.85, 0.9111111111111111, 0.9722222222222222, 0.8166666666666667, 0.7944444444444444, 0.8111111111111111, 0.6555555555555556, 0.7722222222222223, 0.85, 0.8111111111111111, 0.8055555555555556, 0.9222222222222223, 0.8555555555555555, 0.4444444444444444, 0.95, 0.8444444444444444, 0.8888888888888888, 0.7611111111111111, 0.9055555555555556, 0.4, 0.9555555555555556, 0.5333333333333333, 0.9666666666666667, 0.8611111111111112, 0.8722222222222222, 0.6222222222222222, 0.6333333333333333, 0.8888888888888888, 0.6722222222222223, 0.9333333333333333, 0.95, 0.3611111111111111, 0.7611111111111111, 0.7444444444444445, 0.7222222222222222, 0.6722222222222223, 0.5333333333333333, 0.12777777777777777, 0.9555555555555556, 0.75, 0.8611111111111112, 0.6444444444444445, 0.8888888888888888, 0.7833333333333333, 0.48333333333333334, 0.5555555555555556, 0.9166666666666666, 0.7944444444444444, 0.34444444444444444, 0.25, 0.9444444444444444, 0.7055555555555556, 0.3888888888888889, 0.9222222222222223, 0.36666666666666664, 0.12777777777777777, 0.8222222222222222, 0.8777777777777778, 0.6611111111111111, 0.8333333333333334, 0.9277777777777778, 0.3333333333333333, 0.6611111111111111, 0.9944444444444445, 0.5333333333333333, 0.9222222222222223, 0.85, 0.7277777777777777, 0.6611111111111111, 0.95, 0.8277777777777777, 0.95, 0.9, 0.7333333333333333, 0.9333333333333333, 0.9944444444444445, 0.9388888888888889, 0.9722222222222222, 0.7277777777777777, 0.8333333333333334, 0.8611111111111112, 0.8, 0.6833333333333333, 0.8777777777777778, 0.49444444444444446, 0.9055555555555556, 0.12222222222222222]\n"
          ],
          "name": "stdout"
        }
      ]
    },
    {
      "cell_type": "markdown",
      "metadata": {
        "id": "lC_dI81IaPrt"
      },
      "source": [
        "## Evaluate teacher models"
      ]
    },
    {
      "cell_type": "code",
      "metadata": {
        "id": "pOFAdB2Pb2rk",
        "outputId": "037219e0-465d-437f-fde6-de4b9d2624c5",
        "colab": {
          "base_uri": "https://localhost:8080/",
          "height": 34
        }
      },
      "source": [
        "batch_size = 1024\n",
        "testloader = data.DataLoader(mnist_testset, batch_size=batch_size, shuffle=False, drop_last=True)\n",
        "\n",
        "preds_mat = []\n",
        "total_acc = 0\n",
        "for images, labels in testloader:\n",
        "  images = images.view(images.shape[0], -1)\n",
        "\n",
        "  images = images.to(device)\n",
        "  labels = labels.to(device)\n",
        "\n",
        "  preds_list = []\n",
        "  with torch.no_grad():\n",
        "    for classifier in teacher_models:\n",
        "      classifier.eval()\n",
        "\n",
        "      output = classifier(images)\n",
        "      preds_list.append(output.exp().argmax(dim=1).cpu())\n",
        "\n",
        "      total_acc += (output.exp().argmax(dim=1) == labels).sum().item()\n",
        "    \n",
        "  preds_mat.append(preds_list)      \n",
        "\n",
        "print(\"Average accuracy: \", total_acc / (num_teachers * batch_size * len(testloader)))\n"
      ],
      "execution_count": null,
      "outputs": [
        {
          "output_type": "stream",
          "text": [
            "Average accuracy:  0.5439587673611112\n"
          ],
          "name": "stdout"
        }
      ]
    },
    {
      "cell_type": "code",
      "metadata": {
        "id": "T8ZVHDDsNonk",
        "outputId": "68c9e86c-666e-4871-8f87-d6c13445c53b",
        "colab": {
          "base_uri": "https://localhost:8080/",
          "height": 52
        }
      },
      "source": [
        "print(len(preds_mat))\n",
        "print(num_teachers)"
      ],
      "execution_count": null,
      "outputs": [
        {
          "output_type": "stream",
          "text": [
            "9\n",
            "250\n"
          ],
          "name": "stdout"
        }
      ]
    },
    {
      "cell_type": "code",
      "metadata": {
        "id": "NprvAROeCC-o",
        "outputId": "db6e6136-f071-44ec-86fe-f452ea192d64",
        "colab": {
          "base_uri": "https://localhost:8080/",
          "height": 34
        }
      },
      "source": [
        "import numpy as np\n",
        "\n",
        "preds_tensor = torch.cat([torch.stack(preds_list, dim=0) for preds_list in preds_mat], dim=1)\n",
        "preds_counts = torch.tensor(np.apply_along_axis(lambda x: np.bincount(x, minlength=10), axis=0, arr=preds_tensor.numpy()))\n",
        "\n",
        "aggregate_preds = preds_counts.argmax(dim=0)\n",
        "labels = torch.cat([labels for _, labels in testloader], dim=0)\n",
        "\n",
        "aggregate_acc = (aggregate_preds == labels).float().mean().item()\n",
        "\n",
        "print(\"Aggregate accuracy: \", aggregate_acc)"
      ],
      "execution_count": null,
      "outputs": [
        {
          "output_type": "stream",
          "text": [
            "Aggregate accuracy:  0.8728298544883728\n"
          ],
          "name": "stdout"
        }
      ]
    },
    {
      "cell_type": "markdown",
      "metadata": {
        "id": "XO6sT3mDD1MN"
      },
      "source": [
        "## Aggreate teacher models"
      ]
    },
    {
      "cell_type": "code",
      "metadata": {
        "id": "y8f8VjXeIFN6"
      },
      "source": [
        "import torch.distributions as dists"
      ],
      "execution_count": null,
      "outputs": []
    },
    {
      "cell_type": "code",
      "metadata": {
        "id": "D6cFpBfzD5W_"
      },
      "source": [
        "def aggregate_counts(images):\n",
        "\n",
        "  preds_list = []\n",
        "  with torch.no_grad():\n",
        "    for model in teacher_models:\n",
        "      model.eval()\n",
        "      preds_list.append(model(images).exp().argmax(dim=1).cpu())\n",
        "\n",
        "  preds_tensor = torch.stack(preds_list, dim=0)\n",
        "  counts = torch.tensor(np.apply_along_axis(lambda x: np.bincount(x, minlength=10), axis=0, arr=preds_tensor.numpy()))\n",
        "\n",
        "  return counts.transpose(0,1), preds_tensor"
      ],
      "execution_count": null,
      "outputs": []
    },
    {
      "cell_type": "markdown",
      "metadata": {
        "id": "qlmWAMc6Hu4Q"
      },
      "source": [
        "## Train the student model"
      ]
    },
    {
      "cell_type": "code",
      "metadata": {
        "id": "20el0tgLEvGC",
        "outputId": "8ff789b0-67a2-4d65-b701-0bcb3e4691b9",
        "colab": {
          "base_uri": "https://localhost:8080/",
          "height": 1000
        }
      },
      "source": [
        "lr = 3e-2\n",
        "epsilon = 0.05\n",
        "num_epochs = 20\n",
        "\n",
        "student = model()\n",
        "\n",
        "laplacian_mechanism = dists.Laplace(torch.zeros([], dtype=torch.float), torch.tensor(1/epsilon, dtype=torch.float))\n",
        "\n",
        "trainloader = data.DataLoader(student_dataset, batch_size=1024, shuffle=False, drop_last=True)\n",
        "optimizer = optim.Adam(student.parameters(), lr=lr)\n",
        "criterion = nn.NLLLoss()\n",
        "\n",
        "teacher_preds = []\n",
        "noisy_labels = []\n",
        "\n",
        "student.to(device)\n",
        "for epoch in range(num_epochs):\n",
        "  total_loss = 0\n",
        "  total_acc = 0\n",
        "  for images, _ in trainloader:  \n",
        "    images = images.view(images.shape[0], -1)  \n",
        "    images = images.to(device)\n",
        "    \n",
        "    label_pred_counts, label_preds = aggregate_counts(images)\n",
        "    teacher_preds.append(label_preds)\n",
        "    labels = (label_pred_counts + laplacian_mechanism.sample(label_pred_counts.size())).argmax(dim=1)\n",
        "    noisy_labels.append(labels)\n",
        "    \n",
        "    labels = labels.to(device)\n",
        "\n",
        "    output = student(images)\n",
        "    optimizer.zero_grad()\n",
        "    loss = criterion(output, labels)\n",
        "    loss.backward()\n",
        "    optimizer.step()\n",
        "\n",
        "    total_loss += loss.item()\n",
        "    total_acc += (output.exp().argmax(dim=1) == labels).sum().item()\n",
        "    \n",
        "  print('Epoch {0}/{1}'.format(epoch + 1, num_epochs))\n",
        "  print('avg_losses:{0}\\n avg_accuracies: {1}'.format(total_loss / len(trainloader), total_acc / (batch_size * len(trainloader))))\n",
        "\n",
        "teacher_preds = torch.cat(teacher_preds, dim=1)\n",
        "noisy_labels = torch.cat(noisy_labels)"
      ],
      "execution_count": null,
      "outputs": [
        {
          "output_type": "stream",
          "text": [
            "Epoch 1/20\n",
            "avg_losses:7.209403885735406\n",
            " avg_accuracies: 0.1545138888888889\n",
            "Epoch 2/20\n",
            "avg_losses:1.918307688501146\n",
            " avg_accuracies: 0.3576388888888889\n",
            "Epoch 3/20\n",
            "avg_losses:1.5063204632865057\n",
            " avg_accuracies: 0.5005425347222222\n",
            "Epoch 4/20\n",
            "avg_losses:1.2518766588634915\n",
            " avg_accuracies: 0.5458984375\n",
            "Epoch 5/20\n",
            "avg_losses:1.0999530752499898\n",
            " avg_accuracies: 0.6043836805555556\n",
            "Epoch 6/20\n",
            "avg_losses:1.0128992464807298\n",
            " avg_accuracies: 0.6228298611111112\n",
            "Epoch 7/20\n",
            "avg_losses:0.9395002921422323\n",
            " avg_accuracies: 0.6871744791666666\n",
            "Epoch 8/20\n",
            "avg_losses:0.8726597494549222\n",
            " avg_accuracies: 0.7059461805555556\n",
            "Epoch 9/20\n",
            "avg_losses:0.8611497150527107\n",
            " avg_accuracies: 0.7150607638888888\n",
            "Epoch 10/20\n",
            "avg_losses:0.8311778704325358\n",
            " avg_accuracies: 0.7296006944444444\n",
            "Epoch 11/20\n",
            "avg_losses:0.80228810177909\n",
            " avg_accuracies: 0.7428385416666666\n",
            "Epoch 12/20\n",
            "avg_losses:0.7575584252675375\n",
            " avg_accuracies: 0.7648654513888888\n",
            "Epoch 13/20\n",
            "avg_losses:0.7401336630185446\n",
            " avg_accuracies: 0.7692057291666666\n",
            "Epoch 14/20\n",
            "avg_losses:0.7668681210941739\n",
            " avg_accuracies: 0.7612847222222222\n",
            "Epoch 15/20\n",
            "avg_losses:0.78839553727044\n",
            " avg_accuracies: 0.7475043402777778\n",
            "Epoch 16/20\n",
            "avg_losses:0.7945777310265435\n",
            " avg_accuracies: 0.7466362847222222\n",
            "Epoch 17/20\n",
            "avg_losses:0.7757167352570428\n",
            " avg_accuracies: 0.7527126736111112\n",
            "Epoch 18/20\n",
            "avg_losses:0.748894194761912\n",
            " avg_accuracies: 0.7644314236111112\n",
            "Epoch 19/20\n",
            "avg_losses:0.7557819816801283\n",
            " avg_accuracies: 0.7584635416666666\n",
            "Epoch 20/20\n",
            "avg_losses:0.7496332857343886\n",
            " avg_accuracies: 0.7702907986111112\n"
          ],
          "name": "stdout"
        }
      ]
    },
    {
      "cell_type": "markdown",
      "metadata": {
        "id": "DAp7ElN2RmdY"
      },
      "source": [
        "## Evaluate student model"
      ]
    },
    {
      "cell_type": "code",
      "metadata": {
        "id": "PjlWwFidW7VD",
        "outputId": "ee894b7e-fdda-4f04-abb3-6c5de8ed39c6",
        "colab": {
          "base_uri": "https://localhost:8080/",
          "height": 34
        }
      },
      "source": [
        "total_acc = 0\n",
        "for images, labels in testloader:\n",
        "  images = images.view(images.shape[0], -1)\n",
        "\n",
        "  images = images.to(device)\n",
        "  labels = labels.to(device)\n",
        "  \n",
        "  student.eval()\n",
        "  with torch.no_grad():\n",
        "\n",
        "    output = student(images)\n",
        "\n",
        "    total_acc += (output.exp().argmax(dim=1) == labels).sum().item()\n",
        "\n",
        "print(\"Average accuracy: \", total_acc / (batch_size * len(testloader)))\n"
      ],
      "execution_count": null,
      "outputs": [
        {
          "output_type": "stream",
          "text": [
            "Average accuracy:  0.7387152777777778\n"
          ],
          "name": "stdout"
        }
      ]
    },
    {
      "cell_type": "markdown",
      "metadata": {
        "id": "YeA95qhBXgtv"
      },
      "source": [
        "## PATE Analysis"
      ]
    },
    {
      "cell_type": "code",
      "metadata": {
        "id": "xu7fIQ4nZJKi"
      },
      "source": [
        "from syft.frameworks.torch.dp import pate"
      ],
      "execution_count": null,
      "outputs": []
    },
    {
      "cell_type": "code",
      "metadata": {
        "id": "HgHRCEozXjMB",
        "outputId": "785d8c39-203d-4962-c914-8c9606237725",
        "colab": {
          "base_uri": "https://localhost:8080/",
          "height": 52
        }
      },
      "source": [
        "# Noisy Predictions as indices\n",
        "data_dep_eps, data_indep_eps = pate.perform_analysis(teacher_preds.numpy(), noisy_labels.numpy(), epsilon, moments=18)\n",
        "print(\"Data Independent Epsilon:\", data_indep_eps)\n",
        "print(\"Data Dependent Epsilon:  \", data_dep_eps)"
      ],
      "execution_count": null,
      "outputs": [
        {
          "output_type": "stream",
          "text": [
            "Data Independent Epsilon: 1854.7129254649706\n",
            "Data Dependent Epsilon:   1540.9990873128033\n"
          ],
          "name": "stdout"
        }
      ]
    },
    {
      "cell_type": "code",
      "metadata": {
        "id": "sR9h3LkQb8kv"
      },
      "source": [
        "# Predictions without Noise as indices\n",
        "data_dep_eps, data_indep_eps = pate.perform_analysis(teacher_preds.numpy(), np.argmax(np.apply_along_axis(lambda x: np.bincount(x, None, 10), 0, teacher_preds.numpy()), 0), epsilon, moments=18)\n",
        "print(\"Data Independent Epsilon:\", data_indep_eps)\n",
        "print(\"Data Dependent Epsilon:  \", data_dep_eps)"
      ],
      "execution_count": null,
      "outputs": []
    },
    {
      "cell_type": "code",
      "metadata": {
        "id": "fuBa_cW6b-Zl"
      },
      "source": [
        "# True Labels as indices\n",
        "data_dep_eps, data_indep_eps = pate.perform_analysis(teacher_preds.numpy(), mnist_testset.true_targets[student_labeled_dataset.indices], epsilon, moments=18)\n",
        "print(\"Data Independent Epsilon:\", data_indep_eps)\n",
        "print(\"Data Dependent Epsilon:  \", data_dep_eps)"
      ],
      "execution_count": null,
      "outputs": []
    }
  ]
}